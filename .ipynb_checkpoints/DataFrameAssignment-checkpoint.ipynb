{
 "cells": [
  {
   "cell_type": "markdown",
   "id": "74c60396-45bf-4aaa-bebd-a4d5a01acce4",
   "metadata": {},
   "source": [
    "DataFrame is a 2-dimensional labeled data structure with columns of potentially different types. We can think of it like a spreadsheet or SQL table. It is generally the most commonly used pandas object."
   ]
  },
  {
   "cell_type": "markdown",
   "id": "5db157c2-75cc-49eb-955d-67923dc65cff",
   "metadata": {},
   "source": [
    "Here, I'm working with\n",
    "more advanced features of DataFrame like\n",
    "sorting data, answering analytical questions\n",
    "using the data, cleaning data and applying\n",
    "different useful functions on the data."
   ]
  },
  {
   "cell_type": "markdown",
   "id": "1c13428f-2643-4095-a7e6-86069345b5b6",
   "metadata": {},
   "source": [
    " **Store the Result data in a DataFrame called StudentMarks.**"
   ]
  },
  {
   "cell_type": "code",
   "execution_count": 1037,
   "id": "70caf7df-3765-40fd-a0a8-45e7fc759efd",
   "metadata": {},
   "outputs": [],
   "source": [
    "import pandas as pd\n",
    "StudentMarks= {\n",
    "    'Name':['Suci','Suci','Suci','Srabanti','Srabanti','Srabanti', 'Ashravy','Ashravy','Ashravy','Mishti','Mishti','Mishti'],\n",
    " 'UnitTest':[1,2,3,1,2,3,1,2,3,1,2,3],\n",
    " 'DataMining':[22,21,14,20,23,22,23,24,12,15,18,17],\n",
    " 'AI':[21,20,19,17,15,18,19,22,25,22,21,18],\n",
    " 'Graphics':[18,17,15,22,21,19,20,24,19,25,25,20],\n",
    " 'ImageProcessing':[20,22,24,24,25,23,15,17,21,22,24,25],\n",
    " 'Cryptography':[21,24,23,19,15,13,22,21,23,22,23,20]\n",
    " }\n",
    " \n"
   ]
  },
  {
   "cell_type": "code",
   "execution_count": 1038,
   "id": "82886ff0-613c-4616-a014-26beaf0a8102",
   "metadata": {},
   "outputs": [
    {
     "data": {
      "text/html": [
       "<div>\n",
       "<style scoped>\n",
       "    .dataframe tbody tr th:only-of-type {\n",
       "        vertical-align: middle;\n",
       "    }\n",
       "\n",
       "    .dataframe tbody tr th {\n",
       "        vertical-align: top;\n",
       "    }\n",
       "\n",
       "    .dataframe thead th {\n",
       "        text-align: right;\n",
       "    }\n",
       "</style>\n",
       "<table border=\"1\" class=\"dataframe\">\n",
       "  <thead>\n",
       "    <tr style=\"text-align: right;\">\n",
       "      <th></th>\n",
       "      <th>Name</th>\n",
       "      <th>UnitTest</th>\n",
       "      <th>DataMining</th>\n",
       "      <th>AI</th>\n",
       "      <th>Graphics</th>\n",
       "      <th>ImageProcessing</th>\n",
       "      <th>Cryptography</th>\n",
       "    </tr>\n",
       "  </thead>\n",
       "  <tbody>\n",
       "    <tr>\n",
       "      <th>0</th>\n",
       "      <td>Suci</td>\n",
       "      <td>1</td>\n",
       "      <td>22</td>\n",
       "      <td>21</td>\n",
       "      <td>18</td>\n",
       "      <td>20</td>\n",
       "      <td>21</td>\n",
       "    </tr>\n",
       "    <tr>\n",
       "      <th>1</th>\n",
       "      <td>Suci</td>\n",
       "      <td>2</td>\n",
       "      <td>21</td>\n",
       "      <td>20</td>\n",
       "      <td>17</td>\n",
       "      <td>22</td>\n",
       "      <td>24</td>\n",
       "    </tr>\n",
       "    <tr>\n",
       "      <th>2</th>\n",
       "      <td>Suci</td>\n",
       "      <td>3</td>\n",
       "      <td>14</td>\n",
       "      <td>19</td>\n",
       "      <td>15</td>\n",
       "      <td>24</td>\n",
       "      <td>23</td>\n",
       "    </tr>\n",
       "    <tr>\n",
       "      <th>3</th>\n",
       "      <td>Srabanti</td>\n",
       "      <td>1</td>\n",
       "      <td>20</td>\n",
       "      <td>17</td>\n",
       "      <td>22</td>\n",
       "      <td>24</td>\n",
       "      <td>19</td>\n",
       "    </tr>\n",
       "    <tr>\n",
       "      <th>4</th>\n",
       "      <td>Srabanti</td>\n",
       "      <td>2</td>\n",
       "      <td>23</td>\n",
       "      <td>15</td>\n",
       "      <td>21</td>\n",
       "      <td>25</td>\n",
       "      <td>15</td>\n",
       "    </tr>\n",
       "    <tr>\n",
       "      <th>5</th>\n",
       "      <td>Srabanti</td>\n",
       "      <td>3</td>\n",
       "      <td>22</td>\n",
       "      <td>18</td>\n",
       "      <td>19</td>\n",
       "      <td>23</td>\n",
       "      <td>13</td>\n",
       "    </tr>\n",
       "    <tr>\n",
       "      <th>6</th>\n",
       "      <td>Ashravy</td>\n",
       "      <td>1</td>\n",
       "      <td>23</td>\n",
       "      <td>19</td>\n",
       "      <td>20</td>\n",
       "      <td>15</td>\n",
       "      <td>22</td>\n",
       "    </tr>\n",
       "    <tr>\n",
       "      <th>7</th>\n",
       "      <td>Ashravy</td>\n",
       "      <td>2</td>\n",
       "      <td>24</td>\n",
       "      <td>22</td>\n",
       "      <td>24</td>\n",
       "      <td>17</td>\n",
       "      <td>21</td>\n",
       "    </tr>\n",
       "    <tr>\n",
       "      <th>8</th>\n",
       "      <td>Ashravy</td>\n",
       "      <td>3</td>\n",
       "      <td>12</td>\n",
       "      <td>25</td>\n",
       "      <td>19</td>\n",
       "      <td>21</td>\n",
       "      <td>23</td>\n",
       "    </tr>\n",
       "    <tr>\n",
       "      <th>9</th>\n",
       "      <td>Mishti</td>\n",
       "      <td>1</td>\n",
       "      <td>15</td>\n",
       "      <td>22</td>\n",
       "      <td>25</td>\n",
       "      <td>22</td>\n",
       "      <td>22</td>\n",
       "    </tr>\n",
       "    <tr>\n",
       "      <th>10</th>\n",
       "      <td>Mishti</td>\n",
       "      <td>2</td>\n",
       "      <td>18</td>\n",
       "      <td>21</td>\n",
       "      <td>25</td>\n",
       "      <td>24</td>\n",
       "      <td>23</td>\n",
       "    </tr>\n",
       "    <tr>\n",
       "      <th>11</th>\n",
       "      <td>Mishti</td>\n",
       "      <td>3</td>\n",
       "      <td>17</td>\n",
       "      <td>18</td>\n",
       "      <td>20</td>\n",
       "      <td>25</td>\n",
       "      <td>20</td>\n",
       "    </tr>\n",
       "  </tbody>\n",
       "</table>\n",
       "</div>"
      ],
      "text/plain": [
       "        Name  UnitTest  DataMining  AI  Graphics  ImageProcessing  \\\n",
       "0       Suci         1          22  21        18               20   \n",
       "1       Suci         2          21  20        17               22   \n",
       "2       Suci         3          14  19        15               24   \n",
       "3   Srabanti         1          20  17        22               24   \n",
       "4   Srabanti         2          23  15        21               25   \n",
       "5   Srabanti         3          22  18        19               23   \n",
       "6    Ashravy         1          23  19        20               15   \n",
       "7    Ashravy         2          24  22        24               17   \n",
       "8    Ashravy         3          12  25        19               21   \n",
       "9     Mishti         1          15  22        25               22   \n",
       "10    Mishti         2          18  21        25               24   \n",
       "11    Mishti         3          17  18        20               25   \n",
       "\n",
       "    Cryptography  \n",
       "0             21  \n",
       "1             24  \n",
       "2             23  \n",
       "3             19  \n",
       "4             15  \n",
       "5             13  \n",
       "6             22  \n",
       "7             21  \n",
       "8             23  \n",
       "9             22  \n",
       "10            23  \n",
       "11            20  "
      ]
     },
     "execution_count": 1038,
     "metadata": {},
     "output_type": "execute_result"
    }
   ],
   "source": [
    "MarksInformation=pd.DataFrame(StudentMarks)\n",
    "MarksInformation"
   ]
  },
  {
   "cell_type": "markdown",
   "id": "e6c0cf42-da0a-466f-bf91-e787d35efddc",
   "metadata": {},
   "source": [
    "**Calculating Maximum Values**"
   ]
  },
  {
   "cell_type": "code",
   "execution_count": 1039,
   "id": "40524a45-7900-4ca7-bebb-f6ad7cbfc27b",
   "metadata": {},
   "outputs": [
    {
     "name": "stdout",
     "output_type": "stream",
     "text": [
      "Name               Suci\n",
      "UnitTest              3\n",
      "DataMining           24\n",
      "AI                   25\n",
      "Graphics             25\n",
      "ImageProcessing      25\n",
      "Cryptography         24\n",
      "dtype: object\n"
     ]
    }
   ],
   "source": [
    " print(MarksInformation.max())"
   ]
  },
  {
   "cell_type": "markdown",
   "id": "94eca492-3834-43d6-9eb0-0f38201e7d53",
   "metadata": {},
   "source": [
    "**If we want to output maximum value for the columns\n",
    "having only numeric values, then we can set the\n",
    "parameter numeric_only=True in the max() method, as\n",
    "shown below:**"
   ]
  },
  {
   "cell_type": "code",
   "execution_count": 1040,
   "id": "d0272b81-298c-4703-a079-27c99725d713",
   "metadata": {},
   "outputs": [
    {
     "name": "stdout",
     "output_type": "stream",
     "text": [
      "UnitTest            3\n",
      "DataMining         24\n",
      "AI                 25\n",
      "Graphics           25\n",
      "ImageProcessing    25\n",
      "Cryptography       24\n",
      "dtype: int64\n"
     ]
    }
   ],
   "source": [
    " print(MarksInformation.max(numeric_only=True))"
   ]
  },
  {
   "cell_type": "markdown",
   "id": "dbb04c50-b337-4971-82eb-8efd9b297116",
   "metadata": {},
   "source": [
    "**Write the statements to output the maximum marks obtained in each subject in Unit Test 2.**"
   ]
  },
  {
   "cell_type": "code",
   "execution_count": 1041,
   "id": "8cf3ac41-736e-41ed-aa6e-7c62da591f18",
   "metadata": {},
   "outputs": [
    {
     "name": "stdout",
     "output_type": "stream",
     "text": [
      "\n",
      "Result of Unit Test 2:\n",
      "\n",
      "\n"
     ]
    },
    {
     "data": {
      "text/html": [
       "<div>\n",
       "<style scoped>\n",
       "    .dataframe tbody tr th:only-of-type {\n",
       "        vertical-align: middle;\n",
       "    }\n",
       "\n",
       "    .dataframe tbody tr th {\n",
       "        vertical-align: top;\n",
       "    }\n",
       "\n",
       "    .dataframe thead th {\n",
       "        text-align: right;\n",
       "    }\n",
       "</style>\n",
       "<table border=\"1\" class=\"dataframe\">\n",
       "  <thead>\n",
       "    <tr style=\"text-align: right;\">\n",
       "      <th></th>\n",
       "      <th>Name</th>\n",
       "      <th>UnitTest</th>\n",
       "      <th>DataMining</th>\n",
       "      <th>AI</th>\n",
       "      <th>Graphics</th>\n",
       "      <th>ImageProcessing</th>\n",
       "      <th>Cryptography</th>\n",
       "    </tr>\n",
       "  </thead>\n",
       "  <tbody>\n",
       "    <tr>\n",
       "      <th>1</th>\n",
       "      <td>Suci</td>\n",
       "      <td>2</td>\n",
       "      <td>21</td>\n",
       "      <td>20</td>\n",
       "      <td>17</td>\n",
       "      <td>22</td>\n",
       "      <td>24</td>\n",
       "    </tr>\n",
       "    <tr>\n",
       "      <th>4</th>\n",
       "      <td>Srabanti</td>\n",
       "      <td>2</td>\n",
       "      <td>23</td>\n",
       "      <td>15</td>\n",
       "      <td>21</td>\n",
       "      <td>25</td>\n",
       "      <td>15</td>\n",
       "    </tr>\n",
       "    <tr>\n",
       "      <th>7</th>\n",
       "      <td>Ashravy</td>\n",
       "      <td>2</td>\n",
       "      <td>24</td>\n",
       "      <td>22</td>\n",
       "      <td>24</td>\n",
       "      <td>17</td>\n",
       "      <td>21</td>\n",
       "    </tr>\n",
       "    <tr>\n",
       "      <th>10</th>\n",
       "      <td>Mishti</td>\n",
       "      <td>2</td>\n",
       "      <td>18</td>\n",
       "      <td>21</td>\n",
       "      <td>25</td>\n",
       "      <td>24</td>\n",
       "      <td>23</td>\n",
       "    </tr>\n",
       "  </tbody>\n",
       "</table>\n",
       "</div>"
      ],
      "text/plain": [
       "        Name  UnitTest  DataMining  AI  Graphics  ImageProcessing  \\\n",
       "1       Suci         2          21  20        17               22   \n",
       "4   Srabanti         2          23  15        21               25   \n",
       "7    Ashravy         2          24  22        24               17   \n",
       "10    Mishti         2          18  21        25               24   \n",
       "\n",
       "    Cryptography  \n",
       "1             24  \n",
       "4             15  \n",
       "7             21  \n",
       "10            23  "
      ]
     },
     "execution_count": 1041,
     "metadata": {},
     "output_type": "execute_result"
    }
   ],
   "source": [
    "UnitTest2 = MarksInformation[MarksInformation.UnitTest == 2]\n",
    "print(f'\\nResult of Unit Test 2:\\n\\n')\n",
    "UnitTest2"
   ]
  },
  {
   "cell_type": "code",
   "execution_count": 1042,
   "id": "7c972c83-aaea-4abc-8d6e-b685cd0dd871",
   "metadata": {},
   "outputs": [
    {
     "name": "stdout",
     "output_type": "stream",
     "text": [
      "\n",
      "Maximum Mark obtained in Each Subject in Unit Test 2: \n",
      "\n",
      "UnitTest            2\n",
      "DataMining         24\n",
      "AI                 22\n",
      "Graphics           25\n",
      "ImageProcessing    25\n",
      "Cryptography       24\n",
      "dtype: int64\n"
     ]
    }
   ],
   "source": [
    "print(f'\\nMaximum Mark obtained in Each Subject in Unit Test 2: \\n\\n{UnitTest2.max(numeric_only=True)}')"
   ]
  },
  {
   "cell_type": "markdown",
   "id": "54fef243-d531-43c3-9790-9559f94252f9",
   "metadata": {},
   "source": [
    "By default, the max() method finds the maximum\n",
    "value of each column (which means, axis=0). However,\n",
    "to find the maximum value of each row, we have to\n",
    "specify axis = 1 as its argument. \n"
   ]
  },
  {
   "cell_type": "markdown",
   "id": "4db1499c-afd2-4394-8f23-76739ecdd0e6",
   "metadata": {},
   "source": [
    "**maximum marks for each student in each unit test among all the subjects**"
   ]
  },
  {
   "cell_type": "code",
   "execution_count": 1043,
   "id": "6b4f5c00-5250-4750-8747-abc524e2413b",
   "metadata": {},
   "outputs": [
    {
     "data": {
      "text/plain": [
       "0     22\n",
       "1     24\n",
       "2     24\n",
       "3     24\n",
       "4     25\n",
       "5     23\n",
       "6     23\n",
       "7     24\n",
       "8     25\n",
       "9     25\n",
       "10    25\n",
       "11    25\n",
       "dtype: int64"
      ]
     },
     "execution_count": 1043,
     "metadata": {},
     "output_type": "execute_result"
    }
   ],
   "source": [
    " MarksInformation.max(numeric_only=True,axis=1)\n"
   ]
  },
  {
   "cell_type": "markdown",
   "id": "3341adb3-3de9-4c5f-85cc-b16b1cb60cbf",
   "metadata": {},
   "source": [
    "**Calculating Minimum Values**"
   ]
  },
  {
   "cell_type": "code",
   "execution_count": 1044,
   "id": "79e6fb74-166f-4ecc-bf21-634d6b7fc02b",
   "metadata": {},
   "outputs": [
    {
     "name": "stdout",
     "output_type": "stream",
     "text": [
      "UnitTest            1\n",
      "DataMining         12\n",
      "AI                 15\n",
      "Graphics           15\n",
      "ImageProcessing    15\n",
      "Cryptography       13\n",
      "dtype: int64\n"
     ]
    }
   ],
   "source": [
    " print( MarksInformation.min(numeric_only=True))\n"
   ]
  },
  {
   "cell_type": "code",
   "execution_count": 1045,
   "id": "abd85116-d223-45bb-85bf-8caeb6932fdd",
   "metadata": {},
   "outputs": [
    {
     "data": {
      "text/plain": [
       "Name               Ashravy\n",
       "UnitTest                 1\n",
       "DataMining              12\n",
       "AI                      15\n",
       "Graphics                15\n",
       "ImageProcessing         15\n",
       "Cryptography            13\n",
       "dtype: object"
      ]
     },
     "execution_count": 1045,
     "metadata": {},
     "output_type": "execute_result"
    }
   ],
   "source": [
    "MarksInformation.min()"
   ]
  },
  {
   "cell_type": "markdown",
   "id": "bef6fe42-a694-45cd-83f7-a725dbaec3d5",
   "metadata": {},
   "source": [
    "Write the statements to display the\n",
    "minimum marks obtained by a particular\n",
    "student ‘Suci’ in all the unit tests for\n",
    "each subject."
   ]
  },
  {
   "cell_type": "code",
   "execution_count": 1046,
   "id": "9da9c3bf-3882-4a0e-b92f-b4eda715faca",
   "metadata": {},
   "outputs": [
    {
     "name": "stdout",
     "output_type": "stream",
     "text": [
      "\n",
      "Marks obtained by Suci in all the Unit Tests \n",
      "\n",
      "\n"
     ]
    },
    {
     "data": {
      "text/html": [
       "<div>\n",
       "<style scoped>\n",
       "    .dataframe tbody tr th:only-of-type {\n",
       "        vertical-align: middle;\n",
       "    }\n",
       "\n",
       "    .dataframe tbody tr th {\n",
       "        vertical-align: top;\n",
       "    }\n",
       "\n",
       "    .dataframe thead th {\n",
       "        text-align: right;\n",
       "    }\n",
       "</style>\n",
       "<table border=\"1\" class=\"dataframe\">\n",
       "  <thead>\n",
       "    <tr style=\"text-align: right;\">\n",
       "      <th></th>\n",
       "      <th>Name</th>\n",
       "      <th>UnitTest</th>\n",
       "      <th>DataMining</th>\n",
       "      <th>AI</th>\n",
       "      <th>Graphics</th>\n",
       "      <th>ImageProcessing</th>\n",
       "      <th>Cryptography</th>\n",
       "    </tr>\n",
       "  </thead>\n",
       "  <tbody>\n",
       "    <tr>\n",
       "      <th>0</th>\n",
       "      <td>Suci</td>\n",
       "      <td>1</td>\n",
       "      <td>22</td>\n",
       "      <td>21</td>\n",
       "      <td>18</td>\n",
       "      <td>20</td>\n",
       "      <td>21</td>\n",
       "    </tr>\n",
       "    <tr>\n",
       "      <th>1</th>\n",
       "      <td>Suci</td>\n",
       "      <td>2</td>\n",
       "      <td>21</td>\n",
       "      <td>20</td>\n",
       "      <td>17</td>\n",
       "      <td>22</td>\n",
       "      <td>24</td>\n",
       "    </tr>\n",
       "    <tr>\n",
       "      <th>2</th>\n",
       "      <td>Suci</td>\n",
       "      <td>3</td>\n",
       "      <td>14</td>\n",
       "      <td>19</td>\n",
       "      <td>15</td>\n",
       "      <td>24</td>\n",
       "      <td>23</td>\n",
       "    </tr>\n",
       "  </tbody>\n",
       "</table>\n",
       "</div>"
      ],
      "text/plain": [
       "   Name  UnitTest  DataMining  AI  Graphics  ImageProcessing  Cryptography\n",
       "0  Suci         1          22  21        18               20            21\n",
       "1  Suci         2          21  20        17               22            24\n",
       "2  Suci         3          14  19        15               24            23"
      ]
     },
     "execution_count": 1046,
     "metadata": {},
     "output_type": "execute_result"
    }
   ],
   "source": [
    "marksSuci = MarksInformation.loc[MarksInformation.Name == 'Suci']\n",
    "print(f'\\nMarks obtained by Suci in all the Unit Tests \\n\\n')\n",
    "marksSuci\n"
   ]
  },
  {
   "cell_type": "code",
   "execution_count": 1047,
   "id": "a60265c8-a88b-44f0-af70-bf88b68e0e4b",
   "metadata": {},
   "outputs": [
    {
     "name": "stdout",
     "output_type": "stream",
     "text": [
      "\n",
      "Minimum Marks obtained by Suci in each subject across the unittests\n",
      "\n",
      "DataMining         14\n",
      "AI                 19\n",
      "Graphics           15\n",
      "ImageProcessing    20\n",
      "Cryptography       21\n",
      "dtype: int64\n"
     ]
    }
   ],
   "source": [
    "print(f'\\nMinimum Marks obtained by Suci in each subject across the unittests\\n\\n{marksSuci[['DataMining','AI','Graphics','ImageProcessing','Cryptography']].min()}')\n"
   ]
  },
  {
   "cell_type": "markdown",
   "id": "e0f2fc8f-8436-4fdf-a418-6a3fb59b206a",
   "metadata": {},
   "source": [
    "**Calculating Sum of Values**"
   ]
  },
  {
   "cell_type": "markdown",
   "id": "f25cad2e-2166-4d4d-a4cf-4ec4406407d3",
   "metadata": {},
   "source": [
    "DataFrame.sum() will display the sum of the values\n",
    "from the DataFrame regardless of its datatype. The\n",
    "following line of code outputs the sum of each column\n",
    "of the DataFrame:\n"
   ]
  },
  {
   "cell_type": "code",
   "execution_count": 1048,
   "id": "a8554728-44fe-465c-ae5c-9076e8a7b689",
   "metadata": {},
   "outputs": [
    {
     "name": "stdout",
     "output_type": "stream",
     "text": [
      "Name               SuciSuciSuciSrabantiSrabantiSrabantiAshravyAsh...\n",
      "UnitTest                                                          24\n",
      "DataMining                                                       231\n",
      "AI                                                               237\n",
      "Graphics                                                         245\n",
      "ImageProcessing                                                  262\n",
      "Cryptography                                                     246\n",
      "dtype: object\n"
     ]
    }
   ],
   "source": [
    " print(MarksInformation.sum())"
   ]
  },
  {
   "cell_type": "code",
   "execution_count": 1049,
   "id": "f1f4ec32-a018-48fb-9f56-bc95525658f7",
   "metadata": {},
   "outputs": [
    {
     "name": "stdout",
     "output_type": "stream",
     "text": [
      "UnitTest            24\n",
      "DataMining         231\n",
      "AI                 237\n",
      "Graphics           245\n",
      "ImageProcessing    262\n",
      "Cryptography       246\n",
      "dtype: int64\n"
     ]
    }
   ],
   "source": [
    "print(MarksInformation.sum(numeric_only=True))"
   ]
  },
  {
   "cell_type": "markdown",
   "id": "446858f1-f7b0-44ab-a6b3-5dc1dd4eeb2e",
   "metadata": {},
   "source": [
    "To print the sum of a particular column, we need to specify the column name in the call to function sum.\n",
    "The following statement prints the total marks of\n",
    "subject mathematics:"
   ]
  },
  {
   "cell_type": "code",
   "execution_count": 1050,
   "id": "740f0b81-e38a-41bd-8cab-814a1a35cd8e",
   "metadata": {},
   "outputs": [
    {
     "name": "stdout",
     "output_type": "stream",
     "text": [
      "231\n"
     ]
    }
   ],
   "source": [
    "print(MarksInformation['DataMining'].sum())"
   ]
  },
  {
   "cell_type": "markdown",
   "id": "37b40041-0dfc-4d24-ba12-d3a7bbec1ab5",
   "metadata": {},
   "source": [
    "**Write the python statement to print\n",
    "the total marks secured by Suci in\n",
    "each subject.**"
   ]
  },
  {
   "cell_type": "code",
   "execution_count": 1051,
   "id": "d6d9f84a-afd6-49ba-bd9b-54049fae549c",
   "metadata": {},
   "outputs": [
    {
     "name": "stdout",
     "output_type": "stream",
     "text": [
      "\n",
      "Marks obtained by Suci in each test are:\n",
      "\n",
      "   Name  UnitTest  DataMining  AI  Graphics  ImageProcessing  Cryptography\n",
      "0  Suci         1          22  21        18               20            21\n",
      "1  Suci         2          21  20        17               22            24\n",
      "2  Suci         3          14  19        15               24            23\n"
     ]
    }
   ],
   "source": [
    "marksRaman=MarksInformation[MarksInformation['Name']=='Suci']\n",
    "print(f\"\\nMarks obtained by Suci in each test are:\\n\\n{marksRaman}\")"
   ]
  },
  {
   "cell_type": "code",
   "execution_count": 1052,
   "id": "02ce79a9-d08d-4156-8db7-1b3dc8131354",
   "metadata": {},
   "outputs": [
    {
     "data": {
      "text/plain": [
       "DataMining         57\n",
       "AI                 60\n",
       "Graphics           50\n",
       "ImageProcessing    66\n",
       "Cryptography       68\n",
       "dtype: int64"
      ]
     },
     "execution_count": 1052,
     "metadata": {},
     "output_type": "execute_result"
    }
   ],
   "source": [
    "marksRaman[['DataMining','AI','Graphics','ImageProcessing','Cryptography']].sum()"
   ]
  },
  {
   "cell_type": "markdown",
   "id": "a698eb95-6059-437d-81be-f491f20912a9",
   "metadata": {},
   "source": [
    "To print total marks scored by Suci in all\n",
    "subjects in each Unit Test"
   ]
  },
  {
   "cell_type": "code",
   "execution_count": 1053,
   "id": "fa4fcb9f-339e-46eb-81cf-30de67228a45",
   "metadata": {},
   "outputs": [
    {
     "data": {
      "text/plain": [
       "0    102\n",
       "1    104\n",
       "2     95\n",
       "dtype: int64"
      ]
     },
     "execution_count": 1053,
     "metadata": {},
     "output_type": "execute_result"
    }
   ],
   "source": [
    " marksSuci[['DataMining','AI','Graphics','ImageProcessing','Cryptography']].sum(axis=1)"
   ]
  },
  {
   "cell_type": "markdown",
   "id": "4eaac473-6877-494f-8f49-af6bd9e77f27",
   "metadata": {},
   "source": [
    "**Calculating Number of Values**"
   ]
  },
  {
   "cell_type": "markdown",
   "id": "010247e4-57a5-42ab-ad0e-70e0828c2215",
   "metadata": {},
   "source": [
    "DataFrame.count() will display the total number of\n",
    "values for each column or row of a DataFrame. To count\n",
    "the rows we need to use the argument axis=1 as shown\n",
    "in the Program  below."
   ]
  },
  {
   "cell_type": "code",
   "execution_count": 1054,
   "id": "67681175-4e7c-437a-83d1-09be5fa06853",
   "metadata": {},
   "outputs": [
    {
     "name": "stdout",
     "output_type": "stream",
     "text": [
      "Name               12\n",
      "UnitTest           12\n",
      "DataMining         12\n",
      "AI                 12\n",
      "Graphics           12\n",
      "ImageProcessing    12\n",
      "Cryptography       12\n",
      "dtype: int64\n"
     ]
    }
   ],
   "source": [
    " print(MarksInformation.count())"
   ]
  },
  {
   "cell_type": "markdown",
   "id": "daa82d6e-0f7e-4da2-86de-6700b7fd90bf",
   "metadata": {},
   "source": [
    "Write a statement to count the number of\n",
    "values in a row."
   ]
  },
  {
   "cell_type": "code",
   "execution_count": 1055,
   "id": "f3fe2476-a513-48cf-8bd8-214f4b1fdee9",
   "metadata": {},
   "outputs": [
    {
     "data": {
      "text/plain": [
       "0     7\n",
       "1     7\n",
       "2     7\n",
       "3     7\n",
       "4     7\n",
       "5     7\n",
       "6     7\n",
       "7     7\n",
       "8     7\n",
       "9     7\n",
       "10    7\n",
       "11    7\n",
       "dtype: int64"
      ]
     },
     "execution_count": 1055,
     "metadata": {},
     "output_type": "execute_result"
    }
   ],
   "source": [
    "MarksInformation.count(axis=1)"
   ]
  },
  {
   "cell_type": "markdown",
   "id": "d77e70c6-b977-4009-a695-420b44eedc93",
   "metadata": {},
   "source": [
    "**Calculating Mean**"
   ]
  },
  {
   "cell_type": "markdown",
   "id": "0fe9096a-9b92-433f-b76f-3dce698b0453",
   "metadata": {},
   "source": [
    "DataFrame.mean() will display the mean (average) of\n",
    "the values of each column of a DataFrame. It is only\n",
    "applicable for numeric values. "
   ]
  },
  {
   "cell_type": "code",
   "execution_count": 1056,
   "id": "e1ca0b6e-7d77-4b14-8b24-53412e511b34",
   "metadata": {},
   "outputs": [
    {
     "data": {
      "text/plain": [
       "UnitTest            2.000000\n",
       "DataMining         19.250000\n",
       "AI                 19.750000\n",
       "Graphics           20.416667\n",
       "ImageProcessing    21.833333\n",
       "Cryptography       20.500000\n",
       "dtype: float64"
      ]
     },
     "execution_count": 1056,
     "metadata": {},
     "output_type": "execute_result"
    }
   ],
   "source": [
    "MarksInformation.mean(numeric_only=True)"
   ]
  },
  {
   "cell_type": "markdown",
   "id": "bdf9ec45-c797-4c4d-93d0-ed6bc3360b6b",
   "metadata": {},
   "source": [
    "Write the statements to get an average\n",
    "of marks obtained by Suci in all the\n",
    "Unit Tests."
   ]
  },
  {
   "cell_type": "code",
   "execution_count": 1057,
   "id": "bc9c256a-e409-40cb-92d8-7f06b39a5924",
   "metadata": {},
   "outputs": [
    {
     "data": {
      "text/html": [
       "<div>\n",
       "<style scoped>\n",
       "    .dataframe tbody tr th:only-of-type {\n",
       "        vertical-align: middle;\n",
       "    }\n",
       "\n",
       "    .dataframe tbody tr th {\n",
       "        vertical-align: top;\n",
       "    }\n",
       "\n",
       "    .dataframe thead th {\n",
       "        text-align: right;\n",
       "    }\n",
       "</style>\n",
       "<table border=\"1\" class=\"dataframe\">\n",
       "  <thead>\n",
       "    <tr style=\"text-align: right;\">\n",
       "      <th></th>\n",
       "      <th>Name</th>\n",
       "      <th>UnitTest</th>\n",
       "      <th>DataMining</th>\n",
       "      <th>AI</th>\n",
       "      <th>Graphics</th>\n",
       "      <th>ImageProcessing</th>\n",
       "      <th>Cryptography</th>\n",
       "    </tr>\n",
       "  </thead>\n",
       "  <tbody>\n",
       "    <tr>\n",
       "      <th>0</th>\n",
       "      <td>Suci</td>\n",
       "      <td>1</td>\n",
       "      <td>22</td>\n",
       "      <td>21</td>\n",
       "      <td>18</td>\n",
       "      <td>20</td>\n",
       "      <td>21</td>\n",
       "    </tr>\n",
       "    <tr>\n",
       "      <th>1</th>\n",
       "      <td>Suci</td>\n",
       "      <td>2</td>\n",
       "      <td>21</td>\n",
       "      <td>20</td>\n",
       "      <td>17</td>\n",
       "      <td>22</td>\n",
       "      <td>24</td>\n",
       "    </tr>\n",
       "    <tr>\n",
       "      <th>2</th>\n",
       "      <td>Suci</td>\n",
       "      <td>3</td>\n",
       "      <td>14</td>\n",
       "      <td>19</td>\n",
       "      <td>15</td>\n",
       "      <td>24</td>\n",
       "      <td>23</td>\n",
       "    </tr>\n",
       "    <tr>\n",
       "      <th>3</th>\n",
       "      <td>Srabanti</td>\n",
       "      <td>1</td>\n",
       "      <td>20</td>\n",
       "      <td>17</td>\n",
       "      <td>22</td>\n",
       "      <td>24</td>\n",
       "      <td>19</td>\n",
       "    </tr>\n",
       "    <tr>\n",
       "      <th>4</th>\n",
       "      <td>Srabanti</td>\n",
       "      <td>2</td>\n",
       "      <td>23</td>\n",
       "      <td>15</td>\n",
       "      <td>21</td>\n",
       "      <td>25</td>\n",
       "      <td>15</td>\n",
       "    </tr>\n",
       "    <tr>\n",
       "      <th>5</th>\n",
       "      <td>Srabanti</td>\n",
       "      <td>3</td>\n",
       "      <td>22</td>\n",
       "      <td>18</td>\n",
       "      <td>19</td>\n",
       "      <td>23</td>\n",
       "      <td>13</td>\n",
       "    </tr>\n",
       "    <tr>\n",
       "      <th>6</th>\n",
       "      <td>Ashravy</td>\n",
       "      <td>1</td>\n",
       "      <td>23</td>\n",
       "      <td>19</td>\n",
       "      <td>20</td>\n",
       "      <td>15</td>\n",
       "      <td>22</td>\n",
       "    </tr>\n",
       "    <tr>\n",
       "      <th>7</th>\n",
       "      <td>Ashravy</td>\n",
       "      <td>2</td>\n",
       "      <td>24</td>\n",
       "      <td>22</td>\n",
       "      <td>24</td>\n",
       "      <td>17</td>\n",
       "      <td>21</td>\n",
       "    </tr>\n",
       "    <tr>\n",
       "      <th>8</th>\n",
       "      <td>Ashravy</td>\n",
       "      <td>3</td>\n",
       "      <td>12</td>\n",
       "      <td>25</td>\n",
       "      <td>19</td>\n",
       "      <td>21</td>\n",
       "      <td>23</td>\n",
       "    </tr>\n",
       "    <tr>\n",
       "      <th>9</th>\n",
       "      <td>Mishti</td>\n",
       "      <td>1</td>\n",
       "      <td>15</td>\n",
       "      <td>22</td>\n",
       "      <td>25</td>\n",
       "      <td>22</td>\n",
       "      <td>22</td>\n",
       "    </tr>\n",
       "    <tr>\n",
       "      <th>10</th>\n",
       "      <td>Mishti</td>\n",
       "      <td>2</td>\n",
       "      <td>18</td>\n",
       "      <td>21</td>\n",
       "      <td>25</td>\n",
       "      <td>24</td>\n",
       "      <td>23</td>\n",
       "    </tr>\n",
       "    <tr>\n",
       "      <th>11</th>\n",
       "      <td>Mishti</td>\n",
       "      <td>3</td>\n",
       "      <td>17</td>\n",
       "      <td>18</td>\n",
       "      <td>20</td>\n",
       "      <td>25</td>\n",
       "      <td>20</td>\n",
       "    </tr>\n",
       "  </tbody>\n",
       "</table>\n",
       "</div>"
      ],
      "text/plain": [
       "        Name  UnitTest  DataMining  AI  Graphics  ImageProcessing  \\\n",
       "0       Suci         1          22  21        18               20   \n",
       "1       Suci         2          21  20        17               22   \n",
       "2       Suci         3          14  19        15               24   \n",
       "3   Srabanti         1          20  17        22               24   \n",
       "4   Srabanti         2          23  15        21               25   \n",
       "5   Srabanti         3          22  18        19               23   \n",
       "6    Ashravy         1          23  19        20               15   \n",
       "7    Ashravy         2          24  22        24               17   \n",
       "8    Ashravy         3          12  25        19               21   \n",
       "9     Mishti         1          15  22        25               22   \n",
       "10    Mishti         2          18  21        25               24   \n",
       "11    Mishti         3          17  18        20               25   \n",
       "\n",
       "    Cryptography  \n",
       "0             21  \n",
       "1             24  \n",
       "2             23  \n",
       "3             19  \n",
       "4             15  \n",
       "5             13  \n",
       "6             22  \n",
       "7             21  \n",
       "8             23  \n",
       "9             22  \n",
       "10            23  \n",
       "11            20  "
      ]
     },
     "execution_count": 1057,
     "metadata": {},
     "output_type": "execute_result"
    }
   ],
   "source": [
    "MarksInformation"
   ]
  },
  {
   "cell_type": "code",
   "execution_count": 1058,
   "id": "0af32498-fe1f-4418-bc52-287bdfd94d85",
   "metadata": {},
   "outputs": [
    {
     "name": "stdout",
     "output_type": "stream",
     "text": [
      "\n",
      "\n",
      "Slicing of the DataFrame to get only the marks\n",
      "\n",
      "\n"
     ]
    },
    {
     "data": {
      "text/html": [
       "<div>\n",
       "<style scoped>\n",
       "    .dataframe tbody tr th:only-of-type {\n",
       "        vertical-align: middle;\n",
       "    }\n",
       "\n",
       "    .dataframe tbody tr th {\n",
       "        vertical-align: top;\n",
       "    }\n",
       "\n",
       "    .dataframe thead th {\n",
       "        text-align: right;\n",
       "    }\n",
       "</style>\n",
       "<table border=\"1\" class=\"dataframe\">\n",
       "  <thead>\n",
       "    <tr style=\"text-align: right;\">\n",
       "      <th></th>\n",
       "      <th>DataMining</th>\n",
       "      <th>AI</th>\n",
       "      <th>Graphics</th>\n",
       "      <th>ImageProcessing</th>\n",
       "      <th>Cryptography</th>\n",
       "    </tr>\n",
       "  </thead>\n",
       "  <tbody>\n",
       "    <tr>\n",
       "      <th>0</th>\n",
       "      <td>22</td>\n",
       "      <td>21</td>\n",
       "      <td>18</td>\n",
       "      <td>20</td>\n",
       "      <td>21</td>\n",
       "    </tr>\n",
       "    <tr>\n",
       "      <th>1</th>\n",
       "      <td>21</td>\n",
       "      <td>20</td>\n",
       "      <td>17</td>\n",
       "      <td>22</td>\n",
       "      <td>24</td>\n",
       "    </tr>\n",
       "    <tr>\n",
       "      <th>2</th>\n",
       "      <td>14</td>\n",
       "      <td>19</td>\n",
       "      <td>15</td>\n",
       "      <td>24</td>\n",
       "      <td>23</td>\n",
       "    </tr>\n",
       "  </tbody>\n",
       "</table>\n",
       "</div>"
      ],
      "text/plain": [
       "   DataMining  AI  Graphics  ImageProcessing  Cryptography\n",
       "0          22  21        18               20            21\n",
       "1          21  20        17               22            24\n",
       "2          14  19        15               24            23"
      ]
     },
     "execution_count": 1058,
     "metadata": {},
     "output_type": "execute_result"
    }
   ],
   "source": [
    "Suci=MarksInformation[MarksInformation['Name']=='Suci']\n",
    "SuciMarks =Suci.loc[:,'DataMining':'Cryptography']\n",
    "print(\"\\n\\nSlicing of the DataFrame to get only the marks\\n\\n\")\n",
    "SuciMarks"
   ]
  },
  {
   "cell_type": "markdown",
   "id": "bfe3ee8d-b217-4c64-a700-756c8cdc5e39",
   "metadata": {},
   "source": [
    "Average of marks obtained by Zuhaire in all Unit Tests"
   ]
  },
  {
   "cell_type": "markdown",
   "id": "c4819a97-cb0d-410f-a8f6-e4694fe1d725",
   "metadata": {},
   "source": [
    "Average of marks obtained by Suci in all Unit Tests"
   ]
  },
  {
   "cell_type": "code",
   "execution_count": 1059,
   "id": "427e4f0f-e634-4690-bc95-6e8ea72e8dff",
   "metadata": {},
   "outputs": [
    {
     "data": {
      "text/plain": [
       "0    20.4\n",
       "1    20.8\n",
       "2    19.0\n",
       "dtype: float64"
      ]
     },
     "execution_count": 1059,
     "metadata": {},
     "output_type": "execute_result"
    }
   ],
   "source": [
    "SuciMarks.mean(axis=1)"
   ]
  },
  {
   "cell_type": "markdown",
   "id": "8a474520-b7a1-4406-94ad-e1197e2a1698",
   "metadata": {},
   "source": [
    "**Calculating Median**"
   ]
  },
  {
   "cell_type": "markdown",
   "id": "96a40361-6f01-471e-9a6c-658783b23019",
   "metadata": {},
   "source": [
    "DataFrame.Median() will display the middle value of the\n",
    "data. This function will display the median of the values\n",
    "of each column of a DataFrame. It is only applicable for\n",
    "numeric values."
   ]
  },
  {
   "cell_type": "code",
   "execution_count": 1060,
   "id": "d7bfc7d2-8fbc-45cb-bd15-e994f57f38b2",
   "metadata": {},
   "outputs": [
    {
     "name": "stdout",
     "output_type": "stream",
     "text": [
      "UnitTest            2.0\n",
      "DataMining         20.5\n",
      "AI                 19.5\n",
      "Graphics           20.0\n",
      "ImageProcessing    22.5\n",
      "Cryptography       21.5\n",
      "dtype: float64\n"
     ]
    }
   ],
   "source": [
    " print(MarksInformation.median(numeric_only=True))\n"
   ]
  },
  {
   "cell_type": "markdown",
   "id": "abb6f937-c684-48a3-9481-29b616ae3333",
   "metadata": {},
   "source": [
    "Write the statements to print the median\n",
    "marks of mathematics "
   ]
  },
  {
   "cell_type": "code",
   "execution_count": 1061,
   "id": "a9609799-580f-468b-a9b7-dccf1a68e9e0",
   "metadata": {},
   "outputs": [],
   "source": [
    "DataMining=MarksInformation['DataMining']"
   ]
  },
  {
   "cell_type": "code",
   "execution_count": 1062,
   "id": "4e96a495-1ca2-47fc-99b0-5c2d2c4d974f",
   "metadata": {},
   "outputs": [
    {
     "data": {
      "text/plain": [
       "0     22\n",
       "1     21\n",
       "2     14\n",
       "3     20\n",
       "4     23\n",
       "5     22\n",
       "6     23\n",
       "7     24\n",
       "8     12\n",
       "9     15\n",
       "10    18\n",
       "11    17\n",
       "Name: DataMining, dtype: int64"
      ]
     },
     "execution_count": 1062,
     "metadata": {},
     "output_type": "execute_result"
    }
   ],
   "source": [
    "DataMining"
   ]
  },
  {
   "cell_type": "code",
   "execution_count": 1063,
   "id": "1d790e84-8110-4aa9-986f-049b021fd31b",
   "metadata": {},
   "outputs": [
    {
     "name": "stdout",
     "output_type": "stream",
     "text": [
      "Displaying the marks scored in DataMining in UnitTest-1\n"
     ]
    },
    {
     "data": {
      "text/plain": [
       "0    22\n",
       "3    20\n",
       "6    23\n",
       "9    15\n",
       "Name: DataMining, dtype: int64"
      ]
     },
     "execution_count": 1063,
     "metadata": {},
     "output_type": "execute_result"
    }
   ],
   "source": [
    "DataMining1=DataMining[MarksInformation.UnitTest==1]\n",
    "print(\"Displaying the marks scored in DataMining in UnitTest-1\")\n",
    "DataMining1\n",
    "\n"
   ]
  },
  {
   "cell_type": "code",
   "execution_count": 1064,
   "id": "4749125f-847c-4f4e-a2ec-8199b57d3ee0",
   "metadata": {},
   "outputs": [
    {
     "name": "stdout",
     "output_type": "stream",
     "text": [
      "Displaying the median of Mathematics in UnitTest-1\n",
      " 21.0\n"
     ]
    }
   ],
   "source": [
    "DataMiningMedian=DataMining1.median()\n",
    "print(\"Displaying the median of Mathematics in UnitTest-1\\n\",DataMiningMedian)\n"
   ]
  },
  {
   "cell_type": "markdown",
   "id": "5cc0e02a-b818-40be-b7f3-2373d3f9a3a4",
   "metadata": {},
   "source": [
    "Here, the number of values are even in number\n",
    "so two middle values are there i.e. 20 and 22. Hence,\n",
    "Median is the average of 20 and 22."
   ]
  },
  {
   "cell_type": "markdown",
   "id": "b521a04f-55b0-4188-bbcc-bed9772ca793",
   "metadata": {},
   "source": [
    "**Calculating Mode**\n"
   ]
  },
  {
   "cell_type": "markdown",
   "id": "170f6f75-0c1e-4703-9e02-90d1c276aab0",
   "metadata": {},
   "source": [
    "DateFrame.mode() will display the mode. The mode is\n",
    "defined as the value that appears the most number of\n",
    "times in a data. This function will display the mode of\n",
    "each column or row of the DataFrame. To get the mode\n",
    "of Hindi marks, the following statement can be used."
   ]
  },
  {
   "cell_type": "code",
   "execution_count": 1065,
   "id": "998e61d7-084b-4813-9ad8-1a30e2c8c638",
   "metadata": {},
   "outputs": [
    {
     "data": {
      "text/plain": [
       "0     22\n",
       "1     21\n",
       "2     14\n",
       "3     20\n",
       "4     23\n",
       "5     22\n",
       "6     23\n",
       "7     24\n",
       "8     12\n",
       "9     15\n",
       "10    18\n",
       "11    17\n",
       "Name: DataMining, dtype: int64"
      ]
     },
     "execution_count": 1065,
     "metadata": {},
     "output_type": "execute_result"
    }
   ],
   "source": [
    " MarksInformation['DataMining']\n"
   ]
  },
  {
   "cell_type": "code",
   "execution_count": 1066,
   "id": "5b3f6988-623e-4cc4-b942-b142517f83c0",
   "metadata": {},
   "outputs": [
    {
     "data": {
      "text/plain": [
       "0    22\n",
       "1    23\n",
       "Name: DataMining, dtype: int64"
      ]
     },
     "execution_count": 1066,
     "metadata": {},
     "output_type": "execute_result"
    }
   ],
   "source": [
    "MarksInformation['DataMining'].mode()\n"
   ]
  },
  {
   "cell_type": "markdown",
   "id": "cc8a2d31-c7b3-4c05-b8fa-264c3fcd64b2",
   "metadata": {},
   "source": [
    "**Calculating Quartile**"
   ]
  },
  {
   "cell_type": "markdown",
   "id": "af384eb5-eb22-43af-93c6-3c13cbfe678f",
   "metadata": {},
   "source": [
    "Dataframe.quantile() is used to get the quartiles. It\n",
    "will output the quartile of each column or row of the\n",
    "DataFrame in four parts i.e. the first quartile is 25%\n",
    "(parameter q = .25), the second quartile is 50% (Median),\n",
    "the third quartile is 75% (parameter q = .75). By default,\n",
    "it will display the second quantile (median) of all\n",
    "numeric values."
   ]
  },
  {
   "cell_type": "code",
   "execution_count": 1067,
   "id": "619f53f7-a69a-40af-9432-acaa1709b630",
   "metadata": {},
   "outputs": [
    {
     "data": {
      "text/plain": [
       "UnitTest            2.0\n",
       "DataMining         20.5\n",
       "AI                 19.5\n",
       "Graphics           20.0\n",
       "ImageProcessing    22.5\n",
       "Cryptography       21.5\n",
       "Name: 0.5, dtype: float64"
      ]
     },
     "execution_count": 1067,
     "metadata": {},
     "output_type": "execute_result"
    }
   ],
   "source": [
    " MarksInformation.quantile(numeric_only=True)"
   ]
  },
  {
   "cell_type": "markdown",
   "id": "585da098-2393-48e7-97d0-d044e96b6039",
   "metadata": {},
   "source": [
    " By default, median is the\n",
    "output"
   ]
  },
  {
   "cell_type": "code",
   "execution_count": 1068,
   "id": "61d59ac7-94af-4b50-b8f7-6ad8dea44195",
   "metadata": {},
   "outputs": [
    {
     "data": {
      "text/plain": [
       "UnitTest            1.00\n",
       "DataMining         16.50\n",
       "AI                 18.00\n",
       "Graphics           18.75\n",
       "ImageProcessing    20.75\n",
       "Cryptography       19.75\n",
       "Name: 0.25, dtype: float64"
      ]
     },
     "execution_count": 1068,
     "metadata": {},
     "output_type": "execute_result"
    }
   ],
   "source": [
    "MarksInformation.quantile(numeric_only=True,q=.25)"
   ]
  },
  {
   "cell_type": "code",
   "execution_count": 1069,
   "id": "b15645c2-fd5e-48ab-8fab-ab1d32b6fbc7",
   "metadata": {},
   "outputs": [
    {
     "data": {
      "text/plain": [
       "UnitTest            3.00\n",
       "DataMining         22.25\n",
       "AI                 21.25\n",
       "Graphics           22.50\n",
       "ImageProcessing    24.00\n",
       "Cryptography       23.00\n",
       "Name: 0.75, dtype: float64"
      ]
     },
     "execution_count": 1069,
     "metadata": {},
     "output_type": "execute_result"
    }
   ],
   "source": [
    "MarksInformation.quantile(numeric_only=True,q=.75)"
   ]
  },
  {
   "cell_type": "markdown",
   "id": "68b18d8d-054c-47e1-b76f-eeec6b5ab8a2",
   "metadata": {},
   "source": [
    "**Write the statement to display the first and\n",
    "third quartiles of all subjects.**"
   ]
  },
  {
   "cell_type": "code",
   "execution_count": 1070,
   "id": "e7aedd10-574e-4023-8208-1bdeba6d1423",
   "metadata": {},
   "outputs": [
    {
     "name": "stdout",
     "output_type": "stream",
     "text": [
      "Marks of all the subjects:\n",
      "\n",
      "\n"
     ]
    },
    {
     "data": {
      "text/html": [
       "<div>\n",
       "<style scoped>\n",
       "    .dataframe tbody tr th:only-of-type {\n",
       "        vertical-align: middle;\n",
       "    }\n",
       "\n",
       "    .dataframe tbody tr th {\n",
       "        vertical-align: top;\n",
       "    }\n",
       "\n",
       "    .dataframe thead th {\n",
       "        text-align: right;\n",
       "    }\n",
       "</style>\n",
       "<table border=\"1\" class=\"dataframe\">\n",
       "  <thead>\n",
       "    <tr style=\"text-align: right;\">\n",
       "      <th></th>\n",
       "      <th>DataMining</th>\n",
       "      <th>AI</th>\n",
       "      <th>Graphics</th>\n",
       "      <th>ImageProcessing</th>\n",
       "      <th>Cryptography</th>\n",
       "    </tr>\n",
       "  </thead>\n",
       "  <tbody>\n",
       "    <tr>\n",
       "      <th>0</th>\n",
       "      <td>22</td>\n",
       "      <td>21</td>\n",
       "      <td>18</td>\n",
       "      <td>20</td>\n",
       "      <td>21</td>\n",
       "    </tr>\n",
       "    <tr>\n",
       "      <th>1</th>\n",
       "      <td>21</td>\n",
       "      <td>20</td>\n",
       "      <td>17</td>\n",
       "      <td>22</td>\n",
       "      <td>24</td>\n",
       "    </tr>\n",
       "    <tr>\n",
       "      <th>2</th>\n",
       "      <td>14</td>\n",
       "      <td>19</td>\n",
       "      <td>15</td>\n",
       "      <td>24</td>\n",
       "      <td>23</td>\n",
       "    </tr>\n",
       "    <tr>\n",
       "      <th>3</th>\n",
       "      <td>20</td>\n",
       "      <td>17</td>\n",
       "      <td>22</td>\n",
       "      <td>24</td>\n",
       "      <td>19</td>\n",
       "    </tr>\n",
       "    <tr>\n",
       "      <th>4</th>\n",
       "      <td>23</td>\n",
       "      <td>15</td>\n",
       "      <td>21</td>\n",
       "      <td>25</td>\n",
       "      <td>15</td>\n",
       "    </tr>\n",
       "    <tr>\n",
       "      <th>5</th>\n",
       "      <td>22</td>\n",
       "      <td>18</td>\n",
       "      <td>19</td>\n",
       "      <td>23</td>\n",
       "      <td>13</td>\n",
       "    </tr>\n",
       "    <tr>\n",
       "      <th>6</th>\n",
       "      <td>23</td>\n",
       "      <td>19</td>\n",
       "      <td>20</td>\n",
       "      <td>15</td>\n",
       "      <td>22</td>\n",
       "    </tr>\n",
       "    <tr>\n",
       "      <th>7</th>\n",
       "      <td>24</td>\n",
       "      <td>22</td>\n",
       "      <td>24</td>\n",
       "      <td>17</td>\n",
       "      <td>21</td>\n",
       "    </tr>\n",
       "    <tr>\n",
       "      <th>8</th>\n",
       "      <td>12</td>\n",
       "      <td>25</td>\n",
       "      <td>19</td>\n",
       "      <td>21</td>\n",
       "      <td>23</td>\n",
       "    </tr>\n",
       "    <tr>\n",
       "      <th>9</th>\n",
       "      <td>15</td>\n",
       "      <td>22</td>\n",
       "      <td>25</td>\n",
       "      <td>22</td>\n",
       "      <td>22</td>\n",
       "    </tr>\n",
       "    <tr>\n",
       "      <th>10</th>\n",
       "      <td>18</td>\n",
       "      <td>21</td>\n",
       "      <td>25</td>\n",
       "      <td>24</td>\n",
       "      <td>23</td>\n",
       "    </tr>\n",
       "    <tr>\n",
       "      <th>11</th>\n",
       "      <td>17</td>\n",
       "      <td>18</td>\n",
       "      <td>20</td>\n",
       "      <td>25</td>\n",
       "      <td>20</td>\n",
       "    </tr>\n",
       "  </tbody>\n",
       "</table>\n",
       "</div>"
      ],
      "text/plain": [
       "    DataMining  AI  Graphics  ImageProcessing  Cryptography\n",
       "0           22  21        18               20            21\n",
       "1           21  20        17               22            24\n",
       "2           14  19        15               24            23\n",
       "3           20  17        22               24            19\n",
       "4           23  15        21               25            15\n",
       "5           22  18        19               23            13\n",
       "6           23  19        20               15            22\n",
       "7           24  22        24               17            21\n",
       "8           12  25        19               21            23\n",
       "9           15  22        25               22            22\n",
       "10          18  21        25               24            23\n",
       "11          17  18        20               25            20"
      ]
     },
     "execution_count": 1070,
     "metadata": {},
     "output_type": "execute_result"
    }
   ],
   "source": [
    "Subjects=MarksInformation[['DataMining','AI','Graphics','ImageProcessing','Cryptography']]\n",
    "print(\"Marks of all the subjects:\\n\\n\")\n",
    "Subjects"
   ]
  },
  {
   "cell_type": "code",
   "execution_count": 1071,
   "id": "9495cc8e-7d7f-4d7d-b06e-273a635ca2f1",
   "metadata": {},
   "outputs": [
    {
     "name": "stdout",
     "output_type": "stream",
     "text": [
      "First and third quartiles of all the subjects:\n",
      "\n",
      "\n"
     ]
    },
    {
     "data": {
      "text/html": [
       "<div>\n",
       "<style scoped>\n",
       "    .dataframe tbody tr th:only-of-type {\n",
       "        vertical-align: middle;\n",
       "    }\n",
       "\n",
       "    .dataframe tbody tr th {\n",
       "        vertical-align: top;\n",
       "    }\n",
       "\n",
       "    .dataframe thead th {\n",
       "        text-align: right;\n",
       "    }\n",
       "</style>\n",
       "<table border=\"1\" class=\"dataframe\">\n",
       "  <thead>\n",
       "    <tr style=\"text-align: right;\">\n",
       "      <th></th>\n",
       "      <th>DataMining</th>\n",
       "      <th>AI</th>\n",
       "      <th>Graphics</th>\n",
       "      <th>ImageProcessing</th>\n",
       "      <th>Cryptography</th>\n",
       "    </tr>\n",
       "  </thead>\n",
       "  <tbody>\n",
       "    <tr>\n",
       "      <th>0.25</th>\n",
       "      <td>16.50</td>\n",
       "      <td>18.00</td>\n",
       "      <td>18.75</td>\n",
       "      <td>20.75</td>\n",
       "      <td>19.75</td>\n",
       "    </tr>\n",
       "    <tr>\n",
       "      <th>0.75</th>\n",
       "      <td>22.25</td>\n",
       "      <td>21.25</td>\n",
       "      <td>22.50</td>\n",
       "      <td>24.00</td>\n",
       "      <td>23.00</td>\n",
       "    </tr>\n",
       "  </tbody>\n",
       "</table>\n",
       "</div>"
      ],
      "text/plain": [
       "      DataMining     AI  Graphics  ImageProcessing  Cryptography\n",
       "0.25       16.50  18.00     18.75            20.75         19.75\n",
       "0.75       22.25  21.25     22.50            24.00         23.00"
      ]
     },
     "execution_count": 1071,
     "metadata": {},
     "output_type": "execute_result"
    }
   ],
   "source": [
    "Quartiles=Subjects.quantile([.25,.75])\n",
    "print(\"First and third quartiles of all the subjects:\\n\\n\")\n",
    "Quartiles\n"
   ]
  },
  {
   "cell_type": "markdown",
   "id": "1fabb878-a5de-4235-bdb7-29f8b70bd48d",
   "metadata": {},
   "source": [
    "**Calculating Variance**"
   ]
  },
  {
   "cell_type": "markdown",
   "id": "7717fe87-dd52-4384-94e9-4bad9f70b084",
   "metadata": {},
   "source": [
    "DataFrame.var() is used to display the variance. It is the\n",
    "average of squared differences from the mean. \n"
   ]
  },
  {
   "cell_type": "code",
   "execution_count": 1072,
   "id": "01b559e7-6c7a-4eaa-8579-b310795a9453",
   "metadata": {},
   "outputs": [
    {
     "data": {
      "text/plain": [
       "DataMining         15.840909\n",
       "AI                  7.113636\n",
       "Graphics            9.901515\n",
       "ImageProcessing     9.969697\n",
       "Cryptography       11.363636\n",
       "dtype: float64"
      ]
     },
     "execution_count": 1072,
     "metadata": {},
     "output_type": "execute_result"
    }
   ],
   "source": [
    " MarksInformation[['DataMining','AI','Graphics','ImageProcessing','Cryptography']].var()"
   ]
  },
  {
   "cell_type": "markdown",
   "id": "aa9493c6-fd6f-4622-b4c5-5c991518fdfd",
   "metadata": {},
   "source": [
    "**Calculating Standard Deviation**"
   ]
  },
  {
   "cell_type": "markdown",
   "id": "a67e6e64-4e1d-4b6e-9da0-33d8b85ab716",
   "metadata": {},
   "source": [
    "DataFrame.std() returns the standard deviation of the\n",
    "values. Standard deviation is calculated as the square\n",
    "root of the variance."
   ]
  },
  {
   "cell_type": "code",
   "execution_count": 1073,
   "id": "16aed5c0-42b5-4a68-ab7f-f430884f95ba",
   "metadata": {},
   "outputs": [
    {
     "data": {
      "text/plain": [
       "DataMining         3.980064\n",
       "AI                 2.667140\n",
       "Graphics           3.146667\n",
       "ImageProcessing    3.157483\n",
       "Cryptography       3.370999\n",
       "dtype: float64"
      ]
     },
     "execution_count": 1073,
     "metadata": {},
     "output_type": "execute_result"
    }
   ],
   "source": [
    "  MarksInformation[['DataMining','AI','Graphics','ImageProcessing','Cryptography']].std()\n"
   ]
  },
  {
   "cell_type": "markdown",
   "id": "dfa5b42c-e6db-49af-86a0-7e9c1e2a116a",
   "metadata": {},
   "source": [
    "DataFrame.describe() function displays the\n",
    "descriptive statistical values in a single command. These\n",
    "values help us describe a set of data in a DataFrame."
   ]
  },
  {
   "cell_type": "code",
   "execution_count": 1074,
   "id": "020e24cd-d041-4ebb-b991-7044ec4bf0be",
   "metadata": {},
   "outputs": [
    {
     "data": {
      "text/html": [
       "<div>\n",
       "<style scoped>\n",
       "    .dataframe tbody tr th:only-of-type {\n",
       "        vertical-align: middle;\n",
       "    }\n",
       "\n",
       "    .dataframe tbody tr th {\n",
       "        vertical-align: top;\n",
       "    }\n",
       "\n",
       "    .dataframe thead th {\n",
       "        text-align: right;\n",
       "    }\n",
       "</style>\n",
       "<table border=\"1\" class=\"dataframe\">\n",
       "  <thead>\n",
       "    <tr style=\"text-align: right;\">\n",
       "      <th></th>\n",
       "      <th>UnitTest</th>\n",
       "      <th>DataMining</th>\n",
       "      <th>AI</th>\n",
       "      <th>Graphics</th>\n",
       "      <th>ImageProcessing</th>\n",
       "      <th>Cryptography</th>\n",
       "    </tr>\n",
       "  </thead>\n",
       "  <tbody>\n",
       "    <tr>\n",
       "      <th>count</th>\n",
       "      <td>12.000000</td>\n",
       "      <td>12.000000</td>\n",
       "      <td>12.00000</td>\n",
       "      <td>12.000000</td>\n",
       "      <td>12.000000</td>\n",
       "      <td>12.000000</td>\n",
       "    </tr>\n",
       "    <tr>\n",
       "      <th>mean</th>\n",
       "      <td>2.000000</td>\n",
       "      <td>19.250000</td>\n",
       "      <td>19.75000</td>\n",
       "      <td>20.416667</td>\n",
       "      <td>21.833333</td>\n",
       "      <td>20.500000</td>\n",
       "    </tr>\n",
       "    <tr>\n",
       "      <th>std</th>\n",
       "      <td>0.852803</td>\n",
       "      <td>3.980064</td>\n",
       "      <td>2.66714</td>\n",
       "      <td>3.146667</td>\n",
       "      <td>3.157483</td>\n",
       "      <td>3.370999</td>\n",
       "    </tr>\n",
       "    <tr>\n",
       "      <th>min</th>\n",
       "      <td>1.000000</td>\n",
       "      <td>12.000000</td>\n",
       "      <td>15.00000</td>\n",
       "      <td>15.000000</td>\n",
       "      <td>15.000000</td>\n",
       "      <td>13.000000</td>\n",
       "    </tr>\n",
       "    <tr>\n",
       "      <th>25%</th>\n",
       "      <td>1.000000</td>\n",
       "      <td>16.500000</td>\n",
       "      <td>18.00000</td>\n",
       "      <td>18.750000</td>\n",
       "      <td>20.750000</td>\n",
       "      <td>19.750000</td>\n",
       "    </tr>\n",
       "    <tr>\n",
       "      <th>50%</th>\n",
       "      <td>2.000000</td>\n",
       "      <td>20.500000</td>\n",
       "      <td>19.50000</td>\n",
       "      <td>20.000000</td>\n",
       "      <td>22.500000</td>\n",
       "      <td>21.500000</td>\n",
       "    </tr>\n",
       "    <tr>\n",
       "      <th>75%</th>\n",
       "      <td>3.000000</td>\n",
       "      <td>22.250000</td>\n",
       "      <td>21.25000</td>\n",
       "      <td>22.500000</td>\n",
       "      <td>24.000000</td>\n",
       "      <td>23.000000</td>\n",
       "    </tr>\n",
       "    <tr>\n",
       "      <th>max</th>\n",
       "      <td>3.000000</td>\n",
       "      <td>24.000000</td>\n",
       "      <td>25.00000</td>\n",
       "      <td>25.000000</td>\n",
       "      <td>25.000000</td>\n",
       "      <td>24.000000</td>\n",
       "    </tr>\n",
       "  </tbody>\n",
       "</table>\n",
       "</div>"
      ],
      "text/plain": [
       "        UnitTest  DataMining        AI   Graphics  ImageProcessing  \\\n",
       "count  12.000000   12.000000  12.00000  12.000000        12.000000   \n",
       "mean    2.000000   19.250000  19.75000  20.416667        21.833333   \n",
       "std     0.852803    3.980064   2.66714   3.146667         3.157483   \n",
       "min     1.000000   12.000000  15.00000  15.000000        15.000000   \n",
       "25%     1.000000   16.500000  18.00000  18.750000        20.750000   \n",
       "50%     2.000000   20.500000  19.50000  20.000000        22.500000   \n",
       "75%     3.000000   22.250000  21.25000  22.500000        24.000000   \n",
       "max     3.000000   24.000000  25.00000  25.000000        25.000000   \n",
       "\n",
       "       Cryptography  \n",
       "count     12.000000  \n",
       "mean      20.500000  \n",
       "std        3.370999  \n",
       "min       13.000000  \n",
       "25%       19.750000  \n",
       "50%       21.500000  \n",
       "75%       23.000000  \n",
       "max       24.000000  "
      ]
     },
     "execution_count": 1074,
     "metadata": {},
     "output_type": "execute_result"
    }
   ],
   "source": [
    "MarksInformation.describe()"
   ]
  },
  {
   "cell_type": "markdown",
   "id": "c84d86c7-7bc1-430d-ba4b-d78534100622",
   "metadata": {},
   "source": [
    "**Data Aggregations**"
   ]
  },
  {
   "cell_type": "markdown",
   "id": "7a542ad8-0305-4adc-88d6-2f2be4f3a6c9",
   "metadata": {},
   "source": [
    "Aggregation means to transform the dataset and produce\r\n",
    "a single numeric value from an array. Aggregation can\r\n",
    "be applied to one or more columns together. Aggregate\r\n",
    "functions are max(),min(), sum(), count(), std(), var(). "
   ]
  },
  {
   "cell_type": "code",
   "execution_count": 1075,
   "id": "612b8c26-3b5e-4210-bdf8-38e06f62d675",
   "metadata": {},
   "outputs": [
    {
     "data": {
      "text/plain": [
       "Name               Suci\n",
       "UnitTest              3\n",
       "DataMining           24\n",
       "AI                   25\n",
       "Graphics             25\n",
       "ImageProcessing      25\n",
       "Cryptography         24\n",
       "dtype: object"
      ]
     },
     "execution_count": 1075,
     "metadata": {},
     "output_type": "execute_result"
    }
   ],
   "source": [
    "MarksInformation.aggregate('max')"
   ]
  },
  {
   "cell_type": "markdown",
   "id": "b14898fa-563c-41e7-aaf6-6ec26863c45b",
   "metadata": {},
   "source": [
    "To use multiple aggregate functions in a\r\n",
    "single statement\r"
   ]
  },
  {
   "cell_type": "code",
   "execution_count": 1076,
   "id": "278997d6-2265-4f30-8f3d-f87f6b4bffea",
   "metadata": {},
   "outputs": [
    {
     "data": {
      "text/html": [
       "<div>\n",
       "<style scoped>\n",
       "    .dataframe tbody tr th:only-of-type {\n",
       "        vertical-align: middle;\n",
       "    }\n",
       "\n",
       "    .dataframe tbody tr th {\n",
       "        vertical-align: top;\n",
       "    }\n",
       "\n",
       "    .dataframe thead th {\n",
       "        text-align: right;\n",
       "    }\n",
       "</style>\n",
       "<table border=\"1\" class=\"dataframe\">\n",
       "  <thead>\n",
       "    <tr style=\"text-align: right;\">\n",
       "      <th></th>\n",
       "      <th>Name</th>\n",
       "      <th>UnitTest</th>\n",
       "      <th>DataMining</th>\n",
       "      <th>AI</th>\n",
       "      <th>Graphics</th>\n",
       "      <th>ImageProcessing</th>\n",
       "      <th>Cryptography</th>\n",
       "    </tr>\n",
       "  </thead>\n",
       "  <tbody>\n",
       "    <tr>\n",
       "      <th>max</th>\n",
       "      <td>Suci</td>\n",
       "      <td>3</td>\n",
       "      <td>24</td>\n",
       "      <td>25</td>\n",
       "      <td>25</td>\n",
       "      <td>25</td>\n",
       "      <td>24</td>\n",
       "    </tr>\n",
       "    <tr>\n",
       "      <th>count</th>\n",
       "      <td>12</td>\n",
       "      <td>12</td>\n",
       "      <td>12</td>\n",
       "      <td>12</td>\n",
       "      <td>12</td>\n",
       "      <td>12</td>\n",
       "      <td>12</td>\n",
       "    </tr>\n",
       "  </tbody>\n",
       "</table>\n",
       "</div>"
      ],
      "text/plain": [
       "       Name  UnitTest  DataMining  AI  Graphics  ImageProcessing  Cryptography\n",
       "max    Suci         3          24  25        25               25            24\n",
       "count    12        12          12  12        12               12            12"
      ]
     },
     "execution_count": 1076,
     "metadata": {},
     "output_type": "execute_result"
    }
   ],
   "source": [
    " MarksInformation.aggregate(['max','count'])"
   ]
  },
  {
   "cell_type": "code",
   "execution_count": 1077,
   "id": "93fb7fdb-2ff5-46ba-b324-47dc511d985c",
   "metadata": {},
   "outputs": [
    {
     "data": {
      "text/plain": [
       "max    24\n",
       "min    12\n",
       "Name: DataMining, dtype: int64"
      ]
     },
     "execution_count": 1077,
     "metadata": {},
     "output_type": "execute_result"
    }
   ],
   "source": [
    " MarksInformation['DataMining'].aggregate(['max','min'])"
   ]
  },
  {
   "cell_type": "markdown",
   "id": "709c71e9-6107-4a9d-895c-d04b174bbba5",
   "metadata": {},
   "source": [
    "We can also use the parameter axis with\n",
    "aggregate function. By default, the value of axis is zero,\n",
    "means columns"
   ]
  },
  {
   "cell_type": "markdown",
   "id": "da594896-9a7c-458a-aa2a-77a5ac3132ea",
   "metadata": {},
   "source": [
    "Using the above statement with axis=0 gives\n",
    "the same result"
   ]
  },
  {
   "cell_type": "code",
   "execution_count": 1078,
   "id": "80d098f3-262c-42c8-9ef4-57619e34adc2",
   "metadata": {},
   "outputs": [
    {
     "data": {
      "text/plain": [
       "max    24\n",
       "min    12\n",
       "Name: DataMining, dtype: int64"
      ]
     },
     "execution_count": 1078,
     "metadata": {},
     "output_type": "execute_result"
    }
   ],
   "source": [
    "MarksInformation['DataMining'].aggregate(['max','min'],axis=0)\n",
    "\n",
    "\n",
    "\n"
   ]
  },
  {
   "cell_type": "code",
   "execution_count": 1079,
   "id": "aa580adc-68a6-4206-83db-87d9df499d88",
   "metadata": {},
   "outputs": [
    {
     "data": {
      "text/plain": [
       "0     43\n",
       "1     41\n",
       "2     33\n",
       "3     37\n",
       "4     38\n",
       "5     40\n",
       "6     42\n",
       "7     46\n",
       "8     37\n",
       "9     37\n",
       "10    39\n",
       "11    35\n",
       "dtype: int64"
      ]
     },
     "execution_count": 1079,
     "metadata": {},
     "output_type": "execute_result"
    }
   ],
   "source": [
    "MarksInformation[['DataMining','AI']].aggregate('sum',axis=1)"
   ]
  },
  {
   "cell_type": "markdown",
   "id": "dae36c51-81f3-4dfe-9ed4-59d44a066dff",
   "metadata": {},
   "source": [
    "**Sorting a DataFrame**"
   ]
  },
  {
   "cell_type": "markdown",
   "id": "ea15b502-c6ac-4134-aab6-a89c6706bd62",
   "metadata": {},
   "source": [
    "By default, sorting is done in ascending order."
   ]
  },
  {
   "cell_type": "code",
   "execution_count": 1080,
   "id": "ce0d54f9-6090-4c8a-81b1-54422a7f7cf1",
   "metadata": {},
   "outputs": [
    {
     "data": {
      "text/html": [
       "<div>\n",
       "<style scoped>\n",
       "    .dataframe tbody tr th:only-of-type {\n",
       "        vertical-align: middle;\n",
       "    }\n",
       "\n",
       "    .dataframe tbody tr th {\n",
       "        vertical-align: top;\n",
       "    }\n",
       "\n",
       "    .dataframe thead th {\n",
       "        text-align: right;\n",
       "    }\n",
       "</style>\n",
       "<table border=\"1\" class=\"dataframe\">\n",
       "  <thead>\n",
       "    <tr style=\"text-align: right;\">\n",
       "      <th></th>\n",
       "      <th>Name</th>\n",
       "      <th>UnitTest</th>\n",
       "      <th>DataMining</th>\n",
       "      <th>AI</th>\n",
       "      <th>Graphics</th>\n",
       "      <th>ImageProcessing</th>\n",
       "      <th>Cryptography</th>\n",
       "    </tr>\n",
       "  </thead>\n",
       "  <tbody>\n",
       "    <tr>\n",
       "      <th>6</th>\n",
       "      <td>Ashravy</td>\n",
       "      <td>1</td>\n",
       "      <td>23</td>\n",
       "      <td>19</td>\n",
       "      <td>20</td>\n",
       "      <td>15</td>\n",
       "      <td>22</td>\n",
       "    </tr>\n",
       "    <tr>\n",
       "      <th>7</th>\n",
       "      <td>Ashravy</td>\n",
       "      <td>2</td>\n",
       "      <td>24</td>\n",
       "      <td>22</td>\n",
       "      <td>24</td>\n",
       "      <td>17</td>\n",
       "      <td>21</td>\n",
       "    </tr>\n",
       "    <tr>\n",
       "      <th>8</th>\n",
       "      <td>Ashravy</td>\n",
       "      <td>3</td>\n",
       "      <td>12</td>\n",
       "      <td>25</td>\n",
       "      <td>19</td>\n",
       "      <td>21</td>\n",
       "      <td>23</td>\n",
       "    </tr>\n",
       "    <tr>\n",
       "      <th>9</th>\n",
       "      <td>Mishti</td>\n",
       "      <td>1</td>\n",
       "      <td>15</td>\n",
       "      <td>22</td>\n",
       "      <td>25</td>\n",
       "      <td>22</td>\n",
       "      <td>22</td>\n",
       "    </tr>\n",
       "    <tr>\n",
       "      <th>10</th>\n",
       "      <td>Mishti</td>\n",
       "      <td>2</td>\n",
       "      <td>18</td>\n",
       "      <td>21</td>\n",
       "      <td>25</td>\n",
       "      <td>24</td>\n",
       "      <td>23</td>\n",
       "    </tr>\n",
       "    <tr>\n",
       "      <th>11</th>\n",
       "      <td>Mishti</td>\n",
       "      <td>3</td>\n",
       "      <td>17</td>\n",
       "      <td>18</td>\n",
       "      <td>20</td>\n",
       "      <td>25</td>\n",
       "      <td>20</td>\n",
       "    </tr>\n",
       "    <tr>\n",
       "      <th>3</th>\n",
       "      <td>Srabanti</td>\n",
       "      <td>1</td>\n",
       "      <td>20</td>\n",
       "      <td>17</td>\n",
       "      <td>22</td>\n",
       "      <td>24</td>\n",
       "      <td>19</td>\n",
       "    </tr>\n",
       "    <tr>\n",
       "      <th>4</th>\n",
       "      <td>Srabanti</td>\n",
       "      <td>2</td>\n",
       "      <td>23</td>\n",
       "      <td>15</td>\n",
       "      <td>21</td>\n",
       "      <td>25</td>\n",
       "      <td>15</td>\n",
       "    </tr>\n",
       "    <tr>\n",
       "      <th>5</th>\n",
       "      <td>Srabanti</td>\n",
       "      <td>3</td>\n",
       "      <td>22</td>\n",
       "      <td>18</td>\n",
       "      <td>19</td>\n",
       "      <td>23</td>\n",
       "      <td>13</td>\n",
       "    </tr>\n",
       "    <tr>\n",
       "      <th>0</th>\n",
       "      <td>Suci</td>\n",
       "      <td>1</td>\n",
       "      <td>22</td>\n",
       "      <td>21</td>\n",
       "      <td>18</td>\n",
       "      <td>20</td>\n",
       "      <td>21</td>\n",
       "    </tr>\n",
       "    <tr>\n",
       "      <th>1</th>\n",
       "      <td>Suci</td>\n",
       "      <td>2</td>\n",
       "      <td>21</td>\n",
       "      <td>20</td>\n",
       "      <td>17</td>\n",
       "      <td>22</td>\n",
       "      <td>24</td>\n",
       "    </tr>\n",
       "    <tr>\n",
       "      <th>2</th>\n",
       "      <td>Suci</td>\n",
       "      <td>3</td>\n",
       "      <td>14</td>\n",
       "      <td>19</td>\n",
       "      <td>15</td>\n",
       "      <td>24</td>\n",
       "      <td>23</td>\n",
       "    </tr>\n",
       "  </tbody>\n",
       "</table>\n",
       "</div>"
      ],
      "text/plain": [
       "        Name  UnitTest  DataMining  AI  Graphics  ImageProcessing  \\\n",
       "6    Ashravy         1          23  19        20               15   \n",
       "7    Ashravy         2          24  22        24               17   \n",
       "8    Ashravy         3          12  25        19               21   \n",
       "9     Mishti         1          15  22        25               22   \n",
       "10    Mishti         2          18  21        25               24   \n",
       "11    Mishti         3          17  18        20               25   \n",
       "3   Srabanti         1          20  17        22               24   \n",
       "4   Srabanti         2          23  15        21               25   \n",
       "5   Srabanti         3          22  18        19               23   \n",
       "0       Suci         1          22  21        18               20   \n",
       "1       Suci         2          21  20        17               22   \n",
       "2       Suci         3          14  19        15               24   \n",
       "\n",
       "    Cryptography  \n",
       "6             22  \n",
       "7             21  \n",
       "8             23  \n",
       "9             22  \n",
       "10            23  \n",
       "11            20  \n",
       "3             19  \n",
       "4             15  \n",
       "5             13  \n",
       "0             21  \n",
       "1             24  \n",
       "2             23  "
      ]
     },
     "execution_count": 1080,
     "metadata": {},
     "output_type": "execute_result"
    }
   ],
   "source": [
    "MarksInformation.sort_values(by=['Name'])"
   ]
  },
  {
   "cell_type": "markdown",
   "id": "14c6b44c-1217-46a7-b53b-0c0c36f1c2aa",
   "metadata": {},
   "source": [
    "Now, to obtain sorted list of marks scored by all\n",
    "students in Science in Unit Test 2, the following code\n",
    "can be used:"
   ]
  },
  {
   "cell_type": "code",
   "execution_count": 1081,
   "id": "baf3ddc4-686d-490d-9702-8f48490e5399",
   "metadata": {},
   "outputs": [
    {
     "data": {
      "text/html": [
       "<div>\n",
       "<style scoped>\n",
       "    .dataframe tbody tr th:only-of-type {\n",
       "        vertical-align: middle;\n",
       "    }\n",
       "\n",
       "    .dataframe tbody tr th {\n",
       "        vertical-align: top;\n",
       "    }\n",
       "\n",
       "    .dataframe thead th {\n",
       "        text-align: right;\n",
       "    }\n",
       "</style>\n",
       "<table border=\"1\" class=\"dataframe\">\n",
       "  <thead>\n",
       "    <tr style=\"text-align: right;\">\n",
       "      <th></th>\n",
       "      <th>Name</th>\n",
       "      <th>UnitTest</th>\n",
       "      <th>DataMining</th>\n",
       "      <th>AI</th>\n",
       "      <th>Graphics</th>\n",
       "      <th>ImageProcessing</th>\n",
       "      <th>Cryptography</th>\n",
       "    </tr>\n",
       "  </thead>\n",
       "  <tbody>\n",
       "    <tr>\n",
       "      <th>1</th>\n",
       "      <td>Suci</td>\n",
       "      <td>2</td>\n",
       "      <td>21</td>\n",
       "      <td>20</td>\n",
       "      <td>17</td>\n",
       "      <td>22</td>\n",
       "      <td>24</td>\n",
       "    </tr>\n",
       "    <tr>\n",
       "      <th>4</th>\n",
       "      <td>Srabanti</td>\n",
       "      <td>2</td>\n",
       "      <td>23</td>\n",
       "      <td>15</td>\n",
       "      <td>21</td>\n",
       "      <td>25</td>\n",
       "      <td>15</td>\n",
       "    </tr>\n",
       "    <tr>\n",
       "      <th>7</th>\n",
       "      <td>Ashravy</td>\n",
       "      <td>2</td>\n",
       "      <td>24</td>\n",
       "      <td>22</td>\n",
       "      <td>24</td>\n",
       "      <td>17</td>\n",
       "      <td>21</td>\n",
       "    </tr>\n",
       "    <tr>\n",
       "      <th>10</th>\n",
       "      <td>Mishti</td>\n",
       "      <td>2</td>\n",
       "      <td>18</td>\n",
       "      <td>21</td>\n",
       "      <td>25</td>\n",
       "      <td>24</td>\n",
       "      <td>23</td>\n",
       "    </tr>\n",
       "  </tbody>\n",
       "</table>\n",
       "</div>"
      ],
      "text/plain": [
       "        Name  UnitTest  DataMining  AI  Graphics  ImageProcessing  \\\n",
       "1       Suci         2          21  20        17               22   \n",
       "4   Srabanti         2          23  15        21               25   \n",
       "7    Ashravy         2          24  22        24               17   \n",
       "10    Mishti         2          18  21        25               24   \n",
       "\n",
       "    Cryptography  \n",
       "1             24  \n",
       "4             15  \n",
       "7             21  \n",
       "10            23  "
      ]
     },
     "execution_count": 1081,
     "metadata": {},
     "output_type": "execute_result"
    }
   ],
   "source": [
    "test2 = MarksInformation[MarksInformation.UnitTest== 2]\n",
    "test2\n"
   ]
  },
  {
   "cell_type": "code",
   "execution_count": 1082,
   "id": "cdbebb0c-656f-44a4-90ef-67d8e4fe6775",
   "metadata": {},
   "outputs": [
    {
     "data": {
      "text/html": [
       "<div>\n",
       "<style scoped>\n",
       "    .dataframe tbody tr th:only-of-type {\n",
       "        vertical-align: middle;\n",
       "    }\n",
       "\n",
       "    .dataframe tbody tr th {\n",
       "        vertical-align: top;\n",
       "    }\n",
       "\n",
       "    .dataframe thead th {\n",
       "        text-align: right;\n",
       "    }\n",
       "</style>\n",
       "<table border=\"1\" class=\"dataframe\">\n",
       "  <thead>\n",
       "    <tr style=\"text-align: right;\">\n",
       "      <th></th>\n",
       "      <th>Name</th>\n",
       "      <th>UnitTest</th>\n",
       "      <th>DataMining</th>\n",
       "      <th>AI</th>\n",
       "      <th>Graphics</th>\n",
       "      <th>ImageProcessing</th>\n",
       "      <th>Cryptography</th>\n",
       "    </tr>\n",
       "  </thead>\n",
       "  <tbody>\n",
       "    <tr>\n",
       "      <th>10</th>\n",
       "      <td>Mishti</td>\n",
       "      <td>2</td>\n",
       "      <td>18</td>\n",
       "      <td>21</td>\n",
       "      <td>25</td>\n",
       "      <td>24</td>\n",
       "      <td>23</td>\n",
       "    </tr>\n",
       "    <tr>\n",
       "      <th>1</th>\n",
       "      <td>Suci</td>\n",
       "      <td>2</td>\n",
       "      <td>21</td>\n",
       "      <td>20</td>\n",
       "      <td>17</td>\n",
       "      <td>22</td>\n",
       "      <td>24</td>\n",
       "    </tr>\n",
       "    <tr>\n",
       "      <th>4</th>\n",
       "      <td>Srabanti</td>\n",
       "      <td>2</td>\n",
       "      <td>23</td>\n",
       "      <td>15</td>\n",
       "      <td>21</td>\n",
       "      <td>25</td>\n",
       "      <td>15</td>\n",
       "    </tr>\n",
       "    <tr>\n",
       "      <th>7</th>\n",
       "      <td>Ashravy</td>\n",
       "      <td>2</td>\n",
       "      <td>24</td>\n",
       "      <td>22</td>\n",
       "      <td>24</td>\n",
       "      <td>17</td>\n",
       "      <td>21</td>\n",
       "    </tr>\n",
       "  </tbody>\n",
       "</table>\n",
       "</div>"
      ],
      "text/plain": [
       "        Name  UnitTest  DataMining  AI  Graphics  ImageProcessing  \\\n",
       "10    Mishti         2          18  21        25               24   \n",
       "1       Suci         2          21  20        17               22   \n",
       "4   Srabanti         2          23  15        21               25   \n",
       "7    Ashravy         2          24  22        24               17   \n",
       "\n",
       "    Cryptography  \n",
       "10            23  \n",
       "1             24  \n",
       "4             15  \n",
       "7             21  "
      ]
     },
     "execution_count": 1082,
     "metadata": {},
     "output_type": "execute_result"
    }
   ],
   "source": [
    "test2.sort_values(by=['DataMining'])"
   ]
  },
  {
   "cell_type": "markdown",
   "id": "73d0d242-7b22-4c88-aa36-dc3d5d8ff71b",
   "metadata": {},
   "source": [
    "Write the statement which will sort the\n",
    "marks in English in the DataFrame df\n",
    "based on Unit Test 3, in descending order"
   ]
  },
  {
   "cell_type": "code",
   "execution_count": 1083,
   "id": "a96cc936-e767-407f-9807-def65ae3314a",
   "metadata": {},
   "outputs": [
    {
     "data": {
      "text/html": [
       "<div>\n",
       "<style scoped>\n",
       "    .dataframe tbody tr th:only-of-type {\n",
       "        vertical-align: middle;\n",
       "    }\n",
       "\n",
       "    .dataframe tbody tr th {\n",
       "        vertical-align: top;\n",
       "    }\n",
       "\n",
       "    .dataframe thead th {\n",
       "        text-align: right;\n",
       "    }\n",
       "</style>\n",
       "<table border=\"1\" class=\"dataframe\">\n",
       "  <thead>\n",
       "    <tr style=\"text-align: right;\">\n",
       "      <th></th>\n",
       "      <th>Name</th>\n",
       "      <th>UnitTest</th>\n",
       "      <th>DataMining</th>\n",
       "      <th>AI</th>\n",
       "      <th>Graphics</th>\n",
       "      <th>ImageProcessing</th>\n",
       "      <th>Cryptography</th>\n",
       "    </tr>\n",
       "  </thead>\n",
       "  <tbody>\n",
       "    <tr>\n",
       "      <th>2</th>\n",
       "      <td>Suci</td>\n",
       "      <td>3</td>\n",
       "      <td>14</td>\n",
       "      <td>19</td>\n",
       "      <td>15</td>\n",
       "      <td>24</td>\n",
       "      <td>23</td>\n",
       "    </tr>\n",
       "    <tr>\n",
       "      <th>5</th>\n",
       "      <td>Srabanti</td>\n",
       "      <td>3</td>\n",
       "      <td>22</td>\n",
       "      <td>18</td>\n",
       "      <td>19</td>\n",
       "      <td>23</td>\n",
       "      <td>13</td>\n",
       "    </tr>\n",
       "    <tr>\n",
       "      <th>8</th>\n",
       "      <td>Ashravy</td>\n",
       "      <td>3</td>\n",
       "      <td>12</td>\n",
       "      <td>25</td>\n",
       "      <td>19</td>\n",
       "      <td>21</td>\n",
       "      <td>23</td>\n",
       "    </tr>\n",
       "    <tr>\n",
       "      <th>11</th>\n",
       "      <td>Mishti</td>\n",
       "      <td>3</td>\n",
       "      <td>17</td>\n",
       "      <td>18</td>\n",
       "      <td>20</td>\n",
       "      <td>25</td>\n",
       "      <td>20</td>\n",
       "    </tr>\n",
       "  </tbody>\n",
       "</table>\n",
       "</div>"
      ],
      "text/plain": [
       "        Name  UnitTest  DataMining  AI  Graphics  ImageProcessing  \\\n",
       "2       Suci         3          14  19        15               24   \n",
       "5   Srabanti         3          22  18        19               23   \n",
       "8    Ashravy         3          12  25        19               21   \n",
       "11    Mishti         3          17  18        20               25   \n",
       "\n",
       "    Cryptography  \n",
       "2             23  \n",
       "5             13  \n",
       "8             23  \n",
       "11            20  "
      ]
     },
     "execution_count": 1083,
     "metadata": {},
     "output_type": "execute_result"
    }
   ],
   "source": [
    "UnitTest3 =  MarksInformation[MarksInformation.UnitTest == 3]\n",
    "UnitTest3"
   ]
  },
  {
   "cell_type": "markdown",
   "id": "62c8bd26-03c8-4021-bff3-eabcf7d1bba7",
   "metadata": {},
   "source": [
    "Sort according to descending order of marks in\n",
    "Science"
   ]
  },
  {
   "cell_type": "code",
   "execution_count": 1084,
   "id": "4dd6457b-bd26-4b2a-83c3-99bb701a6d66",
   "metadata": {},
   "outputs": [
    {
     "data": {
      "text/html": [
       "<div>\n",
       "<style scoped>\n",
       "    .dataframe tbody tr th:only-of-type {\n",
       "        vertical-align: middle;\n",
       "    }\n",
       "\n",
       "    .dataframe tbody tr th {\n",
       "        vertical-align: top;\n",
       "    }\n",
       "\n",
       "    .dataframe thead th {\n",
       "        text-align: right;\n",
       "    }\n",
       "</style>\n",
       "<table border=\"1\" class=\"dataframe\">\n",
       "  <thead>\n",
       "    <tr style=\"text-align: right;\">\n",
       "      <th></th>\n",
       "      <th>Name</th>\n",
       "      <th>UnitTest</th>\n",
       "      <th>DataMining</th>\n",
       "      <th>AI</th>\n",
       "      <th>Graphics</th>\n",
       "      <th>ImageProcessing</th>\n",
       "      <th>Cryptography</th>\n",
       "    </tr>\n",
       "  </thead>\n",
       "  <tbody>\n",
       "    <tr>\n",
       "      <th>8</th>\n",
       "      <td>Ashravy</td>\n",
       "      <td>3</td>\n",
       "      <td>12</td>\n",
       "      <td>25</td>\n",
       "      <td>19</td>\n",
       "      <td>21</td>\n",
       "      <td>23</td>\n",
       "    </tr>\n",
       "    <tr>\n",
       "      <th>2</th>\n",
       "      <td>Suci</td>\n",
       "      <td>3</td>\n",
       "      <td>14</td>\n",
       "      <td>19</td>\n",
       "      <td>15</td>\n",
       "      <td>24</td>\n",
       "      <td>23</td>\n",
       "    </tr>\n",
       "    <tr>\n",
       "      <th>5</th>\n",
       "      <td>Srabanti</td>\n",
       "      <td>3</td>\n",
       "      <td>22</td>\n",
       "      <td>18</td>\n",
       "      <td>19</td>\n",
       "      <td>23</td>\n",
       "      <td>13</td>\n",
       "    </tr>\n",
       "    <tr>\n",
       "      <th>11</th>\n",
       "      <td>Mishti</td>\n",
       "      <td>3</td>\n",
       "      <td>17</td>\n",
       "      <td>18</td>\n",
       "      <td>20</td>\n",
       "      <td>25</td>\n",
       "      <td>20</td>\n",
       "    </tr>\n",
       "  </tbody>\n",
       "</table>\n",
       "</div>"
      ],
      "text/plain": [
       "        Name  UnitTest  DataMining  AI  Graphics  ImageProcessing  \\\n",
       "8    Ashravy         3          12  25        19               21   \n",
       "2       Suci         3          14  19        15               24   \n",
       "5   Srabanti         3          22  18        19               23   \n",
       "11    Mishti         3          17  18        20               25   \n",
       "\n",
       "    Cryptography  \n",
       "8             23  \n",
       "2             23  \n",
       "5             13  \n",
       "11            20  "
      ]
     },
     "execution_count": 1084,
     "metadata": {},
     "output_type": "execute_result"
    }
   ],
   "source": [
    "UnitTest3.sort_values(by=['AI'],ascending=False)"
   ]
  },
  {
   "cell_type": "markdown",
   "id": "851efafe-748b-457e-8140-a53de92dd275",
   "metadata": {},
   "source": [
    "A DataFrame can be sorted based on multiple\n",
    "columns. Following is the code of sorting the DataFrame\n",
    "df based on marks in Science in Unit Test 3 in ascending\n",
    "order. If marks in Science are the same, then sorting\n",
    "will be done on the basis of marks in Hindi"
   ]
  },
  {
   "cell_type": "markdown",
   "id": "6353a57a-9981-4071-8962-5685895c052f",
   "metadata": {},
   "source": [
    " Get the data corresponding to marks in Unit Test 3"
   ]
  },
  {
   "cell_type": "code",
   "execution_count": 1085,
   "id": "7822551d-4d57-4436-be93-63e295f7e3a6",
   "metadata": {},
   "outputs": [],
   "source": [
    "UnitTest3 =  MarksInformation[MarksInformation.UnitTest == 3]\n"
   ]
  },
  {
   "cell_type": "markdown",
   "id": "42d08024-72f3-4f1e-96d1-511b31836064",
   "metadata": {},
   "source": [
    " Sort the data according to Science and then\r\n",
    "according to Hindi"
   ]
  },
  {
   "cell_type": "code",
   "execution_count": 1086,
   "id": "a085627e-c7c7-468a-9ee7-7a2db563f4d5",
   "metadata": {},
   "outputs": [
    {
     "data": {
      "text/html": [
       "<div>\n",
       "<style scoped>\n",
       "    .dataframe tbody tr th:only-of-type {\n",
       "        vertical-align: middle;\n",
       "    }\n",
       "\n",
       "    .dataframe tbody tr th {\n",
       "        vertical-align: top;\n",
       "    }\n",
       "\n",
       "    .dataframe thead th {\n",
       "        text-align: right;\n",
       "    }\n",
       "</style>\n",
       "<table border=\"1\" class=\"dataframe\">\n",
       "  <thead>\n",
       "    <tr style=\"text-align: right;\">\n",
       "      <th></th>\n",
       "      <th>Name</th>\n",
       "      <th>UnitTest</th>\n",
       "      <th>DataMining</th>\n",
       "      <th>AI</th>\n",
       "      <th>Graphics</th>\n",
       "      <th>ImageProcessing</th>\n",
       "      <th>Cryptography</th>\n",
       "    </tr>\n",
       "  </thead>\n",
       "  <tbody>\n",
       "    <tr>\n",
       "      <th>5</th>\n",
       "      <td>Srabanti</td>\n",
       "      <td>3</td>\n",
       "      <td>22</td>\n",
       "      <td>18</td>\n",
       "      <td>19</td>\n",
       "      <td>23</td>\n",
       "      <td>13</td>\n",
       "    </tr>\n",
       "    <tr>\n",
       "      <th>11</th>\n",
       "      <td>Mishti</td>\n",
       "      <td>3</td>\n",
       "      <td>17</td>\n",
       "      <td>18</td>\n",
       "      <td>20</td>\n",
       "      <td>25</td>\n",
       "      <td>20</td>\n",
       "    </tr>\n",
       "    <tr>\n",
       "      <th>2</th>\n",
       "      <td>Suci</td>\n",
       "      <td>3</td>\n",
       "      <td>14</td>\n",
       "      <td>19</td>\n",
       "      <td>15</td>\n",
       "      <td>24</td>\n",
       "      <td>23</td>\n",
       "    </tr>\n",
       "    <tr>\n",
       "      <th>8</th>\n",
       "      <td>Ashravy</td>\n",
       "      <td>3</td>\n",
       "      <td>12</td>\n",
       "      <td>25</td>\n",
       "      <td>19</td>\n",
       "      <td>21</td>\n",
       "      <td>23</td>\n",
       "    </tr>\n",
       "  </tbody>\n",
       "</table>\n",
       "</div>"
      ],
      "text/plain": [
       "        Name  UnitTest  DataMining  AI  Graphics  ImageProcessing  \\\n",
       "5   Srabanti         3          22  18        19               23   \n",
       "11    Mishti         3          17  18        20               25   \n",
       "2       Suci         3          14  19        15               24   \n",
       "8    Ashravy         3          12  25        19               21   \n",
       "\n",
       "    Cryptography  \n",
       "5             13  \n",
       "11            20  \n",
       "2             23  \n",
       "8             23  "
      ]
     },
     "execution_count": 1086,
     "metadata": {},
     "output_type": "execute_result"
    }
   ],
   "source": [
    " UnitTest3.sort_values(by=['AI','ImageProcessing'])"
   ]
  },
  {
   "cell_type": "markdown",
   "id": "211c0fb8-bc64-41ca-87d1-c791df8263e8",
   "metadata": {},
   "source": [
    "Here, we can see that the list is sorted on the basis\n",
    "of marks in Science. Two students namely, Srabanti and\n",
    "Mishti have equal marks (18) in Science. Therefore for\n",
    "them, sorting is done on the basis of marks in ImageProcessing."
   ]
  },
  {
   "cell_type": "markdown",
   "id": "19ef8651-a965-4311-a80c-c920bc234758",
   "metadata": {},
   "source": [
    "**GROUP BY FUNCTIONS**"
   ]
  },
  {
   "cell_type": "markdown",
   "id": "066786b2-e9a5-4d0c-8eb4-7b14df08197d",
   "metadata": {},
   "source": [
    "In pandas, DataFrame.GROUP BY() function is used\r\n",
    "to split the data into groups based on some criteria.\r\n",
    "Pandas objects like a DataFrame can be split on any\r\n",
    "of their axes. The GROUP BY function works based on\r\n",
    "a split-apply-combine strategy which is shown below\r\n",
    "using a 3-step process:"
   ]
  },
  {
   "cell_type": "markdown",
   "id": "fbdb2791-1148-4a3e-9f22-39aa19b08bb8",
   "metadata": {},
   "source": [
    "Step 1: Split the data into groups by creating a GROUP\r\n",
    "BY object from the original DataFrame."
   ]
  },
  {
   "cell_type": "markdown",
   "id": "46a4ea07-6a2f-43b5-b655-682674e7f6df",
   "metadata": {},
   "source": [
    "Step 2: Apply the required function."
   ]
  },
  {
   "cell_type": "markdown",
   "id": "fc43885a-95e3-49ad-a299-e4f53f1069a6",
   "metadata": {},
   "source": [
    "Step 3: Combine the results to form a new DataFrame. \n"
   ]
  },
  {
   "cell_type": "markdown",
   "id": "1082f3b1-9e16-43f8-8456-15a6a017bcfc",
   "metadata": {},
   "source": [
    "**Create a GROUP BY Name of the student from\n",
    "DataFrame MarksInformation**"
   ]
  },
  {
   "cell_type": "code",
   "execution_count": 1087,
   "id": "c24b7450-0395-4d93-9ff0-9dff04d56f4c",
   "metadata": {},
   "outputs": [
    {
     "data": {
      "text/plain": [
       "<pandas.core.groupby.generic.DataFrameGroupBy object at 0x0000019BEE3C40B0>"
      ]
     },
     "execution_count": 1087,
     "metadata": {},
     "output_type": "execute_result"
    }
   ],
   "source": [
    "group=MarksInformation.groupby('Name')\n",
    "group"
   ]
  },
  {
   "cell_type": "markdown",
   "id": "cc4ce8e1-7325-4799-b44a-f47020b3c35e",
   "metadata": {},
   "source": [
    "Displaying the first entry from each group"
   ]
  },
  {
   "cell_type": "code",
   "execution_count": 1088,
   "id": "54c09551-64bf-4300-90e9-936c63455e0f",
   "metadata": {},
   "outputs": [
    {
     "data": {
      "text/html": [
       "<div>\n",
       "<style scoped>\n",
       "    .dataframe tbody tr th:only-of-type {\n",
       "        vertical-align: middle;\n",
       "    }\n",
       "\n",
       "    .dataframe tbody tr th {\n",
       "        vertical-align: top;\n",
       "    }\n",
       "\n",
       "    .dataframe thead th {\n",
       "        text-align: right;\n",
       "    }\n",
       "</style>\n",
       "<table border=\"1\" class=\"dataframe\">\n",
       "  <thead>\n",
       "    <tr style=\"text-align: right;\">\n",
       "      <th></th>\n",
       "      <th>UnitTest</th>\n",
       "      <th>DataMining</th>\n",
       "      <th>AI</th>\n",
       "      <th>Graphics</th>\n",
       "      <th>ImageProcessing</th>\n",
       "      <th>Cryptography</th>\n",
       "    </tr>\n",
       "    <tr>\n",
       "      <th>Name</th>\n",
       "      <th></th>\n",
       "      <th></th>\n",
       "      <th></th>\n",
       "      <th></th>\n",
       "      <th></th>\n",
       "      <th></th>\n",
       "    </tr>\n",
       "  </thead>\n",
       "  <tbody>\n",
       "    <tr>\n",
       "      <th>Ashravy</th>\n",
       "      <td>1</td>\n",
       "      <td>23</td>\n",
       "      <td>19</td>\n",
       "      <td>20</td>\n",
       "      <td>15</td>\n",
       "      <td>22</td>\n",
       "    </tr>\n",
       "    <tr>\n",
       "      <th>Mishti</th>\n",
       "      <td>1</td>\n",
       "      <td>15</td>\n",
       "      <td>22</td>\n",
       "      <td>25</td>\n",
       "      <td>22</td>\n",
       "      <td>22</td>\n",
       "    </tr>\n",
       "    <tr>\n",
       "      <th>Srabanti</th>\n",
       "      <td>1</td>\n",
       "      <td>20</td>\n",
       "      <td>17</td>\n",
       "      <td>22</td>\n",
       "      <td>24</td>\n",
       "      <td>19</td>\n",
       "    </tr>\n",
       "    <tr>\n",
       "      <th>Suci</th>\n",
       "      <td>1</td>\n",
       "      <td>22</td>\n",
       "      <td>21</td>\n",
       "      <td>18</td>\n",
       "      <td>20</td>\n",
       "      <td>21</td>\n",
       "    </tr>\n",
       "  </tbody>\n",
       "</table>\n",
       "</div>"
      ],
      "text/plain": [
       "          UnitTest  DataMining  AI  Graphics  ImageProcessing  Cryptography\n",
       "Name                                                                       \n",
       "Ashravy          1          23  19        20               15            22\n",
       "Mishti           1          15  22        25               22            22\n",
       "Srabanti         1          20  17        22               24            19\n",
       "Suci             1          22  21        18               20            21"
      ]
     },
     "execution_count": 1088,
     "metadata": {},
     "output_type": "execute_result"
    }
   ],
   "source": [
    " group.first()"
   ]
  },
  {
   "cell_type": "code",
   "execution_count": 1089,
   "id": "fd96755b-4f3d-4eb6-bceb-79919dbc464a",
   "metadata": {},
   "outputs": [
    {
     "data": {
      "text/plain": [
       "Name\n",
       "Ashravy     3\n",
       "Mishti      3\n",
       "Srabanti    3\n",
       "Suci        3\n",
       "dtype: int64"
      ]
     },
     "execution_count": 1089,
     "metadata": {},
     "output_type": "execute_result"
    }
   ],
   "source": [
    "group.size()"
   ]
  },
  {
   "cell_type": "markdown",
   "id": "a47e13a3-f0cf-42c9-bfb7-f9934e754035",
   "metadata": {},
   "source": [
    "Displaying group data, i.e., group_name, row\n",
    "indexes corresponding to the group and their\n",
    "data type "
   ]
  },
  {
   "cell_type": "code",
   "execution_count": 1090,
   "id": "b3fb249b-b368-4683-abef-6f66fad3f5cb",
   "metadata": {},
   "outputs": [
    {
     "data": {
      "text/plain": [
       "{'Ashravy': [6, 7, 8], 'Mishti': [9, 10, 11], 'Srabanti': [3, 4, 5], 'Suci': [0, 1, 2]}"
      ]
     },
     "execution_count": 1090,
     "metadata": {},
     "output_type": "execute_result"
    }
   ],
   "source": [
    "group.groups"
   ]
  },
  {
   "cell_type": "markdown",
   "id": "2c41ac48-9bb5-4df9-aa73-15ca46a16589",
   "metadata": {},
   "source": [
    "Printing data of a single group"
   ]
  },
  {
   "cell_type": "code",
   "execution_count": 1091,
   "id": "a6797298-2f21-4ae6-a500-5d0b4da46411",
   "metadata": {},
   "outputs": [
    {
     "data": {
      "text/html": [
       "<div>\n",
       "<style scoped>\n",
       "    .dataframe tbody tr th:only-of-type {\n",
       "        vertical-align: middle;\n",
       "    }\n",
       "\n",
       "    .dataframe tbody tr th {\n",
       "        vertical-align: top;\n",
       "    }\n",
       "\n",
       "    .dataframe thead th {\n",
       "        text-align: right;\n",
       "    }\n",
       "</style>\n",
       "<table border=\"1\" class=\"dataframe\">\n",
       "  <thead>\n",
       "    <tr style=\"text-align: right;\">\n",
       "      <th></th>\n",
       "      <th>Name</th>\n",
       "      <th>UnitTest</th>\n",
       "      <th>DataMining</th>\n",
       "      <th>AI</th>\n",
       "      <th>Graphics</th>\n",
       "      <th>ImageProcessing</th>\n",
       "      <th>Cryptography</th>\n",
       "    </tr>\n",
       "  </thead>\n",
       "  <tbody>\n",
       "    <tr>\n",
       "      <th>0</th>\n",
       "      <td>Suci</td>\n",
       "      <td>1</td>\n",
       "      <td>22</td>\n",
       "      <td>21</td>\n",
       "      <td>18</td>\n",
       "      <td>20</td>\n",
       "      <td>21</td>\n",
       "    </tr>\n",
       "    <tr>\n",
       "      <th>1</th>\n",
       "      <td>Suci</td>\n",
       "      <td>2</td>\n",
       "      <td>21</td>\n",
       "      <td>20</td>\n",
       "      <td>17</td>\n",
       "      <td>22</td>\n",
       "      <td>24</td>\n",
       "    </tr>\n",
       "    <tr>\n",
       "      <th>2</th>\n",
       "      <td>Suci</td>\n",
       "      <td>3</td>\n",
       "      <td>14</td>\n",
       "      <td>19</td>\n",
       "      <td>15</td>\n",
       "      <td>24</td>\n",
       "      <td>23</td>\n",
       "    </tr>\n",
       "  </tbody>\n",
       "</table>\n",
       "</div>"
      ],
      "text/plain": [
       "   Name  UnitTest  DataMining  AI  Graphics  ImageProcessing  Cryptography\n",
       "0  Suci         1          22  21        18               20            21\n",
       "1  Suci         2          21  20        17               22            24\n",
       "2  Suci         3          14  19        15               24            23"
      ]
     },
     "execution_count": 1091,
     "metadata": {},
     "output_type": "execute_result"
    }
   ],
   "source": [
    "group.get_group('Suci')"
   ]
  },
  {
   "cell_type": "markdown",
   "id": "eddbacc2-76e7-4d70-bb64-a8e948a238a0",
   "metadata": {},
   "source": [
    "Grouping with respect to multiple attributes.\n",
    "Creating a GROUP BY Name and UT\n"
   ]
  },
  {
   "cell_type": "code",
   "execution_count": 1092,
   "id": "c77b4136-5079-4e55-a3d9-92f7618b4846",
   "metadata": {},
   "outputs": [],
   "source": [
    "group2=MarksInformation.groupby(['Name', 'UnitTest'])"
   ]
  },
  {
   "cell_type": "code",
   "execution_count": 1093,
   "id": "6a89d4a2-b1ef-45c3-b083-3b0bf23c4bb2",
   "metadata": {},
   "outputs": [
    {
     "data": {
      "text/html": [
       "<div>\n",
       "<style scoped>\n",
       "    .dataframe tbody tr th:only-of-type {\n",
       "        vertical-align: middle;\n",
       "    }\n",
       "\n",
       "    .dataframe tbody tr th {\n",
       "        vertical-align: top;\n",
       "    }\n",
       "\n",
       "    .dataframe thead th {\n",
       "        text-align: right;\n",
       "    }\n",
       "</style>\n",
       "<table border=\"1\" class=\"dataframe\">\n",
       "  <thead>\n",
       "    <tr style=\"text-align: right;\">\n",
       "      <th></th>\n",
       "      <th></th>\n",
       "      <th>DataMining</th>\n",
       "      <th>AI</th>\n",
       "      <th>Graphics</th>\n",
       "      <th>ImageProcessing</th>\n",
       "      <th>Cryptography</th>\n",
       "    </tr>\n",
       "    <tr>\n",
       "      <th>Name</th>\n",
       "      <th>UnitTest</th>\n",
       "      <th></th>\n",
       "      <th></th>\n",
       "      <th></th>\n",
       "      <th></th>\n",
       "      <th></th>\n",
       "    </tr>\n",
       "  </thead>\n",
       "  <tbody>\n",
       "    <tr>\n",
       "      <th rowspan=\"3\" valign=\"top\">Ashravy</th>\n",
       "      <th>1</th>\n",
       "      <td>23</td>\n",
       "      <td>19</td>\n",
       "      <td>20</td>\n",
       "      <td>15</td>\n",
       "      <td>22</td>\n",
       "    </tr>\n",
       "    <tr>\n",
       "      <th>2</th>\n",
       "      <td>24</td>\n",
       "      <td>22</td>\n",
       "      <td>24</td>\n",
       "      <td>17</td>\n",
       "      <td>21</td>\n",
       "    </tr>\n",
       "    <tr>\n",
       "      <th>3</th>\n",
       "      <td>12</td>\n",
       "      <td>25</td>\n",
       "      <td>19</td>\n",
       "      <td>21</td>\n",
       "      <td>23</td>\n",
       "    </tr>\n",
       "    <tr>\n",
       "      <th rowspan=\"3\" valign=\"top\">Mishti</th>\n",
       "      <th>1</th>\n",
       "      <td>15</td>\n",
       "      <td>22</td>\n",
       "      <td>25</td>\n",
       "      <td>22</td>\n",
       "      <td>22</td>\n",
       "    </tr>\n",
       "    <tr>\n",
       "      <th>2</th>\n",
       "      <td>18</td>\n",
       "      <td>21</td>\n",
       "      <td>25</td>\n",
       "      <td>24</td>\n",
       "      <td>23</td>\n",
       "    </tr>\n",
       "    <tr>\n",
       "      <th>3</th>\n",
       "      <td>17</td>\n",
       "      <td>18</td>\n",
       "      <td>20</td>\n",
       "      <td>25</td>\n",
       "      <td>20</td>\n",
       "    </tr>\n",
       "    <tr>\n",
       "      <th rowspan=\"3\" valign=\"top\">Srabanti</th>\n",
       "      <th>1</th>\n",
       "      <td>20</td>\n",
       "      <td>17</td>\n",
       "      <td>22</td>\n",
       "      <td>24</td>\n",
       "      <td>19</td>\n",
       "    </tr>\n",
       "    <tr>\n",
       "      <th>2</th>\n",
       "      <td>23</td>\n",
       "      <td>15</td>\n",
       "      <td>21</td>\n",
       "      <td>25</td>\n",
       "      <td>15</td>\n",
       "    </tr>\n",
       "    <tr>\n",
       "      <th>3</th>\n",
       "      <td>22</td>\n",
       "      <td>18</td>\n",
       "      <td>19</td>\n",
       "      <td>23</td>\n",
       "      <td>13</td>\n",
       "    </tr>\n",
       "    <tr>\n",
       "      <th rowspan=\"3\" valign=\"top\">Suci</th>\n",
       "      <th>1</th>\n",
       "      <td>22</td>\n",
       "      <td>21</td>\n",
       "      <td>18</td>\n",
       "      <td>20</td>\n",
       "      <td>21</td>\n",
       "    </tr>\n",
       "    <tr>\n",
       "      <th>2</th>\n",
       "      <td>21</td>\n",
       "      <td>20</td>\n",
       "      <td>17</td>\n",
       "      <td>22</td>\n",
       "      <td>24</td>\n",
       "    </tr>\n",
       "    <tr>\n",
       "      <th>3</th>\n",
       "      <td>14</td>\n",
       "      <td>19</td>\n",
       "      <td>15</td>\n",
       "      <td>24</td>\n",
       "      <td>23</td>\n",
       "    </tr>\n",
       "  </tbody>\n",
       "</table>\n",
       "</div>"
      ],
      "text/plain": [
       "                   DataMining  AI  Graphics  ImageProcessing  Cryptography\n",
       "Name     UnitTest                                                         \n",
       "Ashravy  1                 23  19        20               15            22\n",
       "         2                 24  22        24               17            21\n",
       "         3                 12  25        19               21            23\n",
       "Mishti   1                 15  22        25               22            22\n",
       "         2                 18  21        25               24            23\n",
       "         3                 17  18        20               25            20\n",
       "Srabanti 1                 20  17        22               24            19\n",
       "         2                 23  15        21               25            15\n",
       "         3                 22  18        19               23            13\n",
       "Suci     1                 22  21        18               20            21\n",
       "         2                 21  20        17               22            24\n",
       "         3                 14  19        15               24            23"
      ]
     },
     "execution_count": 1093,
     "metadata": {},
     "output_type": "execute_result"
    }
   ],
   "source": [
    "group2.first()"
   ]
  },
  {
   "cell_type": "markdown",
   "id": "9645a4b3-b648-4d12-8fee-361476d2de09",
   "metadata": {},
   "source": [
    "The above statements show how we create groups by\n",
    "splitting a DataFrame using GROUP BY(). Next step is\n",
    "to apply functions over the groups just created. This is\n",
    "done using Aggregation.\n",
    "Aggregation is a process in which an aggregate\n",
    "function is applied on each group created by GROUP\n",
    "BY(). It returns a single aggregated statistical value\n",
    "corresponding to each group. It can be used to apply\n",
    "multiple functions over an axis. Be default, functions\n",
    "are applied over columns. Aggregation can be performed\n",
    "using agg() or aggregate() function."
   ]
  },
  {
   "cell_type": "markdown",
   "id": "47591990-382c-42f3-8dee-ad890860e849",
   "metadata": {},
   "source": [
    "Calculating average marks scored by all\n",
    "students in each subject for each Unit Test"
   ]
  },
  {
   "cell_type": "code",
   "execution_count": 1094,
   "id": "ff78534b-3485-4dda-8b0d-08ed1626f65c",
   "metadata": {},
   "outputs": [],
   "source": [
    "group3=MarksInformation.groupby('UnitTest')"
   ]
  },
  {
   "cell_type": "code",
   "execution_count": 1095,
   "id": "1c87930f-2541-4170-8930-752c1713109c",
   "metadata": {},
   "outputs": [
    {
     "data": {
      "text/html": [
       "<div>\n",
       "<style scoped>\n",
       "    .dataframe tbody tr th:only-of-type {\n",
       "        vertical-align: middle;\n",
       "    }\n",
       "\n",
       "    .dataframe tbody tr th {\n",
       "        vertical-align: top;\n",
       "    }\n",
       "\n",
       "    .dataframe thead th {\n",
       "        text-align: right;\n",
       "    }\n",
       "</style>\n",
       "<table border=\"1\" class=\"dataframe\">\n",
       "  <thead>\n",
       "    <tr style=\"text-align: right;\">\n",
       "      <th></th>\n",
       "      <th>DataMining</th>\n",
       "      <th>AI</th>\n",
       "      <th>Graphics</th>\n",
       "      <th>ImageProcessing</th>\n",
       "      <th>Cryptography</th>\n",
       "    </tr>\n",
       "    <tr>\n",
       "      <th>UnitTest</th>\n",
       "      <th></th>\n",
       "      <th></th>\n",
       "      <th></th>\n",
       "      <th></th>\n",
       "      <th></th>\n",
       "    </tr>\n",
       "  </thead>\n",
       "  <tbody>\n",
       "    <tr>\n",
       "      <th>1</th>\n",
       "      <td>20.00</td>\n",
       "      <td>19.75</td>\n",
       "      <td>21.25</td>\n",
       "      <td>20.25</td>\n",
       "      <td>21.00</td>\n",
       "    </tr>\n",
       "    <tr>\n",
       "      <th>2</th>\n",
       "      <td>21.50</td>\n",
       "      <td>19.50</td>\n",
       "      <td>21.75</td>\n",
       "      <td>22.00</td>\n",
       "      <td>20.75</td>\n",
       "    </tr>\n",
       "    <tr>\n",
       "      <th>3</th>\n",
       "      <td>16.25</td>\n",
       "      <td>20.00</td>\n",
       "      <td>18.25</td>\n",
       "      <td>23.25</td>\n",
       "      <td>19.75</td>\n",
       "    </tr>\n",
       "  </tbody>\n",
       "</table>\n",
       "</div>"
      ],
      "text/plain": [
       "          DataMining     AI  Graphics  ImageProcessing  Cryptography\n",
       "UnitTest                                                            \n",
       "1              20.00  19.75     21.25            20.25         21.00\n",
       "2              21.50  19.50     21.75            22.00         20.75\n",
       "3              16.25  20.00     18.25            23.25         19.75"
      ]
     },
     "execution_count": 1095,
     "metadata": {},
     "output_type": "execute_result"
    }
   ],
   "source": [
    "\n",
    "MarksInformation.groupby('UnitTest').agg({'DataMining':'mean','AI':'mean','Graphics':'mean','ImageProcessing':'mean','Cryptography':'mean'})\n",
    "\n"
   ]
  },
  {
   "cell_type": "markdown",
   "id": "1cf3f053-8d13-4fe3-9dba-d68924c45d8b",
   "metadata": {},
   "source": [
    "Calculate average marks scored in DataMining in\n",
    "each UnitTest\n"
   ]
  },
  {
   "cell_type": "code",
   "execution_count": 1096,
   "id": "61bb6182-8c90-49b1-b5a6-bda43cb8cd99",
   "metadata": {},
   "outputs": [
    {
     "data": {
      "text/html": [
       "<div>\n",
       "<style scoped>\n",
       "    .dataframe tbody tr th:only-of-type {\n",
       "        vertical-align: middle;\n",
       "    }\n",
       "\n",
       "    .dataframe tbody tr th {\n",
       "        vertical-align: top;\n",
       "    }\n",
       "\n",
       "    .dataframe thead th {\n",
       "        text-align: right;\n",
       "    }\n",
       "</style>\n",
       "<table border=\"1\" class=\"dataframe\">\n",
       "  <thead>\n",
       "    <tr style=\"text-align: right;\">\n",
       "      <th></th>\n",
       "      <th>DataMining</th>\n",
       "    </tr>\n",
       "    <tr>\n",
       "      <th>UnitTest</th>\n",
       "      <th></th>\n",
       "    </tr>\n",
       "  </thead>\n",
       "  <tbody>\n",
       "    <tr>\n",
       "      <th>1</th>\n",
       "      <td>20.00</td>\n",
       "    </tr>\n",
       "    <tr>\n",
       "      <th>2</th>\n",
       "      <td>21.50</td>\n",
       "    </tr>\n",
       "    <tr>\n",
       "      <th>3</th>\n",
       "      <td>16.25</td>\n",
       "    </tr>\n",
       "  </tbody>\n",
       "</table>\n",
       "</div>"
      ],
      "text/plain": [
       "          DataMining\n",
       "UnitTest            \n",
       "1              20.00\n",
       "2              21.50\n",
       "3              16.25"
      ]
     },
     "execution_count": 1096,
     "metadata": {},
     "output_type": "execute_result"
    }
   ],
   "source": [
    "MarksInformation.groupby('UnitTest').agg({'DataMining':'mean'})"
   ]
  },
  {
   "cell_type": "markdown",
   "id": "5b95043c-7b52-49c2-baea-df3a2a3eae6e",
   "metadata": {},
   "source": [
    "**Write the python statements to print the\n",
    "mean, variance, standard deviation and\n",
    "quartile of the marks scored in DataMining\n",
    "by each student across the UnitTest**"
   ]
  },
  {
   "cell_type": "code",
   "execution_count": 1097,
   "id": "1cd1d48e-4343-4d22-9432-5b36d506cb78",
   "metadata": {},
   "outputs": [
    {
     "data": {
      "text/html": [
       "<div>\n",
       "<style scoped>\n",
       "    .dataframe tbody tr th:only-of-type {\n",
       "        vertical-align: middle;\n",
       "    }\n",
       "\n",
       "    .dataframe tbody tr th {\n",
       "        vertical-align: top;\n",
       "    }\n",
       "\n",
       "    .dataframe thead tr th {\n",
       "        text-align: left;\n",
       "    }\n",
       "\n",
       "    .dataframe thead tr:last-of-type th {\n",
       "        text-align: right;\n",
       "    }\n",
       "</style>\n",
       "<table border=\"1\" class=\"dataframe\">\n",
       "  <thead>\n",
       "    <tr>\n",
       "      <th></th>\n",
       "      <th colspan=\"4\" halign=\"left\">DataMining</th>\n",
       "    </tr>\n",
       "    <tr>\n",
       "      <th></th>\n",
       "      <th>mean</th>\n",
       "      <th>var</th>\n",
       "      <th>std</th>\n",
       "      <th>quantile</th>\n",
       "    </tr>\n",
       "    <tr>\n",
       "      <th>Name</th>\n",
       "      <th></th>\n",
       "      <th></th>\n",
       "      <th></th>\n",
       "      <th></th>\n",
       "    </tr>\n",
       "  </thead>\n",
       "  <tbody>\n",
       "    <tr>\n",
       "      <th>Ashravy</th>\n",
       "      <td>19.666667</td>\n",
       "      <td>44.333333</td>\n",
       "      <td>6.658328</td>\n",
       "      <td>23.0</td>\n",
       "    </tr>\n",
       "    <tr>\n",
       "      <th>Mishti</th>\n",
       "      <td>16.666667</td>\n",
       "      <td>2.333333</td>\n",
       "      <td>1.527525</td>\n",
       "      <td>17.0</td>\n",
       "    </tr>\n",
       "    <tr>\n",
       "      <th>Srabanti</th>\n",
       "      <td>21.666667</td>\n",
       "      <td>2.333333</td>\n",
       "      <td>1.527525</td>\n",
       "      <td>22.0</td>\n",
       "    </tr>\n",
       "    <tr>\n",
       "      <th>Suci</th>\n",
       "      <td>19.000000</td>\n",
       "      <td>19.000000</td>\n",
       "      <td>4.358899</td>\n",
       "      <td>21.0</td>\n",
       "    </tr>\n",
       "  </tbody>\n",
       "</table>\n",
       "</div>"
      ],
      "text/plain": [
       "         DataMining                              \n",
       "               mean        var       std quantile\n",
       "Name                                             \n",
       "Ashravy   19.666667  44.333333  6.658328     23.0\n",
       "Mishti    16.666667   2.333333  1.527525     17.0\n",
       "Srabanti  21.666667   2.333333  1.527525     22.0\n",
       "Suci      19.000000  19.000000  4.358899     21.0"
      ]
     },
     "execution_count": 1097,
     "metadata": {},
     "output_type": "execute_result"
    }
   ],
   "source": [
    "MarksInformation.groupby('Name').agg({'DataMining':['mean','var','std','quantile']})\n"
   ]
  },
  {
   "cell_type": "markdown",
   "id": "5ed6653f-4d18-43c2-8b75-331c93deb6a3",
   "metadata": {},
   "source": [
    "**Altering the Index**"
   ]
  },
  {
   "cell_type": "markdown",
   "id": "2d2fb666-e1c6-493b-8765-b9d49ee2e687",
   "metadata": {},
   "source": [
    "We use indexing to access the elements of a DataFrame.\n",
    "It is used for fast retrieval of data. By default, a numeric\n",
    "index starting from 0 is created as a row index, as shown\n",
    "below:"
   ]
  },
  {
   "cell_type": "code",
   "execution_count": 1098,
   "id": "732b0b1b-cbfb-4267-9f68-0635289321bd",
   "metadata": {},
   "outputs": [
    {
     "data": {
      "text/html": [
       "<div>\n",
       "<style scoped>\n",
       "    .dataframe tbody tr th:only-of-type {\n",
       "        vertical-align: middle;\n",
       "    }\n",
       "\n",
       "    .dataframe tbody tr th {\n",
       "        vertical-align: top;\n",
       "    }\n",
       "\n",
       "    .dataframe thead th {\n",
       "        text-align: right;\n",
       "    }\n",
       "</style>\n",
       "<table border=\"1\" class=\"dataframe\">\n",
       "  <thead>\n",
       "    <tr style=\"text-align: right;\">\n",
       "      <th></th>\n",
       "      <th>Name</th>\n",
       "      <th>UnitTest</th>\n",
       "      <th>DataMining</th>\n",
       "      <th>AI</th>\n",
       "      <th>Graphics</th>\n",
       "      <th>ImageProcessing</th>\n",
       "      <th>Cryptography</th>\n",
       "    </tr>\n",
       "  </thead>\n",
       "  <tbody>\n",
       "    <tr>\n",
       "      <th>0</th>\n",
       "      <td>Suci</td>\n",
       "      <td>1</td>\n",
       "      <td>22</td>\n",
       "      <td>21</td>\n",
       "      <td>18</td>\n",
       "      <td>20</td>\n",
       "      <td>21</td>\n",
       "    </tr>\n",
       "    <tr>\n",
       "      <th>1</th>\n",
       "      <td>Suci</td>\n",
       "      <td>2</td>\n",
       "      <td>21</td>\n",
       "      <td>20</td>\n",
       "      <td>17</td>\n",
       "      <td>22</td>\n",
       "      <td>24</td>\n",
       "    </tr>\n",
       "    <tr>\n",
       "      <th>2</th>\n",
       "      <td>Suci</td>\n",
       "      <td>3</td>\n",
       "      <td>14</td>\n",
       "      <td>19</td>\n",
       "      <td>15</td>\n",
       "      <td>24</td>\n",
       "      <td>23</td>\n",
       "    </tr>\n",
       "    <tr>\n",
       "      <th>3</th>\n",
       "      <td>Srabanti</td>\n",
       "      <td>1</td>\n",
       "      <td>20</td>\n",
       "      <td>17</td>\n",
       "      <td>22</td>\n",
       "      <td>24</td>\n",
       "      <td>19</td>\n",
       "    </tr>\n",
       "    <tr>\n",
       "      <th>4</th>\n",
       "      <td>Srabanti</td>\n",
       "      <td>2</td>\n",
       "      <td>23</td>\n",
       "      <td>15</td>\n",
       "      <td>21</td>\n",
       "      <td>25</td>\n",
       "      <td>15</td>\n",
       "    </tr>\n",
       "    <tr>\n",
       "      <th>5</th>\n",
       "      <td>Srabanti</td>\n",
       "      <td>3</td>\n",
       "      <td>22</td>\n",
       "      <td>18</td>\n",
       "      <td>19</td>\n",
       "      <td>23</td>\n",
       "      <td>13</td>\n",
       "    </tr>\n",
       "    <tr>\n",
       "      <th>6</th>\n",
       "      <td>Ashravy</td>\n",
       "      <td>1</td>\n",
       "      <td>23</td>\n",
       "      <td>19</td>\n",
       "      <td>20</td>\n",
       "      <td>15</td>\n",
       "      <td>22</td>\n",
       "    </tr>\n",
       "    <tr>\n",
       "      <th>7</th>\n",
       "      <td>Ashravy</td>\n",
       "      <td>2</td>\n",
       "      <td>24</td>\n",
       "      <td>22</td>\n",
       "      <td>24</td>\n",
       "      <td>17</td>\n",
       "      <td>21</td>\n",
       "    </tr>\n",
       "    <tr>\n",
       "      <th>8</th>\n",
       "      <td>Ashravy</td>\n",
       "      <td>3</td>\n",
       "      <td>12</td>\n",
       "      <td>25</td>\n",
       "      <td>19</td>\n",
       "      <td>21</td>\n",
       "      <td>23</td>\n",
       "    </tr>\n",
       "    <tr>\n",
       "      <th>9</th>\n",
       "      <td>Mishti</td>\n",
       "      <td>1</td>\n",
       "      <td>15</td>\n",
       "      <td>22</td>\n",
       "      <td>25</td>\n",
       "      <td>22</td>\n",
       "      <td>22</td>\n",
       "    </tr>\n",
       "    <tr>\n",
       "      <th>10</th>\n",
       "      <td>Mishti</td>\n",
       "      <td>2</td>\n",
       "      <td>18</td>\n",
       "      <td>21</td>\n",
       "      <td>25</td>\n",
       "      <td>24</td>\n",
       "      <td>23</td>\n",
       "    </tr>\n",
       "    <tr>\n",
       "      <th>11</th>\n",
       "      <td>Mishti</td>\n",
       "      <td>3</td>\n",
       "      <td>17</td>\n",
       "      <td>18</td>\n",
       "      <td>20</td>\n",
       "      <td>25</td>\n",
       "      <td>20</td>\n",
       "    </tr>\n",
       "  </tbody>\n",
       "</table>\n",
       "</div>"
      ],
      "text/plain": [
       "        Name  UnitTest  DataMining  AI  Graphics  ImageProcessing  \\\n",
       "0       Suci         1          22  21        18               20   \n",
       "1       Suci         2          21  20        17               22   \n",
       "2       Suci         3          14  19        15               24   \n",
       "3   Srabanti         1          20  17        22               24   \n",
       "4   Srabanti         2          23  15        21               25   \n",
       "5   Srabanti         3          22  18        19               23   \n",
       "6    Ashravy         1          23  19        20               15   \n",
       "7    Ashravy         2          24  22        24               17   \n",
       "8    Ashravy         3          12  25        19               21   \n",
       "9     Mishti         1          15  22        25               22   \n",
       "10    Mishti         2          18  21        25               24   \n",
       "11    Mishti         3          17  18        20               25   \n",
       "\n",
       "    Cryptography  \n",
       "0             21  \n",
       "1             24  \n",
       "2             23  \n",
       "3             19  \n",
       "4             15  \n",
       "5             13  \n",
       "6             22  \n",
       "7             21  \n",
       "8             23  \n",
       "9             22  \n",
       "10            23  \n",
       "11            20  "
      ]
     },
     "execution_count": 1098,
     "metadata": {},
     "output_type": "execute_result"
    }
   ],
   "source": [
    "MarksInformation"
   ]
  },
  {
   "cell_type": "markdown",
   "id": "af2701b9-811e-45ef-ae65-c4fde1b58dc0",
   "metadata": {},
   "source": [
    "When we slice the data, we get the original index\n",
    "which is not continuous, e.g. when we select marks of\n",
    "all students in Unit Test 1, we get the following result:"
   ]
  },
  {
   "cell_type": "code",
   "execution_count": 1099,
   "id": "b1600546-415a-4e6e-b838-e026d4342f28",
   "metadata": {},
   "outputs": [
    {
     "data": {
      "text/html": [
       "<div>\n",
       "<style scoped>\n",
       "    .dataframe tbody tr th:only-of-type {\n",
       "        vertical-align: middle;\n",
       "    }\n",
       "\n",
       "    .dataframe tbody tr th {\n",
       "        vertical-align: top;\n",
       "    }\n",
       "\n",
       "    .dataframe thead th {\n",
       "        text-align: right;\n",
       "    }\n",
       "</style>\n",
       "<table border=\"1\" class=\"dataframe\">\n",
       "  <thead>\n",
       "    <tr style=\"text-align: right;\">\n",
       "      <th></th>\n",
       "      <th>Name</th>\n",
       "      <th>UnitTest</th>\n",
       "      <th>DataMining</th>\n",
       "      <th>AI</th>\n",
       "      <th>Graphics</th>\n",
       "      <th>ImageProcessing</th>\n",
       "      <th>Cryptography</th>\n",
       "    </tr>\n",
       "  </thead>\n",
       "  <tbody>\n",
       "    <tr>\n",
       "      <th>0</th>\n",
       "      <td>Suci</td>\n",
       "      <td>1</td>\n",
       "      <td>22</td>\n",
       "      <td>21</td>\n",
       "      <td>18</td>\n",
       "      <td>20</td>\n",
       "      <td>21</td>\n",
       "    </tr>\n",
       "    <tr>\n",
       "      <th>3</th>\n",
       "      <td>Srabanti</td>\n",
       "      <td>1</td>\n",
       "      <td>20</td>\n",
       "      <td>17</td>\n",
       "      <td>22</td>\n",
       "      <td>24</td>\n",
       "      <td>19</td>\n",
       "    </tr>\n",
       "    <tr>\n",
       "      <th>6</th>\n",
       "      <td>Ashravy</td>\n",
       "      <td>1</td>\n",
       "      <td>23</td>\n",
       "      <td>19</td>\n",
       "      <td>20</td>\n",
       "      <td>15</td>\n",
       "      <td>22</td>\n",
       "    </tr>\n",
       "    <tr>\n",
       "      <th>9</th>\n",
       "      <td>Mishti</td>\n",
       "      <td>1</td>\n",
       "      <td>15</td>\n",
       "      <td>22</td>\n",
       "      <td>25</td>\n",
       "      <td>22</td>\n",
       "      <td>22</td>\n",
       "    </tr>\n",
       "  </tbody>\n",
       "</table>\n",
       "</div>"
      ],
      "text/plain": [
       "       Name  UnitTest  DataMining  AI  Graphics  ImageProcessing  Cryptography\n",
       "0      Suci         1          22  21        18               20            21\n",
       "3  Srabanti         1          20  17        22               24            19\n",
       "6   Ashravy         1          23  19        20               15            22\n",
       "9    Mishti         1          15  22        25               22            22"
      ]
     },
     "execution_count": 1099,
     "metadata": {},
     "output_type": "execute_result"
    }
   ],
   "source": [
    "UnitTest1 = MarksInformation[MarksInformation.UnitTest == 1]\n",
    "UnitTest1\n"
   ]
  },
  {
   "cell_type": "markdown",
   "id": "5a3a34d1-8a88-4346-a520-8f95a869cc15",
   "metadata": {},
   "source": [
    "Notice that the first column is a non-continuous\n",
    "index since it is slicing of original data. We create a new\n",
    "continuous index alongside this using the reset_index()\n",
    "function, as shown below:"
   ]
  },
  {
   "cell_type": "code",
   "execution_count": 1100,
   "id": "668b22fe-875e-4ecd-8ee0-ecfe68748c3b",
   "metadata": {},
   "outputs": [
    {
     "data": {
      "text/html": [
       "<div>\n",
       "<style scoped>\n",
       "    .dataframe tbody tr th:only-of-type {\n",
       "        vertical-align: middle;\n",
       "    }\n",
       "\n",
       "    .dataframe tbody tr th {\n",
       "        vertical-align: top;\n",
       "    }\n",
       "\n",
       "    .dataframe thead th {\n",
       "        text-align: right;\n",
       "    }\n",
       "</style>\n",
       "<table border=\"1\" class=\"dataframe\">\n",
       "  <thead>\n",
       "    <tr style=\"text-align: right;\">\n",
       "      <th></th>\n",
       "      <th>index</th>\n",
       "      <th>Name</th>\n",
       "      <th>UnitTest</th>\n",
       "      <th>DataMining</th>\n",
       "      <th>AI</th>\n",
       "      <th>Graphics</th>\n",
       "      <th>ImageProcessing</th>\n",
       "      <th>Cryptography</th>\n",
       "    </tr>\n",
       "  </thead>\n",
       "  <tbody>\n",
       "    <tr>\n",
       "      <th>0</th>\n",
       "      <td>0</td>\n",
       "      <td>Suci</td>\n",
       "      <td>1</td>\n",
       "      <td>22</td>\n",
       "      <td>21</td>\n",
       "      <td>18</td>\n",
       "      <td>20</td>\n",
       "      <td>21</td>\n",
       "    </tr>\n",
       "    <tr>\n",
       "      <th>1</th>\n",
       "      <td>3</td>\n",
       "      <td>Srabanti</td>\n",
       "      <td>1</td>\n",
       "      <td>20</td>\n",
       "      <td>17</td>\n",
       "      <td>22</td>\n",
       "      <td>24</td>\n",
       "      <td>19</td>\n",
       "    </tr>\n",
       "    <tr>\n",
       "      <th>2</th>\n",
       "      <td>6</td>\n",
       "      <td>Ashravy</td>\n",
       "      <td>1</td>\n",
       "      <td>23</td>\n",
       "      <td>19</td>\n",
       "      <td>20</td>\n",
       "      <td>15</td>\n",
       "      <td>22</td>\n",
       "    </tr>\n",
       "    <tr>\n",
       "      <th>3</th>\n",
       "      <td>9</td>\n",
       "      <td>Mishti</td>\n",
       "      <td>1</td>\n",
       "      <td>15</td>\n",
       "      <td>22</td>\n",
       "      <td>25</td>\n",
       "      <td>22</td>\n",
       "      <td>22</td>\n",
       "    </tr>\n",
       "  </tbody>\n",
       "</table>\n",
       "</div>"
      ],
      "text/plain": [
       "   index      Name  UnitTest  DataMining  AI  Graphics  ImageProcessing  \\\n",
       "0      0      Suci         1          22  21        18               20   \n",
       "1      3  Srabanti         1          20  17        22               24   \n",
       "2      6   Ashravy         1          23  19        20               15   \n",
       "3      9    Mishti         1          15  22        25               22   \n",
       "\n",
       "   Cryptography  \n",
       "0            21  \n",
       "1            19  \n",
       "2            22  \n",
       "3            22  "
      ]
     },
     "execution_count": 1100,
     "metadata": {},
     "output_type": "execute_result"
    }
   ],
   "source": [
    "UnitTest1 = MarksInformation[MarksInformation.UnitTest == 1]\n",
    "UnitTest1.reset_index(inplace=True)\n",
    "UnitTest1\n"
   ]
  },
  {
   "cell_type": "markdown",
   "id": "0f4ef994-8827-4c0e-96f7-53559764e973",
   "metadata": {},
   "source": [
    "We can change the index to some other column of\n",
    "the data"
   ]
  },
  {
   "cell_type": "code",
   "execution_count": 1101,
   "id": "3d784fa4-5d37-4b7b-a799-b553e3aca578",
   "metadata": {},
   "outputs": [
    {
     "data": {
      "text/html": [
       "<div>\n",
       "<style scoped>\n",
       "    .dataframe tbody tr th:only-of-type {\n",
       "        vertical-align: middle;\n",
       "    }\n",
       "\n",
       "    .dataframe tbody tr th {\n",
       "        vertical-align: top;\n",
       "    }\n",
       "\n",
       "    .dataframe thead th {\n",
       "        text-align: right;\n",
       "    }\n",
       "</style>\n",
       "<table border=\"1\" class=\"dataframe\">\n",
       "  <thead>\n",
       "    <tr style=\"text-align: right;\">\n",
       "      <th></th>\n",
       "      <th>index</th>\n",
       "      <th>UnitTest</th>\n",
       "      <th>DataMining</th>\n",
       "      <th>AI</th>\n",
       "      <th>Graphics</th>\n",
       "      <th>ImageProcessing</th>\n",
       "      <th>Cryptography</th>\n",
       "    </tr>\n",
       "    <tr>\n",
       "      <th>Name</th>\n",
       "      <th></th>\n",
       "      <th></th>\n",
       "      <th></th>\n",
       "      <th></th>\n",
       "      <th></th>\n",
       "      <th></th>\n",
       "      <th></th>\n",
       "    </tr>\n",
       "  </thead>\n",
       "  <tbody>\n",
       "    <tr>\n",
       "      <th>Suci</th>\n",
       "      <td>0</td>\n",
       "      <td>1</td>\n",
       "      <td>22</td>\n",
       "      <td>21</td>\n",
       "      <td>18</td>\n",
       "      <td>20</td>\n",
       "      <td>21</td>\n",
       "    </tr>\n",
       "    <tr>\n",
       "      <th>Srabanti</th>\n",
       "      <td>3</td>\n",
       "      <td>1</td>\n",
       "      <td>20</td>\n",
       "      <td>17</td>\n",
       "      <td>22</td>\n",
       "      <td>24</td>\n",
       "      <td>19</td>\n",
       "    </tr>\n",
       "    <tr>\n",
       "      <th>Ashravy</th>\n",
       "      <td>6</td>\n",
       "      <td>1</td>\n",
       "      <td>23</td>\n",
       "      <td>19</td>\n",
       "      <td>20</td>\n",
       "      <td>15</td>\n",
       "      <td>22</td>\n",
       "    </tr>\n",
       "    <tr>\n",
       "      <th>Mishti</th>\n",
       "      <td>9</td>\n",
       "      <td>1</td>\n",
       "      <td>15</td>\n",
       "      <td>22</td>\n",
       "      <td>25</td>\n",
       "      <td>22</td>\n",
       "      <td>22</td>\n",
       "    </tr>\n",
       "  </tbody>\n",
       "</table>\n",
       "</div>"
      ],
      "text/plain": [
       "          index  UnitTest  DataMining  AI  Graphics  ImageProcessing  \\\n",
       "Name                                                                   \n",
       "Suci          0         1          22  21        18               20   \n",
       "Srabanti      3         1          20  17        22               24   \n",
       "Ashravy       6         1          23  19        20               15   \n",
       "Mishti        9         1          15  22        25               22   \n",
       "\n",
       "          Cryptography  \n",
       "Name                    \n",
       "Suci                21  \n",
       "Srabanti            19  \n",
       "Ashravy             22  \n",
       "Mishti              22  "
      ]
     },
     "execution_count": 1101,
     "metadata": {},
     "output_type": "execute_result"
    }
   ],
   "source": [
    "UnitTest1.set_index('Name',inplace=True)\n",
    "UnitTest1"
   ]
  },
  {
   "cell_type": "markdown",
   "id": "224d05c4-464e-470e-94a2-ff571312c775",
   "metadata": {},
   "source": [
    "We can revert back to previous index by using\n",
    "following statement:"
   ]
  },
  {
   "cell_type": "code",
   "execution_count": 1102,
   "id": "720861f6-576f-4aff-a746-7c7c9704b2e5",
   "metadata": {},
   "outputs": [
    {
     "data": {
      "text/html": [
       "<div>\n",
       "<style scoped>\n",
       "    .dataframe tbody tr th:only-of-type {\n",
       "        vertical-align: middle;\n",
       "    }\n",
       "\n",
       "    .dataframe tbody tr th {\n",
       "        vertical-align: top;\n",
       "    }\n",
       "\n",
       "    .dataframe thead th {\n",
       "        text-align: right;\n",
       "    }\n",
       "</style>\n",
       "<table border=\"1\" class=\"dataframe\">\n",
       "  <thead>\n",
       "    <tr style=\"text-align: right;\">\n",
       "      <th></th>\n",
       "      <th>Name</th>\n",
       "      <th>index</th>\n",
       "      <th>UnitTest</th>\n",
       "      <th>DataMining</th>\n",
       "      <th>AI</th>\n",
       "      <th>Graphics</th>\n",
       "      <th>ImageProcessing</th>\n",
       "      <th>Cryptography</th>\n",
       "    </tr>\n",
       "  </thead>\n",
       "  <tbody>\n",
       "    <tr>\n",
       "      <th>0</th>\n",
       "      <td>Suci</td>\n",
       "      <td>0</td>\n",
       "      <td>1</td>\n",
       "      <td>22</td>\n",
       "      <td>21</td>\n",
       "      <td>18</td>\n",
       "      <td>20</td>\n",
       "      <td>21</td>\n",
       "    </tr>\n",
       "    <tr>\n",
       "      <th>1</th>\n",
       "      <td>Srabanti</td>\n",
       "      <td>3</td>\n",
       "      <td>1</td>\n",
       "      <td>20</td>\n",
       "      <td>17</td>\n",
       "      <td>22</td>\n",
       "      <td>24</td>\n",
       "      <td>19</td>\n",
       "    </tr>\n",
       "    <tr>\n",
       "      <th>2</th>\n",
       "      <td>Ashravy</td>\n",
       "      <td>6</td>\n",
       "      <td>1</td>\n",
       "      <td>23</td>\n",
       "      <td>19</td>\n",
       "      <td>20</td>\n",
       "      <td>15</td>\n",
       "      <td>22</td>\n",
       "    </tr>\n",
       "    <tr>\n",
       "      <th>3</th>\n",
       "      <td>Mishti</td>\n",
       "      <td>9</td>\n",
       "      <td>1</td>\n",
       "      <td>15</td>\n",
       "      <td>22</td>\n",
       "      <td>25</td>\n",
       "      <td>22</td>\n",
       "      <td>22</td>\n",
       "    </tr>\n",
       "  </tbody>\n",
       "</table>\n",
       "</div>"
      ],
      "text/plain": [
       "       Name  index  UnitTest  DataMining  AI  Graphics  ImageProcessing  \\\n",
       "0      Suci      0         1          22  21        18               20   \n",
       "1  Srabanti      3         1          20  17        22               24   \n",
       "2   Ashravy      6         1          23  19        20               15   \n",
       "3    Mishti      9         1          15  22        25               22   \n",
       "\n",
       "   Cryptography  \n",
       "0            21  \n",
       "1            19  \n",
       "2            22  \n",
       "3            22  "
      ]
     },
     "execution_count": 1102,
     "metadata": {},
     "output_type": "execute_result"
    }
   ],
   "source": [
    "UnitTest1.reset_index('Name', inplace = True)\n",
    "UnitTest1\n"
   ]
  },
  {
   "cell_type": "markdown",
   "id": "c48dd822-022b-40dc-a2de-507549a73120",
   "metadata": {},
   "source": [
    "**Other DataFrame Operations**"
   ]
  },
  {
   "cell_type": "markdown",
   "id": "4e1d488a-a273-4089-a29f-e653401d122b",
   "metadata": {},
   "source": [
    "**1.Reshaping Data**"
   ]
  },
  {
   "cell_type": "markdown",
   "id": "dad41583-407c-42a9-b403-70faa297aed0",
   "metadata": {},
   "source": [
    "**(A) Pivot**"
   ]
  },
  {
   "cell_type": "markdown",
   "id": "47603ea2-5c61-411d-9a5e-388d081f5ed6",
   "metadata": {},
   "source": [
    "The pivot function is used to reshape and create a new\n",
    "DataFrame from the original one. Consider the following\n",
    "example of sales and profit data of four stores: S1, S2,\n",
    "S3 and S4 for the years 2016, 2017 and 2018. \n"
   ]
  },
  {
   "cell_type": "code",
   "execution_count": 1103,
   "id": "c4b3b38a-97c9-465e-bcfb-8da4d84c7053",
   "metadata": {},
   "outputs": [],
   "source": [
    "data={'Store':['Boi Bichitra','Pathak Shamabesh','Puthighar','Boi Bichitra','Muktodhara','Puthighar','Boi Bichitra','Muktodhara','Puthighar'],\n",
    "      'Year':[2016,2016,2016,2017,2017,2017,2018,2018,2018],\n",
    "      'Total_sales(TK)':[12000,330000,420000,20000,10000,450000,30000, 11000,89000],\n",
    "      'Total_profit(TK)':[1100,5500,21000,32000,9000,45000,3000,1900,23000]\n",
    "}"
   ]
  },
  {
   "cell_type": "code",
   "execution_count": 1104,
   "id": "f1ea5635-b2dd-4a57-8710-62b5eb922c94",
   "metadata": {},
   "outputs": [
    {
     "data": {
      "text/html": [
       "<div>\n",
       "<style scoped>\n",
       "    .dataframe tbody tr th:only-of-type {\n",
       "        vertical-align: middle;\n",
       "    }\n",
       "\n",
       "    .dataframe tbody tr th {\n",
       "        vertical-align: top;\n",
       "    }\n",
       "\n",
       "    .dataframe thead th {\n",
       "        text-align: right;\n",
       "    }\n",
       "</style>\n",
       "<table border=\"1\" class=\"dataframe\">\n",
       "  <thead>\n",
       "    <tr style=\"text-align: right;\">\n",
       "      <th></th>\n",
       "      <th>Store</th>\n",
       "      <th>Year</th>\n",
       "      <th>Total_sales(TK)</th>\n",
       "      <th>Total_profit(TK)</th>\n",
       "    </tr>\n",
       "  </thead>\n",
       "  <tbody>\n",
       "    <tr>\n",
       "      <th>0</th>\n",
       "      <td>Boi Bichitra</td>\n",
       "      <td>2016</td>\n",
       "      <td>12000</td>\n",
       "      <td>1100</td>\n",
       "    </tr>\n",
       "    <tr>\n",
       "      <th>1</th>\n",
       "      <td>Pathak Shamabesh</td>\n",
       "      <td>2016</td>\n",
       "      <td>330000</td>\n",
       "      <td>5500</td>\n",
       "    </tr>\n",
       "    <tr>\n",
       "      <th>2</th>\n",
       "      <td>Puthighar</td>\n",
       "      <td>2016</td>\n",
       "      <td>420000</td>\n",
       "      <td>21000</td>\n",
       "    </tr>\n",
       "    <tr>\n",
       "      <th>3</th>\n",
       "      <td>Boi Bichitra</td>\n",
       "      <td>2017</td>\n",
       "      <td>20000</td>\n",
       "      <td>32000</td>\n",
       "    </tr>\n",
       "    <tr>\n",
       "      <th>4</th>\n",
       "      <td>Muktodhara</td>\n",
       "      <td>2017</td>\n",
       "      <td>10000</td>\n",
       "      <td>9000</td>\n",
       "    </tr>\n",
       "    <tr>\n",
       "      <th>5</th>\n",
       "      <td>Puthighar</td>\n",
       "      <td>2017</td>\n",
       "      <td>450000</td>\n",
       "      <td>45000</td>\n",
       "    </tr>\n",
       "    <tr>\n",
       "      <th>6</th>\n",
       "      <td>Boi Bichitra</td>\n",
       "      <td>2018</td>\n",
       "      <td>30000</td>\n",
       "      <td>3000</td>\n",
       "    </tr>\n",
       "    <tr>\n",
       "      <th>7</th>\n",
       "      <td>Muktodhara</td>\n",
       "      <td>2018</td>\n",
       "      <td>11000</td>\n",
       "      <td>1900</td>\n",
       "    </tr>\n",
       "    <tr>\n",
       "      <th>8</th>\n",
       "      <td>Puthighar</td>\n",
       "      <td>2018</td>\n",
       "      <td>89000</td>\n",
       "      <td>23000</td>\n",
       "    </tr>\n",
       "  </tbody>\n",
       "</table>\n",
       "</div>"
      ],
      "text/plain": [
       "              Store  Year  Total_sales(TK)  Total_profit(TK)\n",
       "0      Boi Bichitra  2016            12000              1100\n",
       "1  Pathak Shamabesh  2016           330000              5500\n",
       "2         Puthighar  2016           420000             21000\n",
       "3      Boi Bichitra  2017            20000             32000\n",
       "4        Muktodhara  2017            10000              9000\n",
       "5         Puthighar  2017           450000             45000\n",
       "6      Boi Bichitra  2018            30000              3000\n",
       "7        Muktodhara  2018            11000              1900\n",
       "8         Puthighar  2018            89000             23000"
      ]
     },
     "execution_count": 1104,
     "metadata": {},
     "output_type": "execute_result"
    }
   ],
   "source": [
    "Transaction=pd.DataFrame(data)\n",
    "Transaction\n"
   ]
  },
  {
   "cell_type": "markdown",
   "id": "62f67d28-65c1-4476-9172-49d81c5eb779",
   "metadata": {},
   "source": [
    "Let us try to answer the following queries on the\n",
    "above data."
   ]
  },
  {
   "cell_type": "markdown",
   "id": "77f389ca-6be2-4274-a025-206adf45d1cb",
   "metadata": {},
   "source": [
    "**1) What was the total sale of store Boi Bichitra in all the years?\n",
    "Python statements to perform this task will be\n",
    "as follows:**"
   ]
  },
  {
   "cell_type": "code",
   "execution_count": 1105,
   "id": "6ac9e1f6-b050-42ed-97bf-c807b371fc7a",
   "metadata": {},
   "outputs": [
    {
     "data": {
      "text/html": [
       "<div>\n",
       "<style scoped>\n",
       "    .dataframe tbody tr th:only-of-type {\n",
       "        vertical-align: middle;\n",
       "    }\n",
       "\n",
       "    .dataframe tbody tr th {\n",
       "        vertical-align: top;\n",
       "    }\n",
       "\n",
       "    .dataframe thead th {\n",
       "        text-align: right;\n",
       "    }\n",
       "</style>\n",
       "<table border=\"1\" class=\"dataframe\">\n",
       "  <thead>\n",
       "    <tr style=\"text-align: right;\">\n",
       "      <th></th>\n",
       "      <th>Store</th>\n",
       "      <th>Year</th>\n",
       "      <th>Total_sales(TK)</th>\n",
       "      <th>Total_profit(TK)</th>\n",
       "    </tr>\n",
       "  </thead>\n",
       "  <tbody>\n",
       "    <tr>\n",
       "      <th>0</th>\n",
       "      <td>Boi Bichitra</td>\n",
       "      <td>2016</td>\n",
       "      <td>12000</td>\n",
       "      <td>1100</td>\n",
       "    </tr>\n",
       "    <tr>\n",
       "      <th>3</th>\n",
       "      <td>Boi Bichitra</td>\n",
       "      <td>2017</td>\n",
       "      <td>20000</td>\n",
       "      <td>32000</td>\n",
       "    </tr>\n",
       "    <tr>\n",
       "      <th>6</th>\n",
       "      <td>Boi Bichitra</td>\n",
       "      <td>2018</td>\n",
       "      <td>30000</td>\n",
       "      <td>3000</td>\n",
       "    </tr>\n",
       "  </tbody>\n",
       "</table>\n",
       "</div>"
      ],
      "text/plain": [
       "          Store  Year  Total_sales(TK)  Total_profit(TK)\n",
       "0  Boi Bichitra  2016            12000              1100\n",
       "3  Boi Bichitra  2017            20000             32000\n",
       "6  Boi Bichitra  2018            30000              3000"
      ]
     },
     "execution_count": 1105,
     "metadata": {},
     "output_type": "execute_result"
    }
   ],
   "source": [
    "\n",
    "Store1 = Transaction[Transaction.Store=='Boi Bichitra']\n",
    "Store1"
   ]
  },
  {
   "cell_type": "code",
   "execution_count": 1106,
   "id": "44be03d3-358b-41e0-a2a0-3d8856069060",
   "metadata": {},
   "outputs": [
    {
     "data": {
      "text/plain": [
       "62000"
      ]
     },
     "execution_count": 1106,
     "metadata": {},
     "output_type": "execute_result"
    }
   ],
   "source": [
    "Store1['Total_sales(TK)'].sum()"
   ]
  },
  {
   "cell_type": "markdown",
   "id": "c6a2ddfe-095c-4f87-9459-ca73096077a3",
   "metadata": {},
   "source": [
    "**2) What is the maximum sale value by store Puthighar in\n",
    "any year?** "
   ]
  },
  {
   "cell_type": "code",
   "execution_count": 1107,
   "id": "b1713d82-515f-4760-aac8-e4b3824a788d",
   "metadata": {},
   "outputs": [
    {
     "data": {
      "text/html": [
       "<div>\n",
       "<style scoped>\n",
       "    .dataframe tbody tr th:only-of-type {\n",
       "        vertical-align: middle;\n",
       "    }\n",
       "\n",
       "    .dataframe tbody tr th {\n",
       "        vertical-align: top;\n",
       "    }\n",
       "\n",
       "    .dataframe thead th {\n",
       "        text-align: right;\n",
       "    }\n",
       "</style>\n",
       "<table border=\"1\" class=\"dataframe\">\n",
       "  <thead>\n",
       "    <tr style=\"text-align: right;\">\n",
       "      <th></th>\n",
       "      <th>Store</th>\n",
       "      <th>Year</th>\n",
       "      <th>Total_sales(TK)</th>\n",
       "      <th>Total_profit(TK)</th>\n",
       "    </tr>\n",
       "  </thead>\n",
       "  <tbody>\n",
       "    <tr>\n",
       "      <th>2</th>\n",
       "      <td>Puthighar</td>\n",
       "      <td>2016</td>\n",
       "      <td>420000</td>\n",
       "      <td>21000</td>\n",
       "    </tr>\n",
       "    <tr>\n",
       "      <th>5</th>\n",
       "      <td>Puthighar</td>\n",
       "      <td>2017</td>\n",
       "      <td>450000</td>\n",
       "      <td>45000</td>\n",
       "    </tr>\n",
       "    <tr>\n",
       "      <th>8</th>\n",
       "      <td>Puthighar</td>\n",
       "      <td>2018</td>\n",
       "      <td>89000</td>\n",
       "      <td>23000</td>\n",
       "    </tr>\n",
       "  </tbody>\n",
       "</table>\n",
       "</div>"
      ],
      "text/plain": [
       "       Store  Year  Total_sales(TK)  Total_profit(TK)\n",
       "2  Puthighar  2016           420000             21000\n",
       "5  Puthighar  2017           450000             45000\n",
       "8  Puthighar  2018            89000             23000"
      ]
     },
     "execution_count": 1107,
     "metadata": {},
     "output_type": "execute_result"
    }
   ],
   "source": [
    "\n",
    "Store3 = Transaction[Transaction.Store=='Puthighar']\n",
    "Store3\n"
   ]
  },
  {
   "cell_type": "code",
   "execution_count": 1108,
   "id": "01ebebc3-5a2f-4048-a209-70889d698afc",
   "metadata": {},
   "outputs": [
    {
     "data": {
      "text/plain": [
       "450000"
      ]
     },
     "execution_count": 1108,
     "metadata": {},
     "output_type": "execute_result"
    }
   ],
   "source": [
    "Store3['Total_sales(TK)'].max()"
   ]
  },
  {
   "cell_type": "markdown",
   "id": "3093c3be-9ef0-43c9-b694-201fe1fa5cb0",
   "metadata": {},
   "source": [
    "**3) Which store had the maximum total sale in all\n",
    "the years?**"
   ]
  },
  {
   "cell_type": "code",
   "execution_count": 1109,
   "id": "7ba5889b-eedb-4ca2-8736-c7869c5fc9f2",
   "metadata": {},
   "outputs": [
    {
     "data": {
      "text/html": [
       "<div>\n",
       "<style scoped>\n",
       "    .dataframe tbody tr th:only-of-type {\n",
       "        vertical-align: middle;\n",
       "    }\n",
       "\n",
       "    .dataframe tbody tr th {\n",
       "        vertical-align: top;\n",
       "    }\n",
       "\n",
       "    .dataframe thead th {\n",
       "        text-align: right;\n",
       "    }\n",
       "</style>\n",
       "<table border=\"1\" class=\"dataframe\">\n",
       "  <thead>\n",
       "    <tr style=\"text-align: right;\">\n",
       "      <th></th>\n",
       "      <th>Store</th>\n",
       "      <th>Year</th>\n",
       "      <th>Total_sales(TK)</th>\n",
       "      <th>Total_profit(TK)</th>\n",
       "    </tr>\n",
       "  </thead>\n",
       "  <tbody>\n",
       "    <tr>\n",
       "      <th>0</th>\n",
       "      <td>Boi Bichitra</td>\n",
       "      <td>2016</td>\n",
       "      <td>12000</td>\n",
       "      <td>1100</td>\n",
       "    </tr>\n",
       "    <tr>\n",
       "      <th>3</th>\n",
       "      <td>Boi Bichitra</td>\n",
       "      <td>2017</td>\n",
       "      <td>20000</td>\n",
       "      <td>32000</td>\n",
       "    </tr>\n",
       "    <tr>\n",
       "      <th>6</th>\n",
       "      <td>Boi Bichitra</td>\n",
       "      <td>2018</td>\n",
       "      <td>30000</td>\n",
       "      <td>3000</td>\n",
       "    </tr>\n",
       "  </tbody>\n",
       "</table>\n",
       "</div>"
      ],
      "text/plain": [
       "          Store  Year  Total_sales(TK)  Total_profit(TK)\n",
       "0  Boi Bichitra  2016            12000              1100\n",
       "3  Boi Bichitra  2017            20000             32000\n",
       "6  Boi Bichitra  2018            30000              3000"
      ]
     },
     "execution_count": 1109,
     "metadata": {},
     "output_type": "execute_result"
    }
   ],
   "source": [
    "Store1= Transaction[Transaction.Store=='Boi Bichitra']\n",
    "Store1"
   ]
  },
  {
   "cell_type": "code",
   "execution_count": 1110,
   "id": "62c1d333-601f-45f6-90f9-2c7dc147e882",
   "metadata": {},
   "outputs": [
    {
     "data": {
      "text/html": [
       "<div>\n",
       "<style scoped>\n",
       "    .dataframe tbody tr th:only-of-type {\n",
       "        vertical-align: middle;\n",
       "    }\n",
       "\n",
       "    .dataframe tbody tr th {\n",
       "        vertical-align: top;\n",
       "    }\n",
       "\n",
       "    .dataframe thead th {\n",
       "        text-align: right;\n",
       "    }\n",
       "</style>\n",
       "<table border=\"1\" class=\"dataframe\">\n",
       "  <thead>\n",
       "    <tr style=\"text-align: right;\">\n",
       "      <th></th>\n",
       "      <th>Store</th>\n",
       "      <th>Year</th>\n",
       "      <th>Total_sales(TK)</th>\n",
       "      <th>Total_profit(TK)</th>\n",
       "    </tr>\n",
       "  </thead>\n",
       "  <tbody>\n",
       "    <tr>\n",
       "      <th>4</th>\n",
       "      <td>Muktodhara</td>\n",
       "      <td>2017</td>\n",
       "      <td>10000</td>\n",
       "      <td>9000</td>\n",
       "    </tr>\n",
       "    <tr>\n",
       "      <th>7</th>\n",
       "      <td>Muktodhara</td>\n",
       "      <td>2018</td>\n",
       "      <td>11000</td>\n",
       "      <td>1900</td>\n",
       "    </tr>\n",
       "  </tbody>\n",
       "</table>\n",
       "</div>"
      ],
      "text/plain": [
       "        Store  Year  Total_sales(TK)  Total_profit(TK)\n",
       "4  Muktodhara  2017            10000              9000\n",
       "7  Muktodhara  2018            11000              1900"
      ]
     },
     "execution_count": 1110,
     "metadata": {},
     "output_type": "execute_result"
    }
   ],
   "source": [
    "Store2=Transaction[Transaction.Store=='Muktodhara']\n",
    "Store2"
   ]
  },
  {
   "cell_type": "code",
   "execution_count": 1111,
   "id": "d747828b-10f1-4841-9e90-8b10cf2a004c",
   "metadata": {},
   "outputs": [
    {
     "data": {
      "text/html": [
       "<div>\n",
       "<style scoped>\n",
       "    .dataframe tbody tr th:only-of-type {\n",
       "        vertical-align: middle;\n",
       "    }\n",
       "\n",
       "    .dataframe tbody tr th {\n",
       "        vertical-align: top;\n",
       "    }\n",
       "\n",
       "    .dataframe thead th {\n",
       "        text-align: right;\n",
       "    }\n",
       "</style>\n",
       "<table border=\"1\" class=\"dataframe\">\n",
       "  <thead>\n",
       "    <tr style=\"text-align: right;\">\n",
       "      <th></th>\n",
       "      <th>Store</th>\n",
       "      <th>Year</th>\n",
       "      <th>Total_sales(TK)</th>\n",
       "      <th>Total_profit(TK)</th>\n",
       "    </tr>\n",
       "  </thead>\n",
       "  <tbody>\n",
       "    <tr>\n",
       "      <th>2</th>\n",
       "      <td>Puthighar</td>\n",
       "      <td>2016</td>\n",
       "      <td>420000</td>\n",
       "      <td>21000</td>\n",
       "    </tr>\n",
       "    <tr>\n",
       "      <th>5</th>\n",
       "      <td>Puthighar</td>\n",
       "      <td>2017</td>\n",
       "      <td>450000</td>\n",
       "      <td>45000</td>\n",
       "    </tr>\n",
       "    <tr>\n",
       "      <th>8</th>\n",
       "      <td>Puthighar</td>\n",
       "      <td>2018</td>\n",
       "      <td>89000</td>\n",
       "      <td>23000</td>\n",
       "    </tr>\n",
       "  </tbody>\n",
       "</table>\n",
       "</div>"
      ],
      "text/plain": [
       "       Store  Year  Total_sales(TK)  Total_profit(TK)\n",
       "2  Puthighar  2016           420000             21000\n",
       "5  Puthighar  2017           450000             45000\n",
       "8  Puthighar  2018            89000             23000"
      ]
     },
     "execution_count": 1111,
     "metadata": {},
     "output_type": "execute_result"
    }
   ],
   "source": [
    "Store3 = Transaction[Transaction.Store=='Puthighar']\n",
    "Store3"
   ]
  },
  {
   "cell_type": "code",
   "execution_count": 1112,
   "id": "9c724f8e-57f9-4b0a-a637-986b6ee97410",
   "metadata": {},
   "outputs": [
    {
     "data": {
      "text/html": [
       "<div>\n",
       "<style scoped>\n",
       "    .dataframe tbody tr th:only-of-type {\n",
       "        vertical-align: middle;\n",
       "    }\n",
       "\n",
       "    .dataframe tbody tr th {\n",
       "        vertical-align: top;\n",
       "    }\n",
       "\n",
       "    .dataframe thead th {\n",
       "        text-align: right;\n",
       "    }\n",
       "</style>\n",
       "<table border=\"1\" class=\"dataframe\">\n",
       "  <thead>\n",
       "    <tr style=\"text-align: right;\">\n",
       "      <th></th>\n",
       "      <th>Store</th>\n",
       "      <th>Year</th>\n",
       "      <th>Total_sales(TK)</th>\n",
       "      <th>Total_profit(TK)</th>\n",
       "    </tr>\n",
       "  </thead>\n",
       "  <tbody>\n",
       "    <tr>\n",
       "      <th>1</th>\n",
       "      <td>Pathak Shamabesh</td>\n",
       "      <td>2016</td>\n",
       "      <td>330000</td>\n",
       "      <td>5500</td>\n",
       "    </tr>\n",
       "  </tbody>\n",
       "</table>\n",
       "</div>"
      ],
      "text/plain": [
       "              Store  Year  Total_sales(TK)  Total_profit(TK)\n",
       "1  Pathak Shamabesh  2016           330000              5500"
      ]
     },
     "execution_count": 1112,
     "metadata": {},
     "output_type": "execute_result"
    }
   ],
   "source": [
    "Store4 = Transaction[Transaction.Store=='Pathak Shamabesh']\n",
    "Store4"
   ]
  },
  {
   "cell_type": "code",
   "execution_count": 1113,
   "id": "b93750a6-c66a-429c-9066-1046a89c5456",
   "metadata": {},
   "outputs": [
    {
     "data": {
      "text/plain": [
       "62000"
      ]
     },
     "execution_count": 1113,
     "metadata": {},
     "output_type": "execute_result"
    }
   ],
   "source": [
    "Store1Total = Store1['Total_sales(TK)'].sum()\n",
    "Store1Total"
   ]
  },
  {
   "cell_type": "code",
   "execution_count": 1114,
   "id": "a1a472a9-2045-4e21-a2ac-55aa85de649b",
   "metadata": {},
   "outputs": [
    {
     "data": {
      "text/plain": [
       "21000"
      ]
     },
     "execution_count": 1114,
     "metadata": {},
     "output_type": "execute_result"
    }
   ],
   "source": [
    "Store2Total = Store2['Total_sales(TK)'].sum()\n",
    "Store2Total\n"
   ]
  },
  {
   "cell_type": "code",
   "execution_count": 1115,
   "id": "62ee410d-4c81-42cf-93aa-e92a4b339b6c",
   "metadata": {},
   "outputs": [
    {
     "data": {
      "text/plain": [
       "959000"
      ]
     },
     "execution_count": 1115,
     "metadata": {},
     "output_type": "execute_result"
    }
   ],
   "source": [
    "Store3Total = Store3['Total_sales(TK)'].sum()\n",
    "Store3Total\n"
   ]
  },
  {
   "cell_type": "code",
   "execution_count": 1116,
   "id": "33b97a0f-786b-4aad-bbd6-622183aa3f8d",
   "metadata": {},
   "outputs": [
    {
     "data": {
      "text/plain": [
       "330000"
      ]
     },
     "execution_count": 1116,
     "metadata": {},
     "output_type": "execute_result"
    }
   ],
   "source": [
    "Store4Total = Store4['Total_sales(TK)'].sum()\n",
    "Store4Total\n"
   ]
  },
  {
   "cell_type": "code",
   "execution_count": 1117,
   "id": "cae347d7-8c10-450e-b46a-fa6bf24ef2d9",
   "metadata": {},
   "outputs": [
    {
     "data": {
      "text/plain": [
       "959000"
      ]
     },
     "execution_count": 1117,
     "metadata": {},
     "output_type": "execute_result"
    }
   ],
   "source": [
    "max(Store1Total,Store2Total,Store3Total,Store4Total)"
   ]
  },
  {
   "cell_type": "markdown",
   "id": "2f4e31b1-2359-4b68-8ab9-d778bda8a8b3",
   "metadata": {},
   "source": [
    "**Notice that we have to slice the data corresponding to\n",
    "a particular store and then answer the query. Now, let\n",
    "us reshape the data using pivot and see the difference.**"
   ]
  },
  {
   "cell_type": "code",
   "execution_count": 1118,
   "id": "5bb17b92-6be8-425c-94ea-ce13f6622a4e",
   "metadata": {},
   "outputs": [
    {
     "data": {
      "text/html": [
       "<div>\n",
       "<style scoped>\n",
       "    .dataframe tbody tr th:only-of-type {\n",
       "        vertical-align: middle;\n",
       "    }\n",
       "\n",
       "    .dataframe tbody tr th {\n",
       "        vertical-align: top;\n",
       "    }\n",
       "\n",
       "    .dataframe thead th {\n",
       "        text-align: right;\n",
       "    }\n",
       "</style>\n",
       "<table border=\"1\" class=\"dataframe\">\n",
       "  <thead>\n",
       "    <tr style=\"text-align: right;\">\n",
       "      <th>Year</th>\n",
       "      <th>2016</th>\n",
       "      <th>2017</th>\n",
       "      <th>2018</th>\n",
       "    </tr>\n",
       "    <tr>\n",
       "      <th>Store</th>\n",
       "      <th></th>\n",
       "      <th></th>\n",
       "      <th></th>\n",
       "    </tr>\n",
       "  </thead>\n",
       "  <tbody>\n",
       "    <tr>\n",
       "      <th>Boi Bichitra</th>\n",
       "      <td>12000.0</td>\n",
       "      <td>20000.0</td>\n",
       "      <td>30000.0</td>\n",
       "    </tr>\n",
       "    <tr>\n",
       "      <th>Muktodhara</th>\n",
       "      <td>NaN</td>\n",
       "      <td>10000.0</td>\n",
       "      <td>11000.0</td>\n",
       "    </tr>\n",
       "    <tr>\n",
       "      <th>Pathak Shamabesh</th>\n",
       "      <td>330000.0</td>\n",
       "      <td>NaN</td>\n",
       "      <td>NaN</td>\n",
       "    </tr>\n",
       "    <tr>\n",
       "      <th>Puthighar</th>\n",
       "      <td>420000.0</td>\n",
       "      <td>450000.0</td>\n",
       "      <td>89000.0</td>\n",
       "    </tr>\n",
       "  </tbody>\n",
       "</table>\n",
       "</div>"
      ],
      "text/plain": [
       "Year                  2016      2017     2018\n",
       "Store                                        \n",
       "Boi Bichitra       12000.0   20000.0  30000.0\n",
       "Muktodhara             NaN   10000.0  11000.0\n",
       "Pathak Shamabesh  330000.0       NaN      NaN\n",
       "Puthighar         420000.0  450000.0  89000.0"
      ]
     },
     "execution_count": 1118,
     "metadata": {},
     "output_type": "execute_result"
    }
   ],
   "source": [
    "pivot1=Transaction.pivot(index='Store',columns='Year',values='Total_sales(TK)')\n",
    "pivot1"
   ]
  },
  {
   "cell_type": "markdown",
   "id": "f0afc09c-0642-40de-b888-ba495869b501",
   "metadata": {},
   "source": [
    "As can be seen above, the value of Total_sales (Rs)\n",
    "for every row in the original table has been transferred\n",
    "to the new table: pivot1, where each row has data of a\n",
    "store and each column has data of a year. Those cells in\n",
    "the new pivot table which do not have a matching entry\n",
    "in the original one are filled with NaN. For instance, we\n",
    "did not have values corresponding to sales of Store S2\n",
    "in 2016, thus the appropriate cell in pivot1 is filled with\n",
    "NaN. "
   ]
  },
  {
   "cell_type": "markdown",
   "id": "d0608032-5dce-4f46-83d2-33cc0581f2fd",
   "metadata": {},
   "source": [
    "**1) What was the total sale of store S1 in all the years?**"
   ]
  },
  {
   "cell_type": "code",
   "execution_count": 1119,
   "id": "4a195c31-68e7-4ea8-9e87-dce583591ff6",
   "metadata": {},
   "outputs": [
    {
     "data": {
      "text/plain": [
       "62000.0"
      ]
     },
     "execution_count": 1119,
     "metadata": {},
     "output_type": "execute_result"
    }
   ],
   "source": [
    " pivot1.loc['Boi Bichitra'].sum()"
   ]
  },
  {
   "cell_type": "markdown",
   "id": "213a3ce8-46f0-45dd-a125-8641e91d5408",
   "metadata": {},
   "source": [
    "**2) What is the maximum sale value by store S3 in\n",
    "any year?**"
   ]
  },
  {
   "cell_type": "code",
   "execution_count": 1120,
   "id": "5906ee65-e0fb-4909-86aa-ee1476aa6a62",
   "metadata": {},
   "outputs": [
    {
     "data": {
      "text/plain": [
       "450000.0"
      ]
     },
     "execution_count": 1120,
     "metadata": {},
     "output_type": "execute_result"
    }
   ],
   "source": [
    " pivot1.loc['Puthighar'].max()"
   ]
  },
  {
   "cell_type": "markdown",
   "id": "e0cc1934-448a-45ef-8aef-4a91dcb51806",
   "metadata": {},
   "source": [
    "**3.Which store had the maximum total sale?**"
   ]
  },
  {
   "cell_type": "code",
   "execution_count": 1121,
   "id": "8657c1bb-0a42-4e52-8512-4c9cf77d8e3f",
   "metadata": {},
   "outputs": [
    {
     "data": {
      "text/plain": [
       "62000.0"
      ]
     },
     "execution_count": 1121,
     "metadata": {},
     "output_type": "execute_result"
    }
   ],
   "source": [
    "Store1Total = pivot1.loc['Boi Bichitra'].sum()\n",
    "Store1Total"
   ]
  },
  {
   "cell_type": "code",
   "execution_count": 1122,
   "id": "5ab59dd9-df69-4e2c-a6da-e671580385f7",
   "metadata": {},
   "outputs": [
    {
     "data": {
      "text/plain": [
       "21000.0"
      ]
     },
     "execution_count": 1122,
     "metadata": {},
     "output_type": "execute_result"
    }
   ],
   "source": [
    "Store2Total = pivot1.loc['Muktodhara'].sum()\n",
    "Store2Total"
   ]
  },
  {
   "cell_type": "code",
   "execution_count": 1123,
   "id": "1f8a6c54-cd4b-4b32-911d-e7eecb91d379",
   "metadata": {},
   "outputs": [
    {
     "data": {
      "text/plain": [
       "959000.0"
      ]
     },
     "execution_count": 1123,
     "metadata": {},
     "output_type": "execute_result"
    }
   ],
   "source": [
    "Store3Total = pivot1.loc['Puthighar'].sum()\n",
    "Store3Total"
   ]
  },
  {
   "cell_type": "code",
   "execution_count": 1124,
   "id": "9f774bca-b10b-43da-aeb0-b1cf59e7273a",
   "metadata": {},
   "outputs": [
    {
     "data": {
      "text/plain": [
       "330000.0"
      ]
     },
     "execution_count": 1124,
     "metadata": {},
     "output_type": "execute_result"
    }
   ],
   "source": [
    "Store4Total = pivot1.loc['Pathak Shamabesh'].sum()\n",
    "Store4Total"
   ]
  },
  {
   "cell_type": "code",
   "execution_count": 1125,
   "id": "dd5fcfd6-93c8-48b7-88c7-df28091b4dd7",
   "metadata": {},
   "outputs": [
    {
     "data": {
      "text/plain": [
       "959000.0"
      ]
     },
     "execution_count": 1125,
     "metadata": {},
     "output_type": "execute_result"
    }
   ],
   "source": [
    "max(Store1Total,Store2Total,Store3Total,Store4Total)"
   ]
  },
  {
   "cell_type": "markdown",
   "id": "e5d18b4e-6ff5-4eb1-9cad-5f5b35db91e4",
   "metadata": {},
   "source": [
    "**(B) Pivoting by Multiple Columns**"
   ]
  },
  {
   "cell_type": "code",
   "execution_count": 1126,
   "id": "8aa1fbca-92b6-41bc-8b0f-804b574c3cec",
   "metadata": {},
   "outputs": [
    {
     "data": {
      "text/html": [
       "<div>\n",
       "<style scoped>\n",
       "    .dataframe tbody tr th:only-of-type {\n",
       "        vertical-align: middle;\n",
       "    }\n",
       "\n",
       "    .dataframe tbody tr th {\n",
       "        vertical-align: top;\n",
       "    }\n",
       "\n",
       "    .dataframe thead tr th {\n",
       "        text-align: left;\n",
       "    }\n",
       "\n",
       "    .dataframe thead tr:last-of-type th {\n",
       "        text-align: right;\n",
       "    }\n",
       "</style>\n",
       "<table border=\"1\" class=\"dataframe\">\n",
       "  <thead>\n",
       "    <tr>\n",
       "      <th></th>\n",
       "      <th colspan=\"3\" halign=\"left\">Total_sales(TK)</th>\n",
       "      <th colspan=\"3\" halign=\"left\">Total_profit(TK)</th>\n",
       "    </tr>\n",
       "    <tr>\n",
       "      <th>Year</th>\n",
       "      <th>2016</th>\n",
       "      <th>2017</th>\n",
       "      <th>2018</th>\n",
       "      <th>2016</th>\n",
       "      <th>2017</th>\n",
       "      <th>2018</th>\n",
       "    </tr>\n",
       "    <tr>\n",
       "      <th>Store</th>\n",
       "      <th></th>\n",
       "      <th></th>\n",
       "      <th></th>\n",
       "      <th></th>\n",
       "      <th></th>\n",
       "      <th></th>\n",
       "    </tr>\n",
       "  </thead>\n",
       "  <tbody>\n",
       "    <tr>\n",
       "      <th>Boi Bichitra</th>\n",
       "      <td>12000.0</td>\n",
       "      <td>20000.0</td>\n",
       "      <td>30000.0</td>\n",
       "      <td>1100.0</td>\n",
       "      <td>32000.0</td>\n",
       "      <td>3000.0</td>\n",
       "    </tr>\n",
       "    <tr>\n",
       "      <th>Muktodhara</th>\n",
       "      <td>NaN</td>\n",
       "      <td>10000.0</td>\n",
       "      <td>11000.0</td>\n",
       "      <td>NaN</td>\n",
       "      <td>9000.0</td>\n",
       "      <td>1900.0</td>\n",
       "    </tr>\n",
       "    <tr>\n",
       "      <th>Pathak Shamabesh</th>\n",
       "      <td>330000.0</td>\n",
       "      <td>NaN</td>\n",
       "      <td>NaN</td>\n",
       "      <td>5500.0</td>\n",
       "      <td>NaN</td>\n",
       "      <td>NaN</td>\n",
       "    </tr>\n",
       "    <tr>\n",
       "      <th>Puthighar</th>\n",
       "      <td>420000.0</td>\n",
       "      <td>450000.0</td>\n",
       "      <td>89000.0</td>\n",
       "      <td>21000.0</td>\n",
       "      <td>45000.0</td>\n",
       "      <td>23000.0</td>\n",
       "    </tr>\n",
       "  </tbody>\n",
       "</table>\n",
       "</div>"
      ],
      "text/plain": [
       "                 Total_sales(TK)                    Total_profit(TK)           \\\n",
       "Year                        2016      2017     2018             2016     2017   \n",
       "Store                                                                           \n",
       "Boi Bichitra             12000.0   20000.0  30000.0           1100.0  32000.0   \n",
       "Muktodhara                   NaN   10000.0  11000.0              NaN   9000.0   \n",
       "Pathak Shamabesh        330000.0       NaN      NaN           5500.0      NaN   \n",
       "Puthighar               420000.0  450000.0  89000.0          21000.0  45000.0   \n",
       "\n",
       "                           \n",
       "Year                 2018  \n",
       "Store                      \n",
       "Boi Bichitra       3000.0  \n",
       "Muktodhara         1900.0  \n",
       "Pathak Shamabesh      NaN  \n",
       "Puthighar         23000.0  "
      ]
     },
     "execution_count": 1126,
     "metadata": {},
     "output_type": "execute_result"
    }
   ],
   "source": [
    "pivot2=Transaction.pivot(index='Store',columns='Year',values=['Total_sales(TK)','Total_profit(TK)'])\n",
    "pivot2"
   ]
  },
  {
   "cell_type": "markdown",
   "id": "a95536c1-0878-443a-9120-a79ccbb97a5a",
   "metadata": {},
   "source": [
    "Let us consider another example, where suppose we\n",
    "have stock data corresponding to a store as:"
   ]
  },
  {
   "cell_type": "code",
   "execution_count": 1127,
   "id": "e72e19b0-61cc-4f16-9612-781d4660efe4",
   "metadata": {},
   "outputs": [],
   "source": [
    "data={'Item':['Pen','Pen','Pencil','Pencil'\n",
    ",'Pen','Pen'],\n",
    "'Color':['Red','Red','Black','Black','Blue','Blue'],\n",
    "'Price(TK)':[10,25,7,5,50,20],\n",
    "'Units_in_stock':[50,10,47,34,55,14]\n",
    "} "
   ]
  },
  {
   "cell_type": "code",
   "execution_count": 1128,
   "id": "f07e7e1b-ca29-4553-b326-294a5793bc08",
   "metadata": {},
   "outputs": [
    {
     "data": {
      "text/html": [
       "<div>\n",
       "<style scoped>\n",
       "    .dataframe tbody tr th:only-of-type {\n",
       "        vertical-align: middle;\n",
       "    }\n",
       "\n",
       "    .dataframe tbody tr th {\n",
       "        vertical-align: top;\n",
       "    }\n",
       "\n",
       "    .dataframe thead th {\n",
       "        text-align: right;\n",
       "    }\n",
       "</style>\n",
       "<table border=\"1\" class=\"dataframe\">\n",
       "  <thead>\n",
       "    <tr style=\"text-align: right;\">\n",
       "      <th></th>\n",
       "      <th>Item</th>\n",
       "      <th>Color</th>\n",
       "      <th>Price(TK)</th>\n",
       "      <th>Units_in_stock</th>\n",
       "    </tr>\n",
       "  </thead>\n",
       "  <tbody>\n",
       "    <tr>\n",
       "      <th>0</th>\n",
       "      <td>Pen</td>\n",
       "      <td>Red</td>\n",
       "      <td>10</td>\n",
       "      <td>50</td>\n",
       "    </tr>\n",
       "    <tr>\n",
       "      <th>1</th>\n",
       "      <td>Pen</td>\n",
       "      <td>Red</td>\n",
       "      <td>25</td>\n",
       "      <td>10</td>\n",
       "    </tr>\n",
       "    <tr>\n",
       "      <th>2</th>\n",
       "      <td>Pencil</td>\n",
       "      <td>Black</td>\n",
       "      <td>7</td>\n",
       "      <td>47</td>\n",
       "    </tr>\n",
       "    <tr>\n",
       "      <th>3</th>\n",
       "      <td>Pencil</td>\n",
       "      <td>Black</td>\n",
       "      <td>5</td>\n",
       "      <td>34</td>\n",
       "    </tr>\n",
       "    <tr>\n",
       "      <th>4</th>\n",
       "      <td>Pen</td>\n",
       "      <td>Blue</td>\n",
       "      <td>50</td>\n",
       "      <td>55</td>\n",
       "    </tr>\n",
       "    <tr>\n",
       "      <th>5</th>\n",
       "      <td>Pen</td>\n",
       "      <td>Blue</td>\n",
       "      <td>20</td>\n",
       "      <td>14</td>\n",
       "    </tr>\n",
       "  </tbody>\n",
       "</table>\n",
       "</div>"
      ],
      "text/plain": [
       "     Item  Color  Price(TK)  Units_in_stock\n",
       "0     Pen    Red         10              50\n",
       "1     Pen    Red         25              10\n",
       "2  Pencil  Black          7              47\n",
       "3  Pencil  Black          5              34\n",
       "4     Pen   Blue         50              55\n",
       "5     Pen   Blue         20              14"
      ]
     },
     "execution_count": 1128,
     "metadata": {},
     "output_type": "execute_result"
    }
   ],
   "source": [
    "Stock=pd.DataFrame(data)\n",
    "Stock"
   ]
  },
  {
   "cell_type": "markdown",
   "id": "6d2c8543-b0ba-47f5-910c-ed21000b43e6",
   "metadata": {},
   "source": [
    "Now, let us assume, we have to reshape the above\n",
    "table with Item as the index and Color as the column.\n",
    "We will use pivot function as given below:"
   ]
  },
  {
   "cell_type": "markdown",
   "id": "fd7ce7b0-bea3-40b3-bea0-27404ac667ec",
   "metadata": {},
   "source": [
    "pivot3=Stock.pivot(index='Item',columns='Color',values='Units_in_stock')\n"
   ]
  },
  {
   "cell_type": "markdown",
   "id": "904fa06b-a088-4ae6-a644-e7b56d07f52f",
   "metadata": {},
   "source": [
    "But this statement results in an error: “ValueError:\n",
    "Index contains duplicate entries, cannot reshape”. This\n",
    "is because duplicate data can’t be reshaped using pivot\n",
    "function. Hence, before calling the pivot() function, we\n",
    "need to ensure that our data do not have rows with\n",
    "duplicate values for the specified columns. If we can’t\n",
    "ensure this, we may have to use pivot_table function\n",
    "instead."
   ]
  },
  {
   "cell_type": "markdown",
   "id": "40244c0e-504c-49c1-a038-ab8717ba2e9b",
   "metadata": {},
   "source": [
    "**(C) Pivot Table**"
   ]
  },
  {
   "cell_type": "markdown",
   "id": "92b16c68-1d56-4cce-94dd-365ef1eab732",
   "metadata": {},
   "source": [
    "It works like a pivot function, but aggregates the values\n",
    "from rows with duplicate entries for the specified\n",
    "columns. In other words, we can use aggregate functions\n",
    "like min, max, mean etc, wherever we have duplicate\n",
    "entries. The default aggregate function is mean."
   ]
  },
  {
   "cell_type": "code",
   "execution_count": 1129,
   "id": "b7d2334d-40d5-4731-83b8-faaf4df94bee",
   "metadata": {},
   "outputs": [
    {
     "data": {
      "text/html": [
       "<div>\n",
       "<style scoped>\n",
       "    .dataframe tbody tr th:only-of-type {\n",
       "        vertical-align: middle;\n",
       "    }\n",
       "\n",
       "    .dataframe tbody tr th {\n",
       "        vertical-align: top;\n",
       "    }\n",
       "\n",
       "    .dataframe thead th {\n",
       "        text-align: right;\n",
       "    }\n",
       "</style>\n",
       "<table border=\"1\" class=\"dataframe\">\n",
       "  <thead>\n",
       "    <tr style=\"text-align: right;\">\n",
       "      <th></th>\n",
       "      <th></th>\n",
       "      <th>Price(TK)</th>\n",
       "      <th>Units_in_stock</th>\n",
       "    </tr>\n",
       "    <tr>\n",
       "      <th>Item</th>\n",
       "      <th>Color</th>\n",
       "      <th></th>\n",
       "      <th></th>\n",
       "    </tr>\n",
       "  </thead>\n",
       "  <tbody>\n",
       "    <tr>\n",
       "      <th rowspan=\"2\" valign=\"top\">Pen</th>\n",
       "      <th>Blue</th>\n",
       "      <td>35.0</td>\n",
       "      <td>34.5</td>\n",
       "    </tr>\n",
       "    <tr>\n",
       "      <th>Red</th>\n",
       "      <td>17.5</td>\n",
       "      <td>30.0</td>\n",
       "    </tr>\n",
       "    <tr>\n",
       "      <th>Pencil</th>\n",
       "      <th>Black</th>\n",
       "      <td>6.0</td>\n",
       "      <td>40.5</td>\n",
       "    </tr>\n",
       "  </tbody>\n",
       "</table>\n",
       "</div>"
      ],
      "text/plain": [
       "              Price(TK)  Units_in_stock\n",
       "Item   Color                           \n",
       "Pen    Blue        35.0            34.5\n",
       "       Red         17.5            30.0\n",
       "Pencil Black        6.0            40.5"
      ]
     },
     "execution_count": 1129,
     "metadata": {},
     "output_type": "execute_result"
    }
   ],
   "source": [
    "Stock1 = Stock.pivot_table(index=['Item','Color'])\n",
    "Stock1\n"
   ]
  },
  {
   "cell_type": "code",
   "execution_count": 1130,
   "id": "9b01d7dd-9e5d-4769-83ed-07d58fc9dc53",
   "metadata": {},
   "outputs": [],
   "source": [
    "import warnings\n",
    "warnings.filterwarnings('ignore')"
   ]
  },
  {
   "cell_type": "markdown",
   "id": "f0b8eb7c-5ef1-4f73-abf6-b27a8260345e",
   "metadata": {},
   "source": [
    "Mean has been used as the default\n",
    "aggregate function. Price of the blue pen in the original\n",
    "data is 50 and 20. Mean has been used as aggregate\n",
    "and the price of the blue pen is 35 in df1.\n",
    "We can use multiple aggregate functions on the\n",
    "data. Below example shows the use of the sum, max\n",
    "and np.mean function."
   ]
  },
  {
   "cell_type": "code",
   "execution_count": 1131,
   "id": "dc2c7273-6647-4885-b26f-337d9dd3d68a",
   "metadata": {},
   "outputs": [
    {
     "data": {
      "text/html": [
       "<div>\n",
       "<style scoped>\n",
       "    .dataframe tbody tr th:only-of-type {\n",
       "        vertical-align: middle;\n",
       "    }\n",
       "\n",
       "    .dataframe tbody tr th {\n",
       "        vertical-align: top;\n",
       "    }\n",
       "\n",
       "    .dataframe thead tr th {\n",
       "        text-align: left;\n",
       "    }\n",
       "\n",
       "    .dataframe thead tr:last-of-type th {\n",
       "        text-align: right;\n",
       "    }\n",
       "</style>\n",
       "<table border=\"1\" class=\"dataframe\">\n",
       "  <thead>\n",
       "    <tr>\n",
       "      <th></th>\n",
       "      <th colspan=\"3\" halign=\"left\">sum</th>\n",
       "      <th colspan=\"3\" halign=\"left\">max</th>\n",
       "      <th colspan=\"3\" halign=\"left\">mean</th>\n",
       "    </tr>\n",
       "    <tr>\n",
       "      <th>Color</th>\n",
       "      <th>Black</th>\n",
       "      <th>Blue</th>\n",
       "      <th>Red</th>\n",
       "      <th>Black</th>\n",
       "      <th>Blue</th>\n",
       "      <th>Red</th>\n",
       "      <th>Black</th>\n",
       "      <th>Blue</th>\n",
       "      <th>Red</th>\n",
       "    </tr>\n",
       "    <tr>\n",
       "      <th>Item</th>\n",
       "      <th></th>\n",
       "      <th></th>\n",
       "      <th></th>\n",
       "      <th></th>\n",
       "      <th></th>\n",
       "      <th></th>\n",
       "      <th></th>\n",
       "      <th></th>\n",
       "      <th></th>\n",
       "    </tr>\n",
       "  </thead>\n",
       "  <tbody>\n",
       "    <tr>\n",
       "      <th>Pen</th>\n",
       "      <td>NaN</td>\n",
       "      <td>69.0</td>\n",
       "      <td>60.0</td>\n",
       "      <td>NaN</td>\n",
       "      <td>55.0</td>\n",
       "      <td>50.0</td>\n",
       "      <td>NaN</td>\n",
       "      <td>34.5</td>\n",
       "      <td>30.0</td>\n",
       "    </tr>\n",
       "    <tr>\n",
       "      <th>Pencil</th>\n",
       "      <td>81.0</td>\n",
       "      <td>NaN</td>\n",
       "      <td>NaN</td>\n",
       "      <td>47.0</td>\n",
       "      <td>NaN</td>\n",
       "      <td>NaN</td>\n",
       "      <td>40.5</td>\n",
       "      <td>NaN</td>\n",
       "      <td>NaN</td>\n",
       "    </tr>\n",
       "  </tbody>\n",
       "</table>\n",
       "</div>"
      ],
      "text/plain": [
       "         sum               max              mean            \n",
       "Color  Black  Blue   Red Black  Blue   Red Black  Blue   Red\n",
       "Item                                                        \n",
       "Pen      NaN  69.0  60.0   NaN  55.0  50.0   NaN  34.5  30.0\n",
       "Pencil  81.0   NaN   NaN  47.0   NaN   NaN  40.5   NaN   NaN"
      ]
     },
     "execution_count": 1131,
     "metadata": {},
     "output_type": "execute_result"
    }
   ],
   "source": [
    "import numpy as np\n",
    "pivot_table1=Stock.pivot_table(index='Item',columns='Color',values='Units_in_stock',aggfunc=[sum,max,np.mean])\n",
    "pivot_table1"
   ]
  },
  {
   "cell_type": "markdown",
   "id": "932d307b-15a5-48d2-b9ec-38e4ec952ab3",
   "metadata": {},
   "source": [
    "Pivoting can also be done on multiple columns.\n",
    "Further, different aggregate functions can be applied on\n",
    "different columns. The following example demonstrates\n",
    "pivoting on two columns - Price(Rs) and Units_in_stock.\n",
    "Also, the application of len() function on the column\n",
    "Price(Rs) and mean() function of column Units_in_\n",
    "stock is shown in the example. Note that the aggregate\n",
    "function len returns the number of rows corresponding\n",
    "to that entry."
   ]
  },
  {
   "cell_type": "code",
   "execution_count": 1132,
   "id": "f0a37662-a911-41b3-8a57-bede0b30603e",
   "metadata": {},
   "outputs": [
    {
     "data": {
      "text/html": [
       "<div>\n",
       "<style scoped>\n",
       "    .dataframe tbody tr th:only-of-type {\n",
       "        vertical-align: middle;\n",
       "    }\n",
       "\n",
       "    .dataframe tbody tr th {\n",
       "        vertical-align: top;\n",
       "    }\n",
       "\n",
       "    .dataframe thead tr th {\n",
       "        text-align: left;\n",
       "    }\n",
       "\n",
       "    .dataframe thead tr:last-of-type th {\n",
       "        text-align: right;\n",
       "    }\n",
       "</style>\n",
       "<table border=\"1\" class=\"dataframe\">\n",
       "  <thead>\n",
       "    <tr>\n",
       "      <th></th>\n",
       "      <th colspan=\"3\" halign=\"left\">Price(TK)</th>\n",
       "      <th colspan=\"3\" halign=\"left\">Units_in_stock</th>\n",
       "    </tr>\n",
       "    <tr>\n",
       "      <th>Color</th>\n",
       "      <th>Black</th>\n",
       "      <th>Blue</th>\n",
       "      <th>Red</th>\n",
       "      <th>Black</th>\n",
       "      <th>Blue</th>\n",
       "      <th>Red</th>\n",
       "    </tr>\n",
       "    <tr>\n",
       "      <th>Item</th>\n",
       "      <th></th>\n",
       "      <th></th>\n",
       "      <th></th>\n",
       "      <th></th>\n",
       "      <th></th>\n",
       "      <th></th>\n",
       "    </tr>\n",
       "  </thead>\n",
       "  <tbody>\n",
       "    <tr>\n",
       "      <th>Pen</th>\n",
       "      <td>NaN</td>\n",
       "      <td>2.0</td>\n",
       "      <td>2.0</td>\n",
       "      <td>NaN</td>\n",
       "      <td>34.5</td>\n",
       "      <td>30.0</td>\n",
       "    </tr>\n",
       "    <tr>\n",
       "      <th>Pencil</th>\n",
       "      <td>2.0</td>\n",
       "      <td>NaN</td>\n",
       "      <td>NaN</td>\n",
       "      <td>40.5</td>\n",
       "      <td>NaN</td>\n",
       "      <td>NaN</td>\n",
       "    </tr>\n",
       "  </tbody>\n",
       "</table>\n",
       "</div>"
      ],
      "text/plain": [
       "       Price(TK)           Units_in_stock            \n",
       "Color      Black Blue  Red          Black  Blue   Red\n",
       "Item                                                 \n",
       "Pen          NaN  2.0  2.0            NaN  34.5  30.0\n",
       "Pencil       2.0  NaN  NaN           40.5   NaN   NaN"
      ]
     },
     "execution_count": 1132,
     "metadata": {},
     "output_type": "execute_result"
    }
   ],
   "source": [
    "pivot_table2=Stock.pivot_table(index='Item',columns='Color',values=['Price(TK)','Units_in_stock'],aggfunc={\"Price(TK)\":len,\"Units_in_stock\":np.mean})\n",
    "pivot_table2"
   ]
  },
  {
   "cell_type": "markdown",
   "id": "88d05961-8870-4014-af63-52f31b0b913d",
   "metadata": {},
   "source": [
    "**Write the statement to print the maximum\n",
    "price of pen of each color.**"
   ]
  },
  {
   "cell_type": "code",
   "execution_count": 1133,
   "id": "f0f10a1a-f295-46de-9e75-73787ddcd152",
   "metadata": {},
   "outputs": [
    {
     "data": {
      "text/html": [
       "<div>\n",
       "<style scoped>\n",
       "    .dataframe tbody tr th:only-of-type {\n",
       "        vertical-align: middle;\n",
       "    }\n",
       "\n",
       "    .dataframe tbody tr th {\n",
       "        vertical-align: top;\n",
       "    }\n",
       "\n",
       "    .dataframe thead th {\n",
       "        text-align: right;\n",
       "    }\n",
       "</style>\n",
       "<table border=\"1\" class=\"dataframe\">\n",
       "  <thead>\n",
       "    <tr style=\"text-align: right;\">\n",
       "      <th></th>\n",
       "      <th>Item</th>\n",
       "      <th>Color</th>\n",
       "      <th>Price(TK)</th>\n",
       "      <th>Units_in_stock</th>\n",
       "    </tr>\n",
       "  </thead>\n",
       "  <tbody>\n",
       "    <tr>\n",
       "      <th>0</th>\n",
       "      <td>Pen</td>\n",
       "      <td>Red</td>\n",
       "      <td>10</td>\n",
       "      <td>50</td>\n",
       "    </tr>\n",
       "    <tr>\n",
       "      <th>1</th>\n",
       "      <td>Pen</td>\n",
       "      <td>Red</td>\n",
       "      <td>25</td>\n",
       "      <td>10</td>\n",
       "    </tr>\n",
       "    <tr>\n",
       "      <th>4</th>\n",
       "      <td>Pen</td>\n",
       "      <td>Blue</td>\n",
       "      <td>50</td>\n",
       "      <td>55</td>\n",
       "    </tr>\n",
       "    <tr>\n",
       "      <th>5</th>\n",
       "      <td>Pen</td>\n",
       "      <td>Blue</td>\n",
       "      <td>20</td>\n",
       "      <td>14</td>\n",
       "    </tr>\n",
       "  </tbody>\n",
       "</table>\n",
       "</div>"
      ],
      "text/plain": [
       "  Item Color  Price(TK)  Units_in_stock\n",
       "0  Pen   Red         10              50\n",
       "1  Pen   Red         25              10\n",
       "4  Pen  Blue         50              55\n",
       "5  Pen  Blue         20              14"
      ]
     },
     "execution_count": 1133,
     "metadata": {},
     "output_type": "execute_result"
    }
   ],
   "source": [
    "pen=Stock[Stock.Item=='Pen']\n",
    "pen"
   ]
  },
  {
   "cell_type": "code",
   "execution_count": 1134,
   "id": "60b35a17-2b28-4a5b-81a1-6d6eb837302e",
   "metadata": {},
   "outputs": [
    {
     "data": {
      "text/html": [
       "<div>\n",
       "<style scoped>\n",
       "    .dataframe tbody tr th:only-of-type {\n",
       "        vertical-align: middle;\n",
       "    }\n",
       "\n",
       "    .dataframe tbody tr th {\n",
       "        vertical-align: top;\n",
       "    }\n",
       "\n",
       "    .dataframe thead tr th {\n",
       "        text-align: left;\n",
       "    }\n",
       "\n",
       "    .dataframe thead tr:last-of-type th {\n",
       "        text-align: right;\n",
       "    }\n",
       "</style>\n",
       "<table border=\"1\" class=\"dataframe\">\n",
       "  <thead>\n",
       "    <tr>\n",
       "      <th></th>\n",
       "      <th colspan=\"2\" halign=\"left\">max</th>\n",
       "    </tr>\n",
       "    <tr>\n",
       "      <th></th>\n",
       "      <th colspan=\"2\" halign=\"left\">Price(TK)</th>\n",
       "    </tr>\n",
       "    <tr>\n",
       "      <th>Color</th>\n",
       "      <th>Blue</th>\n",
       "      <th>Red</th>\n",
       "    </tr>\n",
       "    <tr>\n",
       "      <th>Item</th>\n",
       "      <th></th>\n",
       "      <th></th>\n",
       "    </tr>\n",
       "  </thead>\n",
       "  <tbody>\n",
       "    <tr>\n",
       "      <th>Pen</th>\n",
       "      <td>50</td>\n",
       "      <td>25</td>\n",
       "    </tr>\n",
       "  </tbody>\n",
       "</table>\n",
       "</div>"
      ],
      "text/plain": [
       "            max    \n",
       "      Price(TK)    \n",
       "Color      Blue Red\n",
       "Item               \n",
       "Pen          50  25"
      ]
     },
     "execution_count": 1134,
     "metadata": {},
     "output_type": "execute_result"
    }
   ],
   "source": [
    "redpen=pen.pivot_table(index='Item',columns=['Color'],values=['Price(TK)'],aggfunc=[max])\n",
    "redpen"
   ]
  },
  {
   "cell_type": "markdown",
   "id": "b144a01d-c01a-445e-8846-1fd16f44647d",
   "metadata": {},
   "source": [
    "**Handling Missing Values**"
   ]
  },
  {
   "cell_type": "markdown",
   "id": "019e2e34-8d6e-4231-b845-321b0b95c5a9",
   "metadata": {},
   "source": [
    "Missing values create a lot of problems during data\n",
    "analysis and have to be handled properly. The two\n",
    "most common strategies for handling missing values\n",
    "explained in this section are:\n",
    "i) drop the object having missing values,\n",
    "ii) fill or estimate the missing value"
   ]
  },
  {
   "cell_type": "markdown",
   "id": "c95c326b-b950-46ae-a34a-79cdc63368e1",
   "metadata": {},
   "source": [
    "**1.Checking Missing Values**"
   ]
  },
  {
   "cell_type": "code",
   "execution_count": 1135,
   "id": "9c3d6d33-6d58-4b73-8a2b-1705b7cebf9c",
   "metadata": {},
   "outputs": [
    {
     "data": {
      "text/html": [
       "<div>\n",
       "<style scoped>\n",
       "    .dataframe tbody tr th:only-of-type {\n",
       "        vertical-align: middle;\n",
       "    }\n",
       "\n",
       "    .dataframe tbody tr th {\n",
       "        vertical-align: top;\n",
       "    }\n",
       "\n",
       "    .dataframe thead th {\n",
       "        text-align: right;\n",
       "    }\n",
       "</style>\n",
       "<table border=\"1\" class=\"dataframe\">\n",
       "  <thead>\n",
       "    <tr style=\"text-align: right;\">\n",
       "      <th></th>\n",
       "      <th>Name</th>\n",
       "      <th>UnitTest</th>\n",
       "      <th>DataMining</th>\n",
       "      <th>AI</th>\n",
       "      <th>Graphics</th>\n",
       "      <th>ImageProcessing</th>\n",
       "      <th>Cryptography</th>\n",
       "    </tr>\n",
       "  </thead>\n",
       "  <tbody>\n",
       "    <tr>\n",
       "      <th>0</th>\n",
       "      <td>Suci</td>\n",
       "      <td>1</td>\n",
       "      <td>22</td>\n",
       "      <td>20.0</td>\n",
       "      <td>18</td>\n",
       "      <td>20.0</td>\n",
       "      <td>24.0</td>\n",
       "    </tr>\n",
       "    <tr>\n",
       "      <th>1</th>\n",
       "      <td>Suci</td>\n",
       "      <td>2</td>\n",
       "      <td>21</td>\n",
       "      <td>NaN</td>\n",
       "      <td>17</td>\n",
       "      <td>22.0</td>\n",
       "      <td>NaN</td>\n",
       "    </tr>\n",
       "    <tr>\n",
       "      <th>2</th>\n",
       "      <td>Suci</td>\n",
       "      <td>3</td>\n",
       "      <td>14</td>\n",
       "      <td>19.0</td>\n",
       "      <td>15</td>\n",
       "      <td>24.0</td>\n",
       "      <td>23.0</td>\n",
       "    </tr>\n",
       "    <tr>\n",
       "      <th>3</th>\n",
       "      <td>Srabanti</td>\n",
       "      <td>1</td>\n",
       "      <td>20</td>\n",
       "      <td>17.0</td>\n",
       "      <td>22</td>\n",
       "      <td>24.0</td>\n",
       "      <td>19.0</td>\n",
       "    </tr>\n",
       "    <tr>\n",
       "      <th>4</th>\n",
       "      <td>Srabanti</td>\n",
       "      <td>2</td>\n",
       "      <td>23</td>\n",
       "      <td>15.0</td>\n",
       "      <td>21</td>\n",
       "      <td>25.0</td>\n",
       "      <td>15.0</td>\n",
       "    </tr>\n",
       "    <tr>\n",
       "      <th>5</th>\n",
       "      <td>Srabanti</td>\n",
       "      <td>3</td>\n",
       "      <td>22</td>\n",
       "      <td>18.0</td>\n",
       "      <td>19</td>\n",
       "      <td>23.0</td>\n",
       "      <td>13.0</td>\n",
       "    </tr>\n",
       "    <tr>\n",
       "      <th>6</th>\n",
       "      <td>Ashravy</td>\n",
       "      <td>1</td>\n",
       "      <td>23</td>\n",
       "      <td>19.0</td>\n",
       "      <td>20</td>\n",
       "      <td>15.0</td>\n",
       "      <td>22.0</td>\n",
       "    </tr>\n",
       "    <tr>\n",
       "      <th>7</th>\n",
       "      <td>Ashravy</td>\n",
       "      <td>2</td>\n",
       "      <td>24</td>\n",
       "      <td>22.0</td>\n",
       "      <td>24</td>\n",
       "      <td>NaN</td>\n",
       "      <td>21.0</td>\n",
       "    </tr>\n",
       "    <tr>\n",
       "      <th>8</th>\n",
       "      <td>Ashravy</td>\n",
       "      <td>3</td>\n",
       "      <td>12</td>\n",
       "      <td>NaN</td>\n",
       "      <td>19</td>\n",
       "      <td>21.0</td>\n",
       "      <td>23.0</td>\n",
       "    </tr>\n",
       "    <tr>\n",
       "      <th>9</th>\n",
       "      <td>Mishti</td>\n",
       "      <td>1</td>\n",
       "      <td>15</td>\n",
       "      <td>22.0</td>\n",
       "      <td>25</td>\n",
       "      <td>22.0</td>\n",
       "      <td>22.0</td>\n",
       "    </tr>\n",
       "    <tr>\n",
       "      <th>10</th>\n",
       "      <td>Mishti</td>\n",
       "      <td>2</td>\n",
       "      <td>18</td>\n",
       "      <td>21.0</td>\n",
       "      <td>25</td>\n",
       "      <td>24.0</td>\n",
       "      <td>23.0</td>\n",
       "    </tr>\n",
       "    <tr>\n",
       "      <th>11</th>\n",
       "      <td>Mishti</td>\n",
       "      <td>3</td>\n",
       "      <td>17</td>\n",
       "      <td>18.0</td>\n",
       "      <td>20</td>\n",
       "      <td>25.0</td>\n",
       "      <td>NaN</td>\n",
       "    </tr>\n",
       "  </tbody>\n",
       "</table>\n",
       "</div>"
      ],
      "text/plain": [
       "        Name  UnitTest  DataMining    AI  Graphics  ImageProcessing  \\\n",
       "0       Suci         1          22  20.0        18             20.0   \n",
       "1       Suci         2          21   NaN        17             22.0   \n",
       "2       Suci         3          14  19.0        15             24.0   \n",
       "3   Srabanti         1          20  17.0        22             24.0   \n",
       "4   Srabanti         2          23  15.0        21             25.0   \n",
       "5   Srabanti         3          22  18.0        19             23.0   \n",
       "6    Ashravy         1          23  19.0        20             15.0   \n",
       "7    Ashravy         2          24  22.0        24              NaN   \n",
       "8    Ashravy         3          12   NaN        19             21.0   \n",
       "9     Mishti         1          15  22.0        25             22.0   \n",
       "10    Mishti         2          18  21.0        25             24.0   \n",
       "11    Mishti         3          17  18.0        20             25.0   \n",
       "\n",
       "    Cryptography  \n",
       "0           24.0  \n",
       "1            NaN  \n",
       "2           23.0  \n",
       "3           19.0  \n",
       "4           15.0  \n",
       "5           13.0  \n",
       "6           22.0  \n",
       "7           21.0  \n",
       "8           23.0  \n",
       "9           22.0  \n",
       "10          23.0  \n",
       "11           NaN  "
      ]
     },
     "execution_count": 1135,
     "metadata": {},
     "output_type": "execute_result"
    }
   ],
   "source": [
    " marks = {\n",
    "'Name':['Suci','Suci','Suci','Srabanti','Srabanti','Srabanti', 'Ashravy','Ashravy','Ashravy','Mishti','Mishti','Mishti'],\n",
    " 'UnitTest':[1,2,3,1,2,3,1,2,3,1,2,3],\n",
    " 'DataMining':[22,21,14,20,23,22,23,24,12,15,18,17],\n",
    " 'AI':[20,np.NaN,19,17,15,18,19,22,np.NaN,22,21,18],\n",
    " 'Graphics':[18,17,15,22,21,19,20,24,19,25,25,20],\n",
    " 'ImageProcessing':[20,22,24,24,25,23,15,np.NaN,21,22,24,25],\n",
    " 'Cryptography':[24,np.NaN,23,19,15,13,22,21,23,22,23,np.NaN] }\n",
    "Marks = pd.DataFrame(marks)\n",
    "Marks\n",
    "\n"
   ]
  },
  {
   "cell_type": "code",
   "execution_count": 1136,
   "id": "4ead5550-5e79-477a-b64e-7105ca2123a3",
   "metadata": {},
   "outputs": [
    {
     "data": {
      "text/html": [
       "<div>\n",
       "<style scoped>\n",
       "    .dataframe tbody tr th:only-of-type {\n",
       "        vertical-align: middle;\n",
       "    }\n",
       "\n",
       "    .dataframe tbody tr th {\n",
       "        vertical-align: top;\n",
       "    }\n",
       "\n",
       "    .dataframe thead th {\n",
       "        text-align: right;\n",
       "    }\n",
       "</style>\n",
       "<table border=\"1\" class=\"dataframe\">\n",
       "  <thead>\n",
       "    <tr style=\"text-align: right;\">\n",
       "      <th></th>\n",
       "      <th>Name</th>\n",
       "      <th>UnitTest</th>\n",
       "      <th>DataMining</th>\n",
       "      <th>AI</th>\n",
       "      <th>Graphics</th>\n",
       "      <th>ImageProcessing</th>\n",
       "      <th>Cryptography</th>\n",
       "    </tr>\n",
       "  </thead>\n",
       "  <tbody>\n",
       "    <tr>\n",
       "      <th>0</th>\n",
       "      <td>False</td>\n",
       "      <td>False</td>\n",
       "      <td>False</td>\n",
       "      <td>False</td>\n",
       "      <td>False</td>\n",
       "      <td>False</td>\n",
       "      <td>False</td>\n",
       "    </tr>\n",
       "    <tr>\n",
       "      <th>1</th>\n",
       "      <td>False</td>\n",
       "      <td>False</td>\n",
       "      <td>False</td>\n",
       "      <td>True</td>\n",
       "      <td>False</td>\n",
       "      <td>False</td>\n",
       "      <td>True</td>\n",
       "    </tr>\n",
       "    <tr>\n",
       "      <th>2</th>\n",
       "      <td>False</td>\n",
       "      <td>False</td>\n",
       "      <td>False</td>\n",
       "      <td>False</td>\n",
       "      <td>False</td>\n",
       "      <td>False</td>\n",
       "      <td>False</td>\n",
       "    </tr>\n",
       "    <tr>\n",
       "      <th>3</th>\n",
       "      <td>False</td>\n",
       "      <td>False</td>\n",
       "      <td>False</td>\n",
       "      <td>False</td>\n",
       "      <td>False</td>\n",
       "      <td>False</td>\n",
       "      <td>False</td>\n",
       "    </tr>\n",
       "    <tr>\n",
       "      <th>4</th>\n",
       "      <td>False</td>\n",
       "      <td>False</td>\n",
       "      <td>False</td>\n",
       "      <td>False</td>\n",
       "      <td>False</td>\n",
       "      <td>False</td>\n",
       "      <td>False</td>\n",
       "    </tr>\n",
       "    <tr>\n",
       "      <th>5</th>\n",
       "      <td>False</td>\n",
       "      <td>False</td>\n",
       "      <td>False</td>\n",
       "      <td>False</td>\n",
       "      <td>False</td>\n",
       "      <td>False</td>\n",
       "      <td>False</td>\n",
       "    </tr>\n",
       "    <tr>\n",
       "      <th>6</th>\n",
       "      <td>False</td>\n",
       "      <td>False</td>\n",
       "      <td>False</td>\n",
       "      <td>False</td>\n",
       "      <td>False</td>\n",
       "      <td>False</td>\n",
       "      <td>False</td>\n",
       "    </tr>\n",
       "    <tr>\n",
       "      <th>7</th>\n",
       "      <td>False</td>\n",
       "      <td>False</td>\n",
       "      <td>False</td>\n",
       "      <td>False</td>\n",
       "      <td>False</td>\n",
       "      <td>True</td>\n",
       "      <td>False</td>\n",
       "    </tr>\n",
       "    <tr>\n",
       "      <th>8</th>\n",
       "      <td>False</td>\n",
       "      <td>False</td>\n",
       "      <td>False</td>\n",
       "      <td>True</td>\n",
       "      <td>False</td>\n",
       "      <td>False</td>\n",
       "      <td>False</td>\n",
       "    </tr>\n",
       "    <tr>\n",
       "      <th>9</th>\n",
       "      <td>False</td>\n",
       "      <td>False</td>\n",
       "      <td>False</td>\n",
       "      <td>False</td>\n",
       "      <td>False</td>\n",
       "      <td>False</td>\n",
       "      <td>False</td>\n",
       "    </tr>\n",
       "    <tr>\n",
       "      <th>10</th>\n",
       "      <td>False</td>\n",
       "      <td>False</td>\n",
       "      <td>False</td>\n",
       "      <td>False</td>\n",
       "      <td>False</td>\n",
       "      <td>False</td>\n",
       "      <td>False</td>\n",
       "    </tr>\n",
       "    <tr>\n",
       "      <th>11</th>\n",
       "      <td>False</td>\n",
       "      <td>False</td>\n",
       "      <td>False</td>\n",
       "      <td>False</td>\n",
       "      <td>False</td>\n",
       "      <td>False</td>\n",
       "      <td>True</td>\n",
       "    </tr>\n",
       "  </tbody>\n",
       "</table>\n",
       "</div>"
      ],
      "text/plain": [
       "     Name  UnitTest  DataMining     AI  Graphics  ImageProcessing  \\\n",
       "0   False     False       False  False     False            False   \n",
       "1   False     False       False   True     False            False   \n",
       "2   False     False       False  False     False            False   \n",
       "3   False     False       False  False     False            False   \n",
       "4   False     False       False  False     False            False   \n",
       "5   False     False       False  False     False            False   \n",
       "6   False     False       False  False     False            False   \n",
       "7   False     False       False  False     False             True   \n",
       "8   False     False       False   True     False            False   \n",
       "9   False     False       False  False     False            False   \n",
       "10  False     False       False  False     False            False   \n",
       "11  False     False       False  False     False            False   \n",
       "\n",
       "    Cryptography  \n",
       "0          False  \n",
       "1           True  \n",
       "2          False  \n",
       "3          False  \n",
       "4          False  \n",
       "5          False  \n",
       "6          False  \n",
       "7          False  \n",
       "8          False  \n",
       "9          False  \n",
       "10         False  \n",
       "11          True  "
      ]
     },
     "execution_count": 1136,
     "metadata": {},
     "output_type": "execute_result"
    }
   ],
   "source": [
    "Marks.isnull()"
   ]
  },
  {
   "cell_type": "markdown",
   "id": "c13b5a94-14fe-4c34-92a6-a8c85f96f4b5",
   "metadata": {},
   "source": [
    "One can check for each individual attribute also,\n",
    "e.g. the following statement checks whether attribute\n",
    "‘Science’ has a missing value or not. It returns True for\n",
    "each row where there is a missing value for attribute\n",
    "‘Science’, and False otherwise."
   ]
  },
  {
   "cell_type": "code",
   "execution_count": 1137,
   "id": "71e545f0-8d68-4483-9c11-4f48e1c7e306",
   "metadata": {},
   "outputs": [
    {
     "data": {
      "text/plain": [
       "0     False\n",
       "1      True\n",
       "2     False\n",
       "3     False\n",
       "4     False\n",
       "5     False\n",
       "6     False\n",
       "7     False\n",
       "8      True\n",
       "9     False\n",
       "10    False\n",
       "11    False\n",
       "Name: AI, dtype: bool"
      ]
     },
     "execution_count": 1137,
     "metadata": {},
     "output_type": "execute_result"
    }
   ],
   "source": [
    "Marks['AI'].isnull()"
   ]
  },
  {
   "cell_type": "markdown",
   "id": "b21d6c7d-3463-43b6-8861-77b41d2b51c6",
   "metadata": {},
   "source": [
    "To check whether a column (attribute) has a missing\n",
    "value in the entire dataset, any() function is used. It\n",
    "returns True in case of missing value else returns False."
   ]
  },
  {
   "cell_type": "code",
   "execution_count": 1138,
   "id": "3cb5b5d3-1388-4fbc-bae2-65763806376a",
   "metadata": {},
   "outputs": [
    {
     "data": {
      "text/plain": [
       "True"
      ]
     },
     "execution_count": 1138,
     "metadata": {},
     "output_type": "execute_result"
    }
   ],
   "source": [
    "Marks['AI'].isnull().any()"
   ]
  },
  {
   "cell_type": "code",
   "execution_count": 1139,
   "id": "7c606f4a-82a2-43c0-812e-8417e2c1a72e",
   "metadata": {},
   "outputs": [
    {
     "data": {
      "text/plain": [
       "False"
      ]
     },
     "execution_count": 1139,
     "metadata": {},
     "output_type": "execute_result"
    }
   ],
   "source": [
    "Marks['DataMining'].isnull().any()"
   ]
  },
  {
   "cell_type": "markdown",
   "id": "e723eddb-682f-4858-956f-10d5febd201d",
   "metadata": {},
   "source": [
    "To find the number of NaN values corresponding to\n",
    "each attribute, one can use the sum() function along\n",
    "with isnull() function, as shown below:"
   ]
  },
  {
   "cell_type": "code",
   "execution_count": 1140,
   "id": "ff52661d-1285-46d4-a5c4-9a227bca1c87",
   "metadata": {},
   "outputs": [
    {
     "data": {
      "text/plain": [
       "Name               0\n",
       "UnitTest           0\n",
       "DataMining         0\n",
       "AI                 2\n",
       "Graphics           0\n",
       "ImageProcessing    1\n",
       "Cryptography       2\n",
       "dtype: int64"
      ]
     },
     "execution_count": 1140,
     "metadata": {},
     "output_type": "execute_result"
    }
   ],
   "source": [
    "Marks.isnull().sum()"
   ]
  },
  {
   "cell_type": "markdown",
   "id": "3e25f33a-7c03-4141-9f53-5fad3efc9426",
   "metadata": {},
   "source": [
    "To find the total number of NaN in the whole dataset,\n",
    "one can use df.isnull().sum().sum()."
   ]
  },
  {
   "cell_type": "code",
   "execution_count": 1141,
   "id": "4e05de60-b10a-45af-b2ce-00ce29bd7744",
   "metadata": {},
   "outputs": [
    {
     "data": {
      "text/plain": [
       "5"
      ]
     },
     "execution_count": 1141,
     "metadata": {},
     "output_type": "execute_result"
    }
   ],
   "source": [
    "Marks.isnull().sum().sum()"
   ]
  },
  {
   "cell_type": "markdown",
   "id": "a7f5a1fa-cfbb-4a9c-a588-a1200c5cef06",
   "metadata": {},
   "source": [
    "**Write a program to find the percentage of\n",
    "marks scored by Suci in DataMining.**"
   ]
  },
  {
   "cell_type": "code",
   "execution_count": 1142,
   "id": "e83df242-cff9-4425-b0c3-a9ad87ce43ff",
   "metadata": {},
   "outputs": [
    {
     "name": "stdout",
     "output_type": "stream",
     "text": [
      "Marks Scored by Suci\n"
     ]
    },
    {
     "data": {
      "text/html": [
       "<div>\n",
       "<style scoped>\n",
       "    .dataframe tbody tr th:only-of-type {\n",
       "        vertical-align: middle;\n",
       "    }\n",
       "\n",
       "    .dataframe tbody tr th {\n",
       "        vertical-align: top;\n",
       "    }\n",
       "\n",
       "    .dataframe thead th {\n",
       "        text-align: right;\n",
       "    }\n",
       "</style>\n",
       "<table border=\"1\" class=\"dataframe\">\n",
       "  <thead>\n",
       "    <tr style=\"text-align: right;\">\n",
       "      <th></th>\n",
       "      <th>Name</th>\n",
       "      <th>UnitTest</th>\n",
       "      <th>DataMining</th>\n",
       "      <th>AI</th>\n",
       "      <th>Graphics</th>\n",
       "      <th>ImageProcessing</th>\n",
       "      <th>Cryptography</th>\n",
       "    </tr>\n",
       "  </thead>\n",
       "  <tbody>\n",
       "    <tr>\n",
       "      <th>0</th>\n",
       "      <td>Suci</td>\n",
       "      <td>1</td>\n",
       "      <td>22</td>\n",
       "      <td>20.0</td>\n",
       "      <td>18</td>\n",
       "      <td>20.0</td>\n",
       "      <td>24.0</td>\n",
       "    </tr>\n",
       "    <tr>\n",
       "      <th>1</th>\n",
       "      <td>Suci</td>\n",
       "      <td>2</td>\n",
       "      <td>21</td>\n",
       "      <td>NaN</td>\n",
       "      <td>17</td>\n",
       "      <td>22.0</td>\n",
       "      <td>NaN</td>\n",
       "    </tr>\n",
       "    <tr>\n",
       "      <th>2</th>\n",
       "      <td>Suci</td>\n",
       "      <td>3</td>\n",
       "      <td>14</td>\n",
       "      <td>19.0</td>\n",
       "      <td>15</td>\n",
       "      <td>24.0</td>\n",
       "      <td>23.0</td>\n",
       "    </tr>\n",
       "  </tbody>\n",
       "</table>\n",
       "</div>"
      ],
      "text/plain": [
       "   Name  UnitTest  DataMining    AI  Graphics  ImageProcessing  Cryptography\n",
       "0  Suci         1          22  20.0        18             20.0          24.0\n",
       "1  Suci         2          21   NaN        17             22.0           NaN\n",
       "2  Suci         3          14  19.0        15             24.0          23.0"
      ]
     },
     "execution_count": 1142,
     "metadata": {},
     "output_type": "execute_result"
    }
   ],
   "source": [
    "Suci = Marks[Marks['Name']=='Suci']\n",
    "print('Marks Scored by Suci')\n",
    "Suci"
   ]
  },
  {
   "cell_type": "code",
   "execution_count": 1143,
   "id": "4d136559-e1ab-4605-86cc-ab91dbaf39cd",
   "metadata": {},
   "outputs": [
    {
     "name": "stdout",
     "output_type": "stream",
     "text": [
      "Marks Scored by Suci in DataMining\n"
     ]
    },
    {
     "data": {
      "text/plain": [
       "0    22\n",
       "1    21\n",
       "2    14\n",
       "Name: DataMining, dtype: int64"
      ]
     },
     "execution_count": 1143,
     "metadata": {},
     "output_type": "execute_result"
    }
   ],
   "source": [
    "DataMining = Suci['DataMining']\n",
    "print(\"Marks Scored by Suci in DataMining\")\n",
    "DataMining"
   ]
  },
  {
   "cell_type": "code",
   "execution_count": 1144,
   "id": "11bdf40c-a8b6-44e5-a406-c2c7ad8c3cca",
   "metadata": {},
   "outputs": [],
   "source": [
    "row = len(DataMining) # Number of Unit Testsheld. Here row will be 4"
   ]
  },
  {
   "cell_type": "code",
   "execution_count": 1145,
   "id": "7c4b938f-33c2-40c5-b8f1-fed08a705ac0",
   "metadata": {},
   "outputs": [
    {
     "data": {
      "text/plain": [
       "3"
      ]
     },
     "execution_count": 1145,
     "metadata": {},
     "output_type": "execute_result"
    }
   ],
   "source": [
    "row"
   ]
  },
  {
   "cell_type": "code",
   "execution_count": 1146,
   "id": "14e5a7f8-fcb5-4da7-9835-cd61c7e280ab",
   "metadata": {},
   "outputs": [
    {
     "name": "stdout",
     "output_type": "stream",
     "text": [
      "Percentage of Marks Scored by Suci in DataMining\n",
      "\n",
      " 76.0 %\n"
     ]
    }
   ],
   "source": [
    "print(\"Percentage of Marks Scored by Suci in DataMining\\n\\n\",(DataMining.sum()*100)/(25*row),\"%\") "
   ]
  },
  {
   "cell_type": "markdown",
   "id": "a0572536-4ae8-49d6-87a6-3d01c7ba1fd6",
   "metadata": {},
   "source": [
    "**Write a python program to find the\n",
    "percentage of marks obtained by Suci\n",
    "in Cryptography subject.**"
   ]
  },
  {
   "cell_type": "code",
   "execution_count": 1147,
   "id": "94c058be-9b9f-464c-b3f6-3e1eafc492cc",
   "metadata": {},
   "outputs": [
    {
     "name": "stdout",
     "output_type": "stream",
     "text": [
      "Marks Scored by Suci in Cryptography\n"
     ]
    },
    {
     "data": {
      "text/plain": [
       "0    20.0\n",
       "1     NaN\n",
       "2    19.0\n",
       "Name: AI, dtype: float64"
      ]
     },
     "execution_count": 1147,
     "metadata": {},
     "output_type": "execute_result"
    }
   ],
   "source": [
    "AI = Suci['AI']\n",
    "print(\"Marks Scored by Suci in Cryptography\")\n",
    "AI\n"
   ]
  },
  {
   "cell_type": "code",
   "execution_count": 1148,
   "id": "80317814-8549-4862-910f-df197e316f52",
   "metadata": {},
   "outputs": [
    {
     "data": {
      "text/plain": [
       "3"
      ]
     },
     "execution_count": 1148,
     "metadata": {},
     "output_type": "execute_result"
    }
   ],
   "source": [
    "row = len(AI) # here, row will be 4,the number of Unit Tests\n",
    "row"
   ]
  },
  {
   "cell_type": "code",
   "execution_count": 1149,
   "id": "57ff9ae9-fd06-4a75-9252-7d7ab0f97748",
   "metadata": {},
   "outputs": [
    {
     "name": "stdout",
     "output_type": "stream",
     "text": [
      "Percentage of Marks Scored by Suci in AI\n",
      "\n",
      " 52.0 %\n"
     ]
    }
   ],
   "source": [
    "print(\"Percentage of Marks Scored by Suci in AI\\n\\n\", AI.sum()*100/(25*row),\"%\")"
   ]
  },
  {
   "cell_type": "markdown",
   "id": "cdb1fb6e-0e44-4232-8327-e8304e9bf880",
   "metadata": {},
   "source": [
    "Here, notice that Raman was absent in Unit Test 4 in\n",
    "Maths Subject. While computing the percentage, marks\n",
    "of the fourth test have been considered as 0. \n"
   ]
  },
  {
   "cell_type": "markdown",
   "id": "908c00a7-39d4-41b0-95db-63c953d7a80b",
   "metadata": {},
   "source": [
    "**2.Dropping Missing Values**"
   ]
  },
  {
   "cell_type": "code",
   "execution_count": 1150,
   "id": "9401e1d0-83e9-4de5-903d-29e5cf48867e",
   "metadata": {},
   "outputs": [
    {
     "data": {
      "text/html": [
       "<div>\n",
       "<style scoped>\n",
       "    .dataframe tbody tr th:only-of-type {\n",
       "        vertical-align: middle;\n",
       "    }\n",
       "\n",
       "    .dataframe tbody tr th {\n",
       "        vertical-align: top;\n",
       "    }\n",
       "\n",
       "    .dataframe thead th {\n",
       "        text-align: right;\n",
       "    }\n",
       "</style>\n",
       "<table border=\"1\" class=\"dataframe\">\n",
       "  <thead>\n",
       "    <tr style=\"text-align: right;\">\n",
       "      <th></th>\n",
       "      <th>Name</th>\n",
       "      <th>UnitTest</th>\n",
       "      <th>DataMining</th>\n",
       "      <th>AI</th>\n",
       "      <th>Graphics</th>\n",
       "      <th>ImageProcessing</th>\n",
       "      <th>Cryptography</th>\n",
       "    </tr>\n",
       "  </thead>\n",
       "  <tbody>\n",
       "    <tr>\n",
       "      <th>0</th>\n",
       "      <td>Suci</td>\n",
       "      <td>1</td>\n",
       "      <td>22</td>\n",
       "      <td>20.0</td>\n",
       "      <td>18</td>\n",
       "      <td>20.0</td>\n",
       "      <td>24.0</td>\n",
       "    </tr>\n",
       "    <tr>\n",
       "      <th>2</th>\n",
       "      <td>Suci</td>\n",
       "      <td>3</td>\n",
       "      <td>14</td>\n",
       "      <td>19.0</td>\n",
       "      <td>15</td>\n",
       "      <td>24.0</td>\n",
       "      <td>23.0</td>\n",
       "    </tr>\n",
       "    <tr>\n",
       "      <th>3</th>\n",
       "      <td>Srabanti</td>\n",
       "      <td>1</td>\n",
       "      <td>20</td>\n",
       "      <td>17.0</td>\n",
       "      <td>22</td>\n",
       "      <td>24.0</td>\n",
       "      <td>19.0</td>\n",
       "    </tr>\n",
       "    <tr>\n",
       "      <th>4</th>\n",
       "      <td>Srabanti</td>\n",
       "      <td>2</td>\n",
       "      <td>23</td>\n",
       "      <td>15.0</td>\n",
       "      <td>21</td>\n",
       "      <td>25.0</td>\n",
       "      <td>15.0</td>\n",
       "    </tr>\n",
       "    <tr>\n",
       "      <th>5</th>\n",
       "      <td>Srabanti</td>\n",
       "      <td>3</td>\n",
       "      <td>22</td>\n",
       "      <td>18.0</td>\n",
       "      <td>19</td>\n",
       "      <td>23.0</td>\n",
       "      <td>13.0</td>\n",
       "    </tr>\n",
       "    <tr>\n",
       "      <th>6</th>\n",
       "      <td>Ashravy</td>\n",
       "      <td>1</td>\n",
       "      <td>23</td>\n",
       "      <td>19.0</td>\n",
       "      <td>20</td>\n",
       "      <td>15.0</td>\n",
       "      <td>22.0</td>\n",
       "    </tr>\n",
       "    <tr>\n",
       "      <th>9</th>\n",
       "      <td>Mishti</td>\n",
       "      <td>1</td>\n",
       "      <td>15</td>\n",
       "      <td>22.0</td>\n",
       "      <td>25</td>\n",
       "      <td>22.0</td>\n",
       "      <td>22.0</td>\n",
       "    </tr>\n",
       "    <tr>\n",
       "      <th>10</th>\n",
       "      <td>Mishti</td>\n",
       "      <td>2</td>\n",
       "      <td>18</td>\n",
       "      <td>21.0</td>\n",
       "      <td>25</td>\n",
       "      <td>24.0</td>\n",
       "      <td>23.0</td>\n",
       "    </tr>\n",
       "  </tbody>\n",
       "</table>\n",
       "</div>"
      ],
      "text/plain": [
       "        Name  UnitTest  DataMining    AI  Graphics  ImageProcessing  \\\n",
       "0       Suci         1          22  20.0        18             20.0   \n",
       "2       Suci         3          14  19.0        15             24.0   \n",
       "3   Srabanti         1          20  17.0        22             24.0   \n",
       "4   Srabanti         2          23  15.0        21             25.0   \n",
       "5   Srabanti         3          22  18.0        19             23.0   \n",
       "6    Ashravy         1          23  19.0        20             15.0   \n",
       "9     Mishti         1          15  22.0        25             22.0   \n",
       "10    Mishti         2          18  21.0        25             24.0   \n",
       "\n",
       "    Cryptography  \n",
       "0           24.0  \n",
       "2           23.0  \n",
       "3           19.0  \n",
       "4           15.0  \n",
       "5           13.0  \n",
       "6           22.0  \n",
       "9           22.0  \n",
       "10          23.0  "
      ]
     },
     "execution_count": 1150,
     "metadata": {},
     "output_type": "execute_result"
    }
   ],
   "source": [
    "Marks1 = Marks.dropna()\n",
    "Marks1"
   ]
  },
  {
   "cell_type": "markdown",
   "id": "3b365fb1-3b44-401a-b8d9-b9ef760896b3",
   "metadata": {},
   "source": [
    "Now, let us consider the following code:"
   ]
  },
  {
   "cell_type": "code",
   "execution_count": 1151,
   "id": "feaea04b-5297-495e-ae9c-8f3b4bca1064",
   "metadata": {},
   "outputs": [
    {
     "data": {
      "text/html": [
       "<div>\n",
       "<style scoped>\n",
       "    .dataframe tbody tr th:only-of-type {\n",
       "        vertical-align: middle;\n",
       "    }\n",
       "\n",
       "    .dataframe tbody tr th {\n",
       "        vertical-align: top;\n",
       "    }\n",
       "\n",
       "    .dataframe thead th {\n",
       "        text-align: right;\n",
       "    }\n",
       "</style>\n",
       "<table border=\"1\" class=\"dataframe\">\n",
       "  <thead>\n",
       "    <tr style=\"text-align: right;\">\n",
       "      <th></th>\n",
       "      <th>Name</th>\n",
       "      <th>UnitTest</th>\n",
       "      <th>DataMining</th>\n",
       "      <th>AI</th>\n",
       "      <th>Graphics</th>\n",
       "      <th>ImageProcessing</th>\n",
       "      <th>Cryptography</th>\n",
       "    </tr>\n",
       "  </thead>\n",
       "  <tbody>\n",
       "    <tr>\n",
       "      <th>0</th>\n",
       "      <td>Suci</td>\n",
       "      <td>1</td>\n",
       "      <td>22</td>\n",
       "      <td>20.0</td>\n",
       "      <td>18</td>\n",
       "      <td>20.0</td>\n",
       "      <td>24.0</td>\n",
       "    </tr>\n",
       "    <tr>\n",
       "      <th>1</th>\n",
       "      <td>Suci</td>\n",
       "      <td>2</td>\n",
       "      <td>21</td>\n",
       "      <td>NaN</td>\n",
       "      <td>17</td>\n",
       "      <td>22.0</td>\n",
       "      <td>NaN</td>\n",
       "    </tr>\n",
       "    <tr>\n",
       "      <th>2</th>\n",
       "      <td>Suci</td>\n",
       "      <td>3</td>\n",
       "      <td>14</td>\n",
       "      <td>19.0</td>\n",
       "      <td>15</td>\n",
       "      <td>24.0</td>\n",
       "      <td>23.0</td>\n",
       "    </tr>\n",
       "  </tbody>\n",
       "</table>\n",
       "</div>"
      ],
      "text/plain": [
       "   Name  UnitTest  DataMining    AI  Graphics  ImageProcessing  Cryptography\n",
       "0  Suci         1          22  20.0        18             20.0          24.0\n",
       "1  Suci         2          21   NaN        17             22.0           NaN\n",
       "2  Suci         3          14  19.0        15             24.0          23.0"
      ]
     },
     "execution_count": 1151,
     "metadata": {},
     "output_type": "execute_result"
    }
   ],
   "source": [
    "# marks obtained by Raman in all the unit tests\n",
    "Suci=Marks[Marks.Name=='Suci']\n",
    "Suci"
   ]
  },
  {
   "cell_type": "code",
   "execution_count": 1152,
   "id": "4450071f-c5b4-41db-98ac-387eed94730a",
   "metadata": {},
   "outputs": [],
   "source": [
    "AI = Suci['AI']"
   ]
  },
  {
   "cell_type": "code",
   "execution_count": 1153,
   "id": "acdae25e-cbd9-4cd7-b1f1-131fda2a5021",
   "metadata": {},
   "outputs": [
    {
     "name": "stdout",
     "output_type": "stream",
     "text": [
      "\n",
      "Marks Scored by Suci in AI\n",
      "\n"
     ]
    },
    {
     "data": {
      "text/plain": [
       "0    20.0\n",
       "1     NaN\n",
       "2    19.0\n",
       "Name: AI, dtype: float64"
      ]
     },
     "execution_count": 1153,
     "metadata": {},
     "output_type": "execute_result"
    }
   ],
   "source": [
    "print(\"\\nMarks Scored by Suci in AI\\n\")\n",
    "AI"
   ]
  },
  {
   "cell_type": "code",
   "execution_count": 1154,
   "id": "1514148e-7b21-4f35-b1b0-bca340fae553",
   "metadata": {},
   "outputs": [
    {
     "name": "stdout",
     "output_type": "stream",
     "text": [
      "\n",
      "Percentage of Marks Scored by Suci in AI\n",
      "\n",
      "52.0 %\n"
     ]
    }
   ],
   "source": [
    "row = len(AI)\n",
    "print(\"\\nPercentage of Marks Scored by Suci in AI\\n\")\n",
    "print(AI.sum()*100/(25*row),\"%\")"
   ]
  },
  {
   "cell_type": "code",
   "execution_count": 1155,
   "id": "058180fa-b61d-40b0-9d0f-35e7c6b4ca09",
   "metadata": {},
   "outputs": [],
   "source": [
    "Suci1=Suci.dropna(axis=0)"
   ]
  },
  {
   "cell_type": "code",
   "execution_count": 1156,
   "id": "3bb893f1-3024-4b1b-8a9a-4d4cc2b3d886",
   "metadata": {},
   "outputs": [],
   "source": [
    "AI = Suci1['AI']"
   ]
  },
  {
   "cell_type": "code",
   "execution_count": 1157,
   "id": "83d508be-9be3-46b8-afec-cc78abab1ad6",
   "metadata": {},
   "outputs": [
    {
     "name": "stdout",
     "output_type": "stream",
     "text": [
      "\n",
      "Percentage of Marks Scored by Suci in AI\n",
      "\n",
      "78.0 %\n"
     ]
    }
   ],
   "source": [
    "row = len(AI)\n",
    "print(\"\\nPercentage of Marks Scored by Suci in AI\\n\")\n",
    "print(AI.sum()*100/(25*row),\"%\")"
   ]
  },
  {
   "cell_type": "markdown",
   "id": "a6cde8c3-c1c3-4a13-b3bb-7c8460852449",
   "metadata": {},
   "source": [
    "**3.Estimating Missing Values**"
   ]
  },
  {
   "cell_type": "markdown",
   "id": "1b79425e-e111-41fe-a745-263efc6cf683",
   "metadata": {},
   "source": [
    "Missing values can be filled by using estimations or\n",
    "approximations e.g a value just before (or after) the\n",
    "missing value, average/minimum/maximum of the\n",
    "values of that attribute, etc. In some cases, missing\n",
    "values are replaced by zeros (or ones).\n",
    "The fillna(num) function can be used to replace\n",
    "missing value(s) by the value specified in num. For\n",
    "example, fillna(0) replaces missing value by 0. Similarly\n",
    "fillna(1) replaces missing value by 1. Following code\n",
    "replaces missing values by 0 and computes the\n",
    "percentage of marks scored by Raman in Science.\n"
   ]
  },
  {
   "cell_type": "code",
   "execution_count": 1158,
   "id": "5ba00e40-f946-4601-8a44-401ab7afe9d9",
   "metadata": {},
   "outputs": [
    {
     "data": {
      "text/html": [
       "<div>\n",
       "<style scoped>\n",
       "    .dataframe tbody tr th:only-of-type {\n",
       "        vertical-align: middle;\n",
       "    }\n",
       "\n",
       "    .dataframe tbody tr th {\n",
       "        vertical-align: top;\n",
       "    }\n",
       "\n",
       "    .dataframe thead th {\n",
       "        text-align: right;\n",
       "    }\n",
       "</style>\n",
       "<table border=\"1\" class=\"dataframe\">\n",
       "  <thead>\n",
       "    <tr style=\"text-align: right;\">\n",
       "      <th></th>\n",
       "      <th>Name</th>\n",
       "      <th>UnitTest</th>\n",
       "      <th>DataMining</th>\n",
       "      <th>AI</th>\n",
       "      <th>Graphics</th>\n",
       "      <th>ImageProcessing</th>\n",
       "      <th>Cryptography</th>\n",
       "    </tr>\n",
       "  </thead>\n",
       "  <tbody>\n",
       "    <tr>\n",
       "      <th>0</th>\n",
       "      <td>Suci</td>\n",
       "      <td>1</td>\n",
       "      <td>22</td>\n",
       "      <td>20.0</td>\n",
       "      <td>18</td>\n",
       "      <td>20.0</td>\n",
       "      <td>24.0</td>\n",
       "    </tr>\n",
       "    <tr>\n",
       "      <th>1</th>\n",
       "      <td>Suci</td>\n",
       "      <td>2</td>\n",
       "      <td>21</td>\n",
       "      <td>NaN</td>\n",
       "      <td>17</td>\n",
       "      <td>22.0</td>\n",
       "      <td>NaN</td>\n",
       "    </tr>\n",
       "    <tr>\n",
       "      <th>2</th>\n",
       "      <td>Suci</td>\n",
       "      <td>3</td>\n",
       "      <td>14</td>\n",
       "      <td>19.0</td>\n",
       "      <td>15</td>\n",
       "      <td>24.0</td>\n",
       "      <td>23.0</td>\n",
       "    </tr>\n",
       "  </tbody>\n",
       "</table>\n",
       "</div>"
      ],
      "text/plain": [
       "   Name  UnitTest  DataMining    AI  Graphics  ImageProcessing  Cryptography\n",
       "0  Suci         1          22  20.0        18             20.0          24.0\n",
       "1  Suci         2          21   NaN        17             22.0           NaN\n",
       "2  Suci         3          14  19.0        15             24.0          23.0"
      ]
     },
     "execution_count": 1158,
     "metadata": {},
     "output_type": "execute_result"
    }
   ],
   "source": [
    "#Marks Scored by Suci in all the subjects across the tests\n",
    "Suci = Marks.loc[Marks['Name']=='Suci']\n",
    "Suci\n"
   ]
  },
  {
   "cell_type": "code",
   "execution_count": 1159,
   "id": "78ced35a-c99e-4a75-87c9-ad361293723b",
   "metadata": {},
   "outputs": [
    {
     "data": {
      "text/plain": [
       "(3, 7)"
      ]
     },
     "execution_count": 1159,
     "metadata": {},
     "output_type": "execute_result"
    }
   ],
   "source": [
    "(row,col) =Suci.shape\n",
    "(row,col)\n"
   ]
  },
  {
   "cell_type": "code",
   "execution_count": 1160,
   "id": "1d191183-a763-48b8-a6b2-d97dbaef4b77",
   "metadata": {},
   "outputs": [
    {
     "name": "stdout",
     "output_type": "stream",
     "text": [
      "Marks Scored by Suci in AI\n"
     ]
    },
    {
     "data": {
      "text/plain": [
       "0    20.0\n",
       "1     NaN\n",
       "2    19.0\n",
       "Name: AI, dtype: float64"
      ]
     },
     "execution_count": 1160,
     "metadata": {},
     "output_type": "execute_result"
    }
   ],
   "source": [
    "AI = Suci.loc[:,'AI']\n",
    "print(\"Marks Scored by Suci in AI\")\n",
    "AI"
   ]
  },
  {
   "cell_type": "code",
   "execution_count": 1161,
   "id": "8ecef89f-709a-4038-a269-5bb886800da2",
   "metadata": {},
   "outputs": [
    {
     "name": "stdout",
     "output_type": "stream",
     "text": [
      "\n",
      "Marks Scored by Suci in AI with Missing Values Replaced with Zero\n"
     ]
    },
    {
     "data": {
      "text/plain": [
       "0    20.0\n",
       "1     0.0\n",
       "2    19.0\n",
       "Name: AI, dtype: float64"
      ]
     },
     "execution_count": 1161,
     "metadata": {},
     "output_type": "execute_result"
    }
   ],
   "source": [
    "FillZeroAI = AI.fillna(0)\n",
    "print('\\nMarks Scored by Suci in AI with Missing Values Replaced with Zero')\n",
    "FillZeroAI"
   ]
  },
  {
   "cell_type": "code",
   "execution_count": 1162,
   "id": "112d98fd-6369-4504-91c1-adcbcfc9dbe2",
   "metadata": {},
   "outputs": [
    {
     "name": "stdout",
     "output_type": "stream",
     "text": [
      "Percentage of Marks Scored by Raman in Science\n",
      "\n",
      " 52.0 %\n"
     ]
    }
   ],
   "source": [
    "print(\"Percentage of Marks Scored by Raman in Science\\n\\n\",FillZeroAI.sum()*100/(25*row),\"%\")"
   ]
  },
  {
   "cell_type": "markdown",
   "id": "d70a33bf-57eb-4721-a034-ffc8dd417613",
   "metadata": {},
   "source": [
    "df.fillna(method='pad') replaces the missing\n",
    "value by the value before the missing value while\n",
    "df.fillna(method='bfill') replaces the missing value by the\n",
    "value after the missing value. Following code replaces\n",
    "the missing value of Cryptography then computes the percentage\n",
    "of marks obtained by Suci."
   ]
  },
  {
   "cell_type": "code",
   "execution_count": 1163,
   "id": "d58fe2f6-7890-4449-bcce-d5fe7e302d96",
   "metadata": {},
   "outputs": [
    {
     "name": "stdout",
     "output_type": "stream",
     "text": [
      "Marks Scored by Suci in Cryptography\n"
     ]
    },
    {
     "data": {
      "text/plain": [
       "0    24.0\n",
       "1     NaN\n",
       "2    23.0\n",
       "Name: Cryptography, dtype: float64"
      ]
     },
     "execution_count": 1163,
     "metadata": {},
     "output_type": "execute_result"
    }
   ],
   "source": [
    "Cryptography = Suci.loc[:,'Cryptography']\n",
    "print(\"Marks Scored by Suci in Cryptography\")\n",
    "Cryptography"
   ]
  },
  {
   "cell_type": "code",
   "execution_count": 1164,
   "id": "6c6e5c39-5d55-452b-a37d-ebd19da434bf",
   "metadata": {},
   "outputs": [
    {
     "name": "stdout",
     "output_type": "stream",
     "text": [
      "\n",
      "Marks Scored by Suci in Cryptography with Missing Values Replaced by Previous TestMarks\n"
     ]
    },
    {
     "data": {
      "text/plain": [
       "0    24.0\n",
       "1    24.0\n",
       "2    23.0\n",
       "Name: Cryptography, dtype: float64"
      ]
     },
     "execution_count": 1164,
     "metadata": {},
     "output_type": "execute_result"
    }
   ],
   "source": [
    "FillPadCryptography = Cryptography.fillna(method='pad')\n",
    "print('\\nMarks Scored by Suci in Cryptography with Missing Values Replaced by Previous TestMarks')\n",
    "FillPadCryptography"
   ]
  },
  {
   "cell_type": "code",
   "execution_count": 1165,
   "id": "5dc1fccc-4cf3-4c68-9b57-20b483ea38e4",
   "metadata": {},
   "outputs": [],
   "source": [
    "row = len(Cryptography)"
   ]
  },
  {
   "cell_type": "code",
   "execution_count": 1166,
   "id": "2ee0c20b-2ac2-4218-a27a-919e9aaab1c9",
   "metadata": {},
   "outputs": [
    {
     "name": "stdout",
     "output_type": "stream",
     "text": [
      "Percentage of Marks Scored by Suci in Cryptography\n",
      "94.66666666666667 %\n"
     ]
    }
   ],
   "source": [
    "print(\"Percentage of Marks Scored by Suci in Cryptography\")\n",
    "print(FillPadCryptography.sum()*100/(25*row),\"%\")"
   ]
  },
  {
   "cell_type": "markdown",
   "id": "f9057b76-78fc-4e65-adca-3564a7df942f",
   "metadata": {},
   "source": [
    "**END**"
   ]
  },
  {
   "cell_type": "code",
   "execution_count": null,
   "id": "a822ed3b-4ae0-400c-b7f5-167002742a34",
   "metadata": {},
   "outputs": [],
   "source": []
  }
 ],
 "metadata": {
  "kernelspec": {
   "display_name": "Python 3 (ipykernel)",
   "language": "python",
   "name": "python3"
  },
  "language_info": {
   "codemirror_mode": {
    "name": "ipython",
    "version": 3
   },
   "file_extension": ".py",
   "mimetype": "text/x-python",
   "name": "python",
   "nbconvert_exporter": "python",
   "pygments_lexer": "ipython3",
   "version": "3.12.4"
  }
 },
 "nbformat": 4,
 "nbformat_minor": 5
}
