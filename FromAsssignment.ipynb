{
 "cells": [
  {
   "cell_type": "code",
   "execution_count": 1,
   "id": "fe22ccbc-59bd-42d9-8532-5c2b82ec2a97",
   "metadata": {},
   "outputs": [],
   "source": [
    "import pandas as pd"
   ]
  },
  {
   "cell_type": "code",
   "execution_count": 2,
   "id": "97fec7e8-bad7-49f2-b0b0-eef8ad01143f",
   "metadata": {},
   "outputs": [
    {
     "data": {
      "text/plain": [
       "2        Suci\n",
       "3      Sweety\n",
       "4      Fatema\n",
       "5    Taharema\n",
       "6      Tonuka\n",
       "dtype: object"
      ]
     },
     "execution_count": 2,
     "metadata": {},
     "output_type": "execute_result"
    }
   ],
   "source": [
    "pd.Series(['Suci','Sweety','Fatema','Taharema','Tonuka'],index=[2,3,4,5,6])"
   ]
  },
  {
   "cell_type": "code",
   "execution_count": 4,
   "id": "0d68eb7d-dbec-48e7-984d-cd99492d9790",
   "metadata": {},
   "outputs": [
    {
     "data": {
      "text/plain": [
       "ten       10\n",
       "twenty    20\n",
       "thirty    30\n",
       "forty     40\n",
       "fifty     50\n",
       "dtype: int64"
      ]
     },
     "execution_count": 4,
     "metadata": {},
     "output_type": "execute_result"
    }
   ],
   "source": [
    "pd.Series([10,20,30,40,50],index=['ten','twenty','thirty','forty','fifty'])"
   ]
  },
  {
   "cell_type": "code",
   "execution_count": 5,
   "id": "f3ce4e8a-0ec0-4a03-b0f8-6dc468c92d02",
   "metadata": {},
   "outputs": [],
   "source": [
    "import numpy as np"
   ]
  },
  {
   "cell_type": "code",
   "execution_count": 7,
   "id": "f21376f6-e132-497f-b975-229f64e243dc",
   "metadata": {},
   "outputs": [
    {
     "data": {
      "text/plain": [
       "array([100, 200, 300, 400, 500])"
      ]
     },
     "execution_count": 7,
     "metadata": {},
     "output_type": "execute_result"
    }
   ],
   "source": [
    "marks=np.array([100,200,300,400,500])\n",
    "marks"
   ]
  },
  {
   "cell_type": "code",
   "execution_count": 8,
   "id": "e649b5f5-73b5-4836-b464-5c5fb9e64bbc",
   "metadata": {},
   "outputs": [],
   "source": [
    "seriesArray=pd.Series(marks,index=['1 hundread','2 hundread','3 hundread','4 hundread','5 hundread'])"
   ]
  },
  {
   "cell_type": "code",
   "execution_count": 9,
   "id": "02e8a5a4-b122-4f17-83a0-f30ca27e2274",
   "metadata": {},
   "outputs": [
    {
     "data": {
      "text/plain": [
       "1 hundread    100\n",
       "2 hundread    200\n",
       "3 hundread    300\n",
       "4 hundread    400\n",
       "5 hundread    500\n",
       "dtype: int32"
      ]
     },
     "execution_count": 9,
     "metadata": {},
     "output_type": "execute_result"
    }
   ],
   "source": [
    "seriesArray"
   ]
  },
  {
   "cell_type": "code",
   "execution_count": 10,
   "id": "bea66c09-c617-472f-b1a8-c83ced048139",
   "metadata": {},
   "outputs": [],
   "source": [
    "#Seris from dictionary"
   ]
  },
  {
   "cell_type": "code",
   "execution_count": 11,
   "id": "812a05ce-a5d3-4a86-ad02-a4d09dc2508c",
   "metadata": {},
   "outputs": [
    {
     "data": {
      "text/plain": [
       "{'Suchi': 'Deya', 'Abin': 'Shirin', 'Marufa': 'Hridita'}"
      ]
     },
     "execution_count": 11,
     "metadata": {},
     "output_type": "execute_result"
    }
   ],
   "source": [
    "teammate={\n",
    "    'Suchi':'Deya',\n",
    "    'Abin':'Shirin',\n",
    "    'Marufa':'Hridita'\n",
    "}\n",
    "teammate"
   ]
  },
  {
   "cell_type": "code",
   "execution_count": 12,
   "id": "8d3ab771-aa06-49ff-9f36-21b7ccfb1c47",
   "metadata": {},
   "outputs": [],
   "source": [
    "seriesDictionary=pd.Series(teammate)"
   ]
  },
  {
   "cell_type": "code",
   "execution_count": 13,
   "id": "456b5c12-d2dc-4068-bcfc-97aed5857eeb",
   "metadata": {},
   "outputs": [
    {
     "data": {
      "text/plain": [
       "Suchi        Deya\n",
       "Abin       Shirin\n",
       "Marufa    Hridita\n",
       "dtype: object"
      ]
     },
     "execution_count": 13,
     "metadata": {},
     "output_type": "execute_result"
    }
   ],
   "source": [
    "seriesDictionary"
   ]
  },
  {
   "cell_type": "code",
   "execution_count": 14,
   "id": "b96dfe62-f380-4564-a620-53384ebf78bc",
   "metadata": {},
   "outputs": [
    {
     "data": {
      "text/plain": [
       "array([3, 4, 5, 6, 7])"
      ]
     },
     "execution_count": 14,
     "metadata": {},
     "output_type": "execute_result"
    }
   ],
   "source": [
    "np.arange(3,8,1)"
   ]
  },
  {
   "cell_type": "code",
   "execution_count": 16,
   "id": "08e4a102-cffd-4c30-bd0d-780f78d9239e",
   "metadata": {},
   "outputs": [
    {
     "data": {
      "text/plain": [
       "array([8, 7, 6, 5, 4, 3])"
      ]
     },
     "execution_count": 16,
     "metadata": {},
     "output_type": "execute_result"
    }
   ],
   "source": [
    "np.arange(8,2,-1)"
   ]
  },
  {
   "cell_type": "code",
   "execution_count": 17,
   "id": "0e795dff-8ce3-4f4f-a67c-9b4dfde531d6",
   "metadata": {},
   "outputs": [],
   "source": [
    "#Create Seies using arange"
   ]
  },
  {
   "cell_type": "code",
   "execution_count": 20,
   "id": "a3a4bc34-3c8a-4ec1-8527-e44d5b441f80",
   "metadata": {},
   "outputs": [
    {
     "data": {
      "text/plain": [
       "eight    8\n",
       "seven    7\n",
       "six      6\n",
       "five     5\n",
       "four     4\n",
       "dtype: int32"
      ]
     },
     "execution_count": 20,
     "metadata": {},
     "output_type": "execute_result"
    }
   ],
   "source": [
    "data=pd.Series(np.arange(8,3,-1),index=['eight','seven','six','five','four'])\n",
    "data"
   ]
  },
  {
   "cell_type": "code",
   "execution_count": 21,
   "id": "14cb9a4d-453e-49c2-bbea-f9cb04e14dcc",
   "metadata": {},
   "outputs": [],
   "source": [
    "data['six':'four']=500"
   ]
  },
  {
   "cell_type": "code",
   "execution_count": 22,
   "id": "7b2a9550-7ff4-4b38-947b-fe18abaeb545",
   "metadata": {},
   "outputs": [
    {
     "data": {
      "text/plain": [
       "eight      8\n",
       "seven      7\n",
       "six      500\n",
       "five     500\n",
       "four     500\n",
       "dtype: int32"
      ]
     },
     "execution_count": 22,
     "metadata": {},
     "output_type": "execute_result"
    }
   ],
   "source": [
    "data"
   ]
  },
  {
   "cell_type": "code",
   "execution_count": 23,
   "id": "28af24b1-e2de-4f61-a3a5-d3e2fdc726b7",
   "metadata": {},
   "outputs": [],
   "source": [
    "num1=pd.Series([1,2,3,4,5],index=['a','c','d','e','f'])"
   ]
  },
  {
   "cell_type": "code",
   "execution_count": 24,
   "id": "30dedb0b-9cce-49d8-ac52-99cc4be914a7",
   "metadata": {},
   "outputs": [
    {
     "data": {
      "text/plain": [
       "a    1\n",
       "c    2\n",
       "d    3\n",
       "e    4\n",
       "f    5\n",
       "dtype: int64"
      ]
     },
     "execution_count": 24,
     "metadata": {},
     "output_type": "execute_result"
    }
   ],
   "source": [
    "num1"
   ]
  },
  {
   "cell_type": "code",
   "execution_count": 25,
   "id": "44303adf-9a7d-429a-bf5e-410c2cbef89d",
   "metadata": {},
   "outputs": [],
   "source": [
    "num2=pd.Series([2,3,4,5],index=['a','b','g','d'])"
   ]
  },
  {
   "cell_type": "code",
   "execution_count": 26,
   "id": "bba85179-124b-4ed7-8617-21011b5e3c49",
   "metadata": {},
   "outputs": [
    {
     "data": {
      "text/plain": [
       "a    3.0\n",
       "b    NaN\n",
       "c    NaN\n",
       "d    8.0\n",
       "e    NaN\n",
       "f    NaN\n",
       "g    NaN\n",
       "dtype: float64"
      ]
     },
     "execution_count": 26,
     "metadata": {},
     "output_type": "execute_result"
    }
   ],
   "source": [
    "num1+num2"
   ]
  },
  {
   "cell_type": "code",
   "execution_count": 27,
   "id": "1a014622-ec7d-4ed3-b832-6b349c33af5e",
   "metadata": {},
   "outputs": [
    {
     "data": {
      "text/plain": [
       "a    3.0\n",
       "b    3.0\n",
       "c    2.0\n",
       "d    8.0\n",
       "e    4.0\n",
       "f    5.0\n",
       "g    4.0\n",
       "dtype: float64"
      ]
     },
     "execution_count": 27,
     "metadata": {},
     "output_type": "execute_result"
    }
   ],
   "source": [
    "num1.add(num2,fill_value=0)"
   ]
  },
  {
   "cell_type": "code",
   "execution_count": 28,
   "id": "86d32f95-9d1a-49fb-a247-c85e4e40aa9e",
   "metadata": {},
   "outputs": [
    {
     "data": {
      "text/plain": [
       "a   -1.0\n",
       "b    NaN\n",
       "c    NaN\n",
       "d   -2.0\n",
       "e    NaN\n",
       "f    NaN\n",
       "g    NaN\n",
       "dtype: float64"
      ]
     },
     "execution_count": 28,
     "metadata": {},
     "output_type": "execute_result"
    }
   ],
   "source": [
    "num1-num2"
   ]
  },
  {
   "cell_type": "code",
   "execution_count": 29,
   "id": "fe9ed0a4-c16b-406d-92ee-313f9232d335",
   "metadata": {},
   "outputs": [
    {
     "data": {
      "text/plain": [
       "a   -1.0\n",
       "b   -3.0\n",
       "c    2.0\n",
       "d   -2.0\n",
       "e    4.0\n",
       "f    5.0\n",
       "g   -4.0\n",
       "dtype: float64"
      ]
     },
     "execution_count": 29,
     "metadata": {},
     "output_type": "execute_result"
    }
   ],
   "source": [
    "num1.sub(num2,fill_value=0)"
   ]
  },
  {
   "cell_type": "code",
   "execution_count": 30,
   "id": "e870c877-9652-4133-84ea-7452c1ce8fdb",
   "metadata": {},
   "outputs": [
    {
     "data": {
      "text/plain": [
       "a     2.0\n",
       "b     NaN\n",
       "c     NaN\n",
       "d    15.0\n",
       "e     NaN\n",
       "f     NaN\n",
       "g     NaN\n",
       "dtype: float64"
      ]
     },
     "execution_count": 30,
     "metadata": {},
     "output_type": "execute_result"
    }
   ],
   "source": [
    "num1*num2"
   ]
  },
  {
   "cell_type": "code",
   "execution_count": 31,
   "id": "78534db3-3b50-4508-97fc-5a5ccdbc2f42",
   "metadata": {},
   "outputs": [
    {
     "data": {
      "text/plain": [
       "a     2.0\n",
       "b     3.0\n",
       "c     2.0\n",
       "d    15.0\n",
       "e     4.0\n",
       "f     5.0\n",
       "g     4.0\n",
       "dtype: float64"
      ]
     },
     "execution_count": 31,
     "metadata": {},
     "output_type": "execute_result"
    }
   ],
   "source": [
    "num1.mul(num2,fill_value=1)"
   ]
  },
  {
   "cell_type": "code",
   "execution_count": 32,
   "id": "bb8f0bad-9280-4a44-8e95-50047a61bad1",
   "metadata": {},
   "outputs": [
    {
     "data": {
      "text/plain": [
       "a    0.5\n",
       "b    NaN\n",
       "c    NaN\n",
       "d    0.6\n",
       "e    NaN\n",
       "f    NaN\n",
       "g    NaN\n",
       "dtype: float64"
      ]
     },
     "execution_count": 32,
     "metadata": {},
     "output_type": "execute_result"
    }
   ],
   "source": [
    "num1/num2"
   ]
  },
  {
   "cell_type": "code",
   "execution_count": 33,
   "id": "600082bf-56bb-4c18-8fe6-98f0a4cb21bf",
   "metadata": {},
   "outputs": [
    {
     "data": {
      "text/plain": [
       "a    0.500000\n",
       "b    0.333333\n",
       "c    2.000000\n",
       "d    0.600000\n",
       "e    4.000000\n",
       "f    5.000000\n",
       "g    0.250000\n",
       "dtype: float64"
      ]
     },
     "execution_count": 33,
     "metadata": {},
     "output_type": "execute_result"
    }
   ],
   "source": [
    "num1.div(num2,fill_value=1)"
   ]
  },
  {
   "cell_type": "code",
   "execution_count": 34,
   "id": "ce52c8e4-1ebe-4f8e-b098-c52e52f3b84f",
   "metadata": {},
   "outputs": [
    {
     "data": {
      "text/plain": [
       "Index(['a', 'c', 'd', 'e', 'f'], dtype='object')"
      ]
     },
     "execution_count": 34,
     "metadata": {},
     "output_type": "execute_result"
    }
   ],
   "source": [
    "num1.index"
   ]
  },
  {
   "cell_type": "code",
   "execution_count": 35,
   "id": "3e0d4866-62f7-47bf-8b4b-cdc5a0561465",
   "metadata": {},
   "outputs": [
    {
     "data": {
      "text/plain": [
       "array([1, 2, 3, 4, 5], dtype=int64)"
      ]
     },
     "execution_count": 35,
     "metadata": {},
     "output_type": "execute_result"
    }
   ],
   "source": [
    "num1.values"
   ]
  },
  {
   "cell_type": "markdown",
   "id": "a44d7867-fd64-49be-8a9c-d2d54d9d0e37",
   "metadata": {},
   "source": [
    "# Starting Dataframe Assignment"
   ]
  },
  {
   "cell_type": "code",
   "execution_count": 36,
   "id": "a1064604-02a9-4316-b23b-ebd025cb2fee",
   "metadata": {},
   "outputs": [],
   "source": [
    "StudentMarks= {\n",
    "    'Name':['Suci','Suci','Suci','Srabanti','Srabanti','Srabanti', 'Ashravy','Ashravy','Ashravy','Mishti','Mishti','Mishti'],\n",
    " 'UnitTest':[1,2,3,1,2,3,1,2,3,1,2,3],\n",
    " 'DataMining':[22,21,14,20,23,22,23,24,12,15,18,17],\n",
    " 'AI':[21,20,19,17,15,18,19,22,25,22,21,18],\n",
    " 'Graphics':[18,17,15,22,21,19,20,24,19,25,25,20],\n",
    " 'ImageProcessing':[20,22,24,24,25,23,15,17,21,22,24,25],\n",
    " 'Cryptography':[21,24,23,19,15,13,22,21,23,22,23,20]\n",
    " }\n",
    " "
   ]
  },
  {
   "cell_type": "code",
   "execution_count": 37,
   "id": "24873f0f-29da-46e1-90cf-0a1bf641c502",
   "metadata": {},
   "outputs": [],
   "source": [
    "import pandas as pd"
   ]
  },
  {
   "cell_type": "code",
   "execution_count": 38,
   "id": "a8a7e112-8d6e-4fad-a6d7-06e4a19f9afc",
   "metadata": {},
   "outputs": [],
   "source": [
    "data=pd.DataFrame(StudentMarks)"
   ]
  },
  {
   "cell_type": "code",
   "execution_count": 39,
   "id": "5c7c0cc0-d646-450b-bea2-c943e9f70e4b",
   "metadata": {},
   "outputs": [
    {
     "data": {
      "text/html": [
       "<div>\n",
       "<style scoped>\n",
       "    .dataframe tbody tr th:only-of-type {\n",
       "        vertical-align: middle;\n",
       "    }\n",
       "\n",
       "    .dataframe tbody tr th {\n",
       "        vertical-align: top;\n",
       "    }\n",
       "\n",
       "    .dataframe thead th {\n",
       "        text-align: right;\n",
       "    }\n",
       "</style>\n",
       "<table border=\"1\" class=\"dataframe\">\n",
       "  <thead>\n",
       "    <tr style=\"text-align: right;\">\n",
       "      <th></th>\n",
       "      <th>Name</th>\n",
       "      <th>UnitTest</th>\n",
       "      <th>DataMining</th>\n",
       "      <th>AI</th>\n",
       "      <th>Graphics</th>\n",
       "      <th>ImageProcessing</th>\n",
       "      <th>Cryptography</th>\n",
       "    </tr>\n",
       "  </thead>\n",
       "  <tbody>\n",
       "    <tr>\n",
       "      <th>0</th>\n",
       "      <td>Suci</td>\n",
       "      <td>1</td>\n",
       "      <td>22</td>\n",
       "      <td>21</td>\n",
       "      <td>18</td>\n",
       "      <td>20</td>\n",
       "      <td>21</td>\n",
       "    </tr>\n",
       "    <tr>\n",
       "      <th>1</th>\n",
       "      <td>Suci</td>\n",
       "      <td>2</td>\n",
       "      <td>21</td>\n",
       "      <td>20</td>\n",
       "      <td>17</td>\n",
       "      <td>22</td>\n",
       "      <td>24</td>\n",
       "    </tr>\n",
       "    <tr>\n",
       "      <th>2</th>\n",
       "      <td>Suci</td>\n",
       "      <td>3</td>\n",
       "      <td>14</td>\n",
       "      <td>19</td>\n",
       "      <td>15</td>\n",
       "      <td>24</td>\n",
       "      <td>23</td>\n",
       "    </tr>\n",
       "    <tr>\n",
       "      <th>3</th>\n",
       "      <td>Srabanti</td>\n",
       "      <td>1</td>\n",
       "      <td>20</td>\n",
       "      <td>17</td>\n",
       "      <td>22</td>\n",
       "      <td>24</td>\n",
       "      <td>19</td>\n",
       "    </tr>\n",
       "    <tr>\n",
       "      <th>4</th>\n",
       "      <td>Srabanti</td>\n",
       "      <td>2</td>\n",
       "      <td>23</td>\n",
       "      <td>15</td>\n",
       "      <td>21</td>\n",
       "      <td>25</td>\n",
       "      <td>15</td>\n",
       "    </tr>\n",
       "    <tr>\n",
       "      <th>5</th>\n",
       "      <td>Srabanti</td>\n",
       "      <td>3</td>\n",
       "      <td>22</td>\n",
       "      <td>18</td>\n",
       "      <td>19</td>\n",
       "      <td>23</td>\n",
       "      <td>13</td>\n",
       "    </tr>\n",
       "    <tr>\n",
       "      <th>6</th>\n",
       "      <td>Ashravy</td>\n",
       "      <td>1</td>\n",
       "      <td>23</td>\n",
       "      <td>19</td>\n",
       "      <td>20</td>\n",
       "      <td>15</td>\n",
       "      <td>22</td>\n",
       "    </tr>\n",
       "    <tr>\n",
       "      <th>7</th>\n",
       "      <td>Ashravy</td>\n",
       "      <td>2</td>\n",
       "      <td>24</td>\n",
       "      <td>22</td>\n",
       "      <td>24</td>\n",
       "      <td>17</td>\n",
       "      <td>21</td>\n",
       "    </tr>\n",
       "    <tr>\n",
       "      <th>8</th>\n",
       "      <td>Ashravy</td>\n",
       "      <td>3</td>\n",
       "      <td>12</td>\n",
       "      <td>25</td>\n",
       "      <td>19</td>\n",
       "      <td>21</td>\n",
       "      <td>23</td>\n",
       "    </tr>\n",
       "    <tr>\n",
       "      <th>9</th>\n",
       "      <td>Mishti</td>\n",
       "      <td>1</td>\n",
       "      <td>15</td>\n",
       "      <td>22</td>\n",
       "      <td>25</td>\n",
       "      <td>22</td>\n",
       "      <td>22</td>\n",
       "    </tr>\n",
       "    <tr>\n",
       "      <th>10</th>\n",
       "      <td>Mishti</td>\n",
       "      <td>2</td>\n",
       "      <td>18</td>\n",
       "      <td>21</td>\n",
       "      <td>25</td>\n",
       "      <td>24</td>\n",
       "      <td>23</td>\n",
       "    </tr>\n",
       "    <tr>\n",
       "      <th>11</th>\n",
       "      <td>Mishti</td>\n",
       "      <td>3</td>\n",
       "      <td>17</td>\n",
       "      <td>18</td>\n",
       "      <td>20</td>\n",
       "      <td>25</td>\n",
       "      <td>20</td>\n",
       "    </tr>\n",
       "  </tbody>\n",
       "</table>\n",
       "</div>"
      ],
      "text/plain": [
       "        Name  UnitTest  DataMining  AI  Graphics  ImageProcessing  \\\n",
       "0       Suci         1          22  21        18               20   \n",
       "1       Suci         2          21  20        17               22   \n",
       "2       Suci         3          14  19        15               24   \n",
       "3   Srabanti         1          20  17        22               24   \n",
       "4   Srabanti         2          23  15        21               25   \n",
       "5   Srabanti         3          22  18        19               23   \n",
       "6    Ashravy         1          23  19        20               15   \n",
       "7    Ashravy         2          24  22        24               17   \n",
       "8    Ashravy         3          12  25        19               21   \n",
       "9     Mishti         1          15  22        25               22   \n",
       "10    Mishti         2          18  21        25               24   \n",
       "11    Mishti         3          17  18        20               25   \n",
       "\n",
       "    Cryptography  \n",
       "0             21  \n",
       "1             24  \n",
       "2             23  \n",
       "3             19  \n",
       "4             15  \n",
       "5             13  \n",
       "6             22  \n",
       "7             21  \n",
       "8             23  \n",
       "9             22  \n",
       "10            23  \n",
       "11            20  "
      ]
     },
     "execution_count": 39,
     "metadata": {},
     "output_type": "execute_result"
    }
   ],
   "source": [
    "data"
   ]
  },
  {
   "cell_type": "code",
   "execution_count": 40,
   "id": "4db9835f-dad0-42cb-9bb8-aef24c5a8cb7",
   "metadata": {},
   "outputs": [
    {
     "data": {
      "text/html": [
       "<div>\n",
       "<style scoped>\n",
       "    .dataframe tbody tr th:only-of-type {\n",
       "        vertical-align: middle;\n",
       "    }\n",
       "\n",
       "    .dataframe tbody tr th {\n",
       "        vertical-align: top;\n",
       "    }\n",
       "\n",
       "    .dataframe thead th {\n",
       "        text-align: right;\n",
       "    }\n",
       "</style>\n",
       "<table border=\"1\" class=\"dataframe\">\n",
       "  <thead>\n",
       "    <tr style=\"text-align: right;\">\n",
       "      <th></th>\n",
       "      <th>Name</th>\n",
       "      <th>UnitTest</th>\n",
       "      <th>DataMining</th>\n",
       "      <th>AI</th>\n",
       "      <th>Graphics</th>\n",
       "      <th>ImageProcessing</th>\n",
       "      <th>Cryptography</th>\n",
       "    </tr>\n",
       "  </thead>\n",
       "  <tbody>\n",
       "    <tr>\n",
       "      <th>2</th>\n",
       "      <td>Suci</td>\n",
       "      <td>3</td>\n",
       "      <td>14</td>\n",
       "      <td>19</td>\n",
       "      <td>15</td>\n",
       "      <td>24</td>\n",
       "      <td>23</td>\n",
       "    </tr>\n",
       "    <tr>\n",
       "      <th>5</th>\n",
       "      <td>Srabanti</td>\n",
       "      <td>3</td>\n",
       "      <td>22</td>\n",
       "      <td>18</td>\n",
       "      <td>19</td>\n",
       "      <td>23</td>\n",
       "      <td>13</td>\n",
       "    </tr>\n",
       "    <tr>\n",
       "      <th>8</th>\n",
       "      <td>Ashravy</td>\n",
       "      <td>3</td>\n",
       "      <td>12</td>\n",
       "      <td>25</td>\n",
       "      <td>19</td>\n",
       "      <td>21</td>\n",
       "      <td>23</td>\n",
       "    </tr>\n",
       "    <tr>\n",
       "      <th>11</th>\n",
       "      <td>Mishti</td>\n",
       "      <td>3</td>\n",
       "      <td>17</td>\n",
       "      <td>18</td>\n",
       "      <td>20</td>\n",
       "      <td>25</td>\n",
       "      <td>20</td>\n",
       "    </tr>\n",
       "  </tbody>\n",
       "</table>\n",
       "</div>"
      ],
      "text/plain": [
       "        Name  UnitTest  DataMining  AI  Graphics  ImageProcessing  \\\n",
       "2       Suci         3          14  19        15               24   \n",
       "5   Srabanti         3          22  18        19               23   \n",
       "8    Ashravy         3          12  25        19               21   \n",
       "11    Mishti         3          17  18        20               25   \n",
       "\n",
       "    Cryptography  \n",
       "2             23  \n",
       "5             13  \n",
       "8             23  \n",
       "11            20  "
      ]
     },
     "execution_count": 40,
     "metadata": {},
     "output_type": "execute_result"
    }
   ],
   "source": [
    "data[data.UnitTest>2]"
   ]
  },
  {
   "cell_type": "code",
   "execution_count": 41,
   "id": "57ba9eb4-1a08-43e3-b110-0e2f5dd3aeeb",
   "metadata": {},
   "outputs": [
    {
     "data": {
      "text/plain": [
       "Name               Suci\n",
       "UnitTest              3\n",
       "DataMining           24\n",
       "AI                   25\n",
       "Graphics             25\n",
       "ImageProcessing      25\n",
       "Cryptography         24\n",
       "dtype: object"
      ]
     },
     "execution_count": 41,
     "metadata": {},
     "output_type": "execute_result"
    }
   ],
   "source": [
    "data.max()"
   ]
  },
  {
   "cell_type": "code",
   "execution_count": 42,
   "id": "3f670cf9-810e-4a9f-83ce-689904bea4de",
   "metadata": {},
   "outputs": [
    {
     "data": {
      "text/plain": [
       "UnitTest            3\n",
       "DataMining         24\n",
       "AI                 25\n",
       "Graphics           25\n",
       "ImageProcessing    25\n",
       "Cryptography       24\n",
       "dtype: int64"
      ]
     },
     "execution_count": 42,
     "metadata": {},
     "output_type": "execute_result"
    }
   ],
   "source": [
    "data.max(numeric_only=True)"
   ]
  },
  {
   "cell_type": "code",
   "execution_count": 43,
   "id": "4e1e594f-394f-467b-a065-8596826a7a78",
   "metadata": {},
   "outputs": [
    {
     "data": {
      "text/html": [
       "<div>\n",
       "<style scoped>\n",
       "    .dataframe tbody tr th:only-of-type {\n",
       "        vertical-align: middle;\n",
       "    }\n",
       "\n",
       "    .dataframe tbody tr th {\n",
       "        vertical-align: top;\n",
       "    }\n",
       "\n",
       "    .dataframe thead th {\n",
       "        text-align: right;\n",
       "    }\n",
       "</style>\n",
       "<table border=\"1\" class=\"dataframe\">\n",
       "  <thead>\n",
       "    <tr style=\"text-align: right;\">\n",
       "      <th></th>\n",
       "      <th>Name</th>\n",
       "      <th>UnitTest</th>\n",
       "      <th>DataMining</th>\n",
       "      <th>AI</th>\n",
       "      <th>Graphics</th>\n",
       "      <th>ImageProcessing</th>\n",
       "      <th>Cryptography</th>\n",
       "    </tr>\n",
       "  </thead>\n",
       "  <tbody>\n",
       "    <tr>\n",
       "      <th>2</th>\n",
       "      <td>Suci</td>\n",
       "      <td>3</td>\n",
       "      <td>14</td>\n",
       "      <td>19</td>\n",
       "      <td>15</td>\n",
       "      <td>24</td>\n",
       "      <td>23</td>\n",
       "    </tr>\n",
       "    <tr>\n",
       "      <th>5</th>\n",
       "      <td>Srabanti</td>\n",
       "      <td>3</td>\n",
       "      <td>22</td>\n",
       "      <td>18</td>\n",
       "      <td>19</td>\n",
       "      <td>23</td>\n",
       "      <td>13</td>\n",
       "    </tr>\n",
       "    <tr>\n",
       "      <th>8</th>\n",
       "      <td>Ashravy</td>\n",
       "      <td>3</td>\n",
       "      <td>12</td>\n",
       "      <td>25</td>\n",
       "      <td>19</td>\n",
       "      <td>21</td>\n",
       "      <td>23</td>\n",
       "    </tr>\n",
       "    <tr>\n",
       "      <th>11</th>\n",
       "      <td>Mishti</td>\n",
       "      <td>3</td>\n",
       "      <td>17</td>\n",
       "      <td>18</td>\n",
       "      <td>20</td>\n",
       "      <td>25</td>\n",
       "      <td>20</td>\n",
       "    </tr>\n",
       "  </tbody>\n",
       "</table>\n",
       "</div>"
      ],
      "text/plain": [
       "        Name  UnitTest  DataMining  AI  Graphics  ImageProcessing  \\\n",
       "2       Suci         3          14  19        15               24   \n",
       "5   Srabanti         3          22  18        19               23   \n",
       "8    Ashravy         3          12  25        19               21   \n",
       "11    Mishti         3          17  18        20               25   \n",
       "\n",
       "    Cryptography  \n",
       "2             23  \n",
       "5             13  \n",
       "8             23  \n",
       "11            20  "
      ]
     },
     "execution_count": 43,
     "metadata": {},
     "output_type": "execute_result"
    }
   ],
   "source": [
    "data[data['UnitTest']==3]"
   ]
  },
  {
   "cell_type": "code",
   "execution_count": 44,
   "id": "9a67a748-d941-4b62-bc7b-1550fb6123f3",
   "metadata": {},
   "outputs": [],
   "source": [
    "unitTest3 = data[data['UnitTest']==3]"
   ]
  },
  {
   "cell_type": "code",
   "execution_count": 45,
   "id": "b2149f1b-b28e-442c-980c-b56981d77463",
   "metadata": {},
   "outputs": [
    {
     "data": {
      "text/html": [
       "<div>\n",
       "<style scoped>\n",
       "    .dataframe tbody tr th:only-of-type {\n",
       "        vertical-align: middle;\n",
       "    }\n",
       "\n",
       "    .dataframe tbody tr th {\n",
       "        vertical-align: top;\n",
       "    }\n",
       "\n",
       "    .dataframe thead th {\n",
       "        text-align: right;\n",
       "    }\n",
       "</style>\n",
       "<table border=\"1\" class=\"dataframe\">\n",
       "  <thead>\n",
       "    <tr style=\"text-align: right;\">\n",
       "      <th></th>\n",
       "      <th>Name</th>\n",
       "      <th>UnitTest</th>\n",
       "      <th>DataMining</th>\n",
       "      <th>AI</th>\n",
       "      <th>Graphics</th>\n",
       "      <th>ImageProcessing</th>\n",
       "      <th>Cryptography</th>\n",
       "    </tr>\n",
       "  </thead>\n",
       "  <tbody>\n",
       "    <tr>\n",
       "      <th>2</th>\n",
       "      <td>Suci</td>\n",
       "      <td>3</td>\n",
       "      <td>14</td>\n",
       "      <td>19</td>\n",
       "      <td>15</td>\n",
       "      <td>24</td>\n",
       "      <td>23</td>\n",
       "    </tr>\n",
       "    <tr>\n",
       "      <th>5</th>\n",
       "      <td>Srabanti</td>\n",
       "      <td>3</td>\n",
       "      <td>22</td>\n",
       "      <td>18</td>\n",
       "      <td>19</td>\n",
       "      <td>23</td>\n",
       "      <td>13</td>\n",
       "    </tr>\n",
       "    <tr>\n",
       "      <th>8</th>\n",
       "      <td>Ashravy</td>\n",
       "      <td>3</td>\n",
       "      <td>12</td>\n",
       "      <td>25</td>\n",
       "      <td>19</td>\n",
       "      <td>21</td>\n",
       "      <td>23</td>\n",
       "    </tr>\n",
       "    <tr>\n",
       "      <th>11</th>\n",
       "      <td>Mishti</td>\n",
       "      <td>3</td>\n",
       "      <td>17</td>\n",
       "      <td>18</td>\n",
       "      <td>20</td>\n",
       "      <td>25</td>\n",
       "      <td>20</td>\n",
       "    </tr>\n",
       "  </tbody>\n",
       "</table>\n",
       "</div>"
      ],
      "text/plain": [
       "        Name  UnitTest  DataMining  AI  Graphics  ImageProcessing  \\\n",
       "2       Suci         3          14  19        15               24   \n",
       "5   Srabanti         3          22  18        19               23   \n",
       "8    Ashravy         3          12  25        19               21   \n",
       "11    Mishti         3          17  18        20               25   \n",
       "\n",
       "    Cryptography  \n",
       "2             23  \n",
       "5             13  \n",
       "8             23  \n",
       "11            20  "
      ]
     },
     "execution_count": 45,
     "metadata": {},
     "output_type": "execute_result"
    }
   ],
   "source": [
    "unitTest3"
   ]
  },
  {
   "cell_type": "code",
   "execution_count": 47,
   "id": "163bfa77-f061-41b6-af05-a8c7a866cf91",
   "metadata": {},
   "outputs": [
    {
     "data": {
      "text/plain": [
       "22"
      ]
     },
     "execution_count": 47,
     "metadata": {},
     "output_type": "execute_result"
    }
   ],
   "source": [
    "unitTest3['DataMining'].max()"
   ]
  },
  {
   "cell_type": "code",
   "execution_count": 48,
   "id": "5e763298-958f-4f8b-9ef8-736214dd8a27",
   "metadata": {},
   "outputs": [],
   "source": [
    "marksSuci =data[data.Name == 'Suci']"
   ]
  },
  {
   "cell_type": "code",
   "execution_count": 49,
   "id": "ccb383b2-cc2f-4817-ac06-81fd1db144e8",
   "metadata": {},
   "outputs": [
    {
     "data": {
      "text/html": [
       "<div>\n",
       "<style scoped>\n",
       "    .dataframe tbody tr th:only-of-type {\n",
       "        vertical-align: middle;\n",
       "    }\n",
       "\n",
       "    .dataframe tbody tr th {\n",
       "        vertical-align: top;\n",
       "    }\n",
       "\n",
       "    .dataframe thead th {\n",
       "        text-align: right;\n",
       "    }\n",
       "</style>\n",
       "<table border=\"1\" class=\"dataframe\">\n",
       "  <thead>\n",
       "    <tr style=\"text-align: right;\">\n",
       "      <th></th>\n",
       "      <th>Name</th>\n",
       "      <th>UnitTest</th>\n",
       "      <th>DataMining</th>\n",
       "      <th>AI</th>\n",
       "      <th>Graphics</th>\n",
       "      <th>ImageProcessing</th>\n",
       "      <th>Cryptography</th>\n",
       "    </tr>\n",
       "  </thead>\n",
       "  <tbody>\n",
       "    <tr>\n",
       "      <th>0</th>\n",
       "      <td>Suci</td>\n",
       "      <td>1</td>\n",
       "      <td>22</td>\n",
       "      <td>21</td>\n",
       "      <td>18</td>\n",
       "      <td>20</td>\n",
       "      <td>21</td>\n",
       "    </tr>\n",
       "    <tr>\n",
       "      <th>1</th>\n",
       "      <td>Suci</td>\n",
       "      <td>2</td>\n",
       "      <td>21</td>\n",
       "      <td>20</td>\n",
       "      <td>17</td>\n",
       "      <td>22</td>\n",
       "      <td>24</td>\n",
       "    </tr>\n",
       "    <tr>\n",
       "      <th>2</th>\n",
       "      <td>Suci</td>\n",
       "      <td>3</td>\n",
       "      <td>14</td>\n",
       "      <td>19</td>\n",
       "      <td>15</td>\n",
       "      <td>24</td>\n",
       "      <td>23</td>\n",
       "    </tr>\n",
       "  </tbody>\n",
       "</table>\n",
       "</div>"
      ],
      "text/plain": [
       "   Name  UnitTest  DataMining  AI  Graphics  ImageProcessing  Cryptography\n",
       "0  Suci         1          22  21        18               20            21\n",
       "1  Suci         2          21  20        17               22            24\n",
       "2  Suci         3          14  19        15               24            23"
      ]
     },
     "execution_count": 49,
     "metadata": {},
     "output_type": "execute_result"
    }
   ],
   "source": [
    "marksSuci"
   ]
  },
  {
   "cell_type": "code",
   "execution_count": 50,
   "id": "91c9d7f8-8752-42f8-91d7-a8c24e36b86d",
   "metadata": {},
   "outputs": [
    {
     "data": {
      "text/plain": [
       "231"
      ]
     },
     "execution_count": 50,
     "metadata": {},
     "output_type": "execute_result"
    }
   ],
   "source": [
    "data['DataMining'].sum()"
   ]
  },
  {
   "cell_type": "code",
   "execution_count": 51,
   "id": "4bc3eeae-aae5-4e7d-ba59-499d63eb04b3",
   "metadata": {},
   "outputs": [
    {
     "data": {
      "text/plain": [
       "(12, 7)"
      ]
     },
     "execution_count": 51,
     "metadata": {},
     "output_type": "execute_result"
    }
   ],
   "source": [
    "data.shape"
   ]
  },
  {
   "cell_type": "code",
   "execution_count": 52,
   "id": "0957972a-91f9-4c82-84b9-1c8440cda447",
   "metadata": {},
   "outputs": [
    {
     "data": {
      "text/plain": [
       "Name               12\n",
       "UnitTest           12\n",
       "DataMining         12\n",
       "AI                 12\n",
       "Graphics           12\n",
       "ImageProcessing    12\n",
       "Cryptography       12\n",
       "dtype: int64"
      ]
     },
     "execution_count": 52,
     "metadata": {},
     "output_type": "execute_result"
    }
   ],
   "source": [
    "data.count()"
   ]
  },
  {
   "cell_type": "code",
   "execution_count": 53,
   "id": "437167c9-4de6-4de7-834b-7586760ddedb",
   "metadata": {},
   "outputs": [
    {
     "data": {
      "text/plain": [
       "0     7\n",
       "1     7\n",
       "2     7\n",
       "3     7\n",
       "4     7\n",
       "5     7\n",
       "6     7\n",
       "7     7\n",
       "8     7\n",
       "9     7\n",
       "10    7\n",
       "11    7\n",
       "dtype: int64"
      ]
     },
     "execution_count": 53,
     "metadata": {},
     "output_type": "execute_result"
    }
   ],
   "source": [
    "data.count(axis=1)"
   ]
  },
  {
   "cell_type": "code",
   "execution_count": 54,
   "id": "03dd5252-6171-405e-96f1-856239257cd9",
   "metadata": {},
   "outputs": [
    {
     "data": {
      "text/plain": [
       "UnitTest            2.000000\n",
       "DataMining         19.250000\n",
       "AI                 19.750000\n",
       "Graphics           20.416667\n",
       "ImageProcessing    21.833333\n",
       "Cryptography       20.500000\n",
       "dtype: float64"
      ]
     },
     "execution_count": 54,
     "metadata": {},
     "output_type": "execute_result"
    }
   ],
   "source": [
    "data.mean(numeric_only=True)"
   ]
  },
  {
   "cell_type": "code",
   "execution_count": 55,
   "id": "c8b5ab17-b041-4761-ac0a-661b4b41a16f",
   "metadata": {},
   "outputs": [
    {
     "data": {
      "text/html": [
       "<div>\n",
       "<style scoped>\n",
       "    .dataframe tbody tr th:only-of-type {\n",
       "        vertical-align: middle;\n",
       "    }\n",
       "\n",
       "    .dataframe tbody tr th {\n",
       "        vertical-align: top;\n",
       "    }\n",
       "\n",
       "    .dataframe thead th {\n",
       "        text-align: right;\n",
       "    }\n",
       "</style>\n",
       "<table border=\"1\" class=\"dataframe\">\n",
       "  <thead>\n",
       "    <tr style=\"text-align: right;\">\n",
       "      <th></th>\n",
       "      <th>Name</th>\n",
       "      <th>UnitTest</th>\n",
       "      <th>DataMining</th>\n",
       "      <th>AI</th>\n",
       "      <th>Graphics</th>\n",
       "      <th>ImageProcessing</th>\n",
       "      <th>Cryptography</th>\n",
       "    </tr>\n",
       "  </thead>\n",
       "  <tbody>\n",
       "    <tr>\n",
       "      <th>0</th>\n",
       "      <td>Suci</td>\n",
       "      <td>1</td>\n",
       "      <td>22</td>\n",
       "      <td>21</td>\n",
       "      <td>18</td>\n",
       "      <td>20</td>\n",
       "      <td>21</td>\n",
       "    </tr>\n",
       "    <tr>\n",
       "      <th>1</th>\n",
       "      <td>Suci</td>\n",
       "      <td>2</td>\n",
       "      <td>21</td>\n",
       "      <td>20</td>\n",
       "      <td>17</td>\n",
       "      <td>22</td>\n",
       "      <td>24</td>\n",
       "    </tr>\n",
       "    <tr>\n",
       "      <th>2</th>\n",
       "      <td>Suci</td>\n",
       "      <td>3</td>\n",
       "      <td>14</td>\n",
       "      <td>19</td>\n",
       "      <td>15</td>\n",
       "      <td>24</td>\n",
       "      <td>23</td>\n",
       "    </tr>\n",
       "    <tr>\n",
       "      <th>3</th>\n",
       "      <td>Srabanti</td>\n",
       "      <td>1</td>\n",
       "      <td>20</td>\n",
       "      <td>17</td>\n",
       "      <td>22</td>\n",
       "      <td>24</td>\n",
       "      <td>19</td>\n",
       "    </tr>\n",
       "    <tr>\n",
       "      <th>4</th>\n",
       "      <td>Srabanti</td>\n",
       "      <td>2</td>\n",
       "      <td>23</td>\n",
       "      <td>15</td>\n",
       "      <td>21</td>\n",
       "      <td>25</td>\n",
       "      <td>15</td>\n",
       "    </tr>\n",
       "    <tr>\n",
       "      <th>5</th>\n",
       "      <td>Srabanti</td>\n",
       "      <td>3</td>\n",
       "      <td>22</td>\n",
       "      <td>18</td>\n",
       "      <td>19</td>\n",
       "      <td>23</td>\n",
       "      <td>13</td>\n",
       "    </tr>\n",
       "    <tr>\n",
       "      <th>6</th>\n",
       "      <td>Ashravy</td>\n",
       "      <td>1</td>\n",
       "      <td>23</td>\n",
       "      <td>19</td>\n",
       "      <td>20</td>\n",
       "      <td>15</td>\n",
       "      <td>22</td>\n",
       "    </tr>\n",
       "    <tr>\n",
       "      <th>7</th>\n",
       "      <td>Ashravy</td>\n",
       "      <td>2</td>\n",
       "      <td>24</td>\n",
       "      <td>22</td>\n",
       "      <td>24</td>\n",
       "      <td>17</td>\n",
       "      <td>21</td>\n",
       "    </tr>\n",
       "    <tr>\n",
       "      <th>8</th>\n",
       "      <td>Ashravy</td>\n",
       "      <td>3</td>\n",
       "      <td>12</td>\n",
       "      <td>25</td>\n",
       "      <td>19</td>\n",
       "      <td>21</td>\n",
       "      <td>23</td>\n",
       "    </tr>\n",
       "    <tr>\n",
       "      <th>9</th>\n",
       "      <td>Mishti</td>\n",
       "      <td>1</td>\n",
       "      <td>15</td>\n",
       "      <td>22</td>\n",
       "      <td>25</td>\n",
       "      <td>22</td>\n",
       "      <td>22</td>\n",
       "    </tr>\n",
       "    <tr>\n",
       "      <th>10</th>\n",
       "      <td>Mishti</td>\n",
       "      <td>2</td>\n",
       "      <td>18</td>\n",
       "      <td>21</td>\n",
       "      <td>25</td>\n",
       "      <td>24</td>\n",
       "      <td>23</td>\n",
       "    </tr>\n",
       "    <tr>\n",
       "      <th>11</th>\n",
       "      <td>Mishti</td>\n",
       "      <td>3</td>\n",
       "      <td>17</td>\n",
       "      <td>18</td>\n",
       "      <td>20</td>\n",
       "      <td>25</td>\n",
       "      <td>20</td>\n",
       "    </tr>\n",
       "  </tbody>\n",
       "</table>\n",
       "</div>"
      ],
      "text/plain": [
       "        Name  UnitTest  DataMining  AI  Graphics  ImageProcessing  \\\n",
       "0       Suci         1          22  21        18               20   \n",
       "1       Suci         2          21  20        17               22   \n",
       "2       Suci         3          14  19        15               24   \n",
       "3   Srabanti         1          20  17        22               24   \n",
       "4   Srabanti         2          23  15        21               25   \n",
       "5   Srabanti         3          22  18        19               23   \n",
       "6    Ashravy         1          23  19        20               15   \n",
       "7    Ashravy         2          24  22        24               17   \n",
       "8    Ashravy         3          12  25        19               21   \n",
       "9     Mishti         1          15  22        25               22   \n",
       "10    Mishti         2          18  21        25               24   \n",
       "11    Mishti         3          17  18        20               25   \n",
       "\n",
       "    Cryptography  \n",
       "0             21  \n",
       "1             24  \n",
       "2             23  \n",
       "3             19  \n",
       "4             15  \n",
       "5             13  \n",
       "6             22  \n",
       "7             21  \n",
       "8             23  \n",
       "9             22  \n",
       "10            23  \n",
       "11            20  "
      ]
     },
     "execution_count": 55,
     "metadata": {},
     "output_type": "execute_result"
    }
   ],
   "source": [
    "data"
   ]
  },
  {
   "cell_type": "code",
   "execution_count": 57,
   "id": "e4ee80bc-34bb-4812-a98f-2931dc53eb10",
   "metadata": {},
   "outputs": [],
   "source": [
    "Suci=data[data['Name']=='Suci']\n",
    "SuciMarks =Suci.loc[:,'DataMining':'Cryptography']"
   ]
  },
  {
   "cell_type": "code",
   "execution_count": 58,
   "id": "6519ad94-6e91-4d97-88a0-465c3a00c48d",
   "metadata": {},
   "outputs": [
    {
     "data": {
      "text/html": [
       "<div>\n",
       "<style scoped>\n",
       "    .dataframe tbody tr th:only-of-type {\n",
       "        vertical-align: middle;\n",
       "    }\n",
       "\n",
       "    .dataframe tbody tr th {\n",
       "        vertical-align: top;\n",
       "    }\n",
       "\n",
       "    .dataframe thead th {\n",
       "        text-align: right;\n",
       "    }\n",
       "</style>\n",
       "<table border=\"1\" class=\"dataframe\">\n",
       "  <thead>\n",
       "    <tr style=\"text-align: right;\">\n",
       "      <th></th>\n",
       "      <th>DataMining</th>\n",
       "      <th>AI</th>\n",
       "      <th>Graphics</th>\n",
       "      <th>ImageProcessing</th>\n",
       "      <th>Cryptography</th>\n",
       "    </tr>\n",
       "  </thead>\n",
       "  <tbody>\n",
       "    <tr>\n",
       "      <th>0</th>\n",
       "      <td>22</td>\n",
       "      <td>21</td>\n",
       "      <td>18</td>\n",
       "      <td>20</td>\n",
       "      <td>21</td>\n",
       "    </tr>\n",
       "    <tr>\n",
       "      <th>1</th>\n",
       "      <td>21</td>\n",
       "      <td>20</td>\n",
       "      <td>17</td>\n",
       "      <td>22</td>\n",
       "      <td>24</td>\n",
       "    </tr>\n",
       "    <tr>\n",
       "      <th>2</th>\n",
       "      <td>14</td>\n",
       "      <td>19</td>\n",
       "      <td>15</td>\n",
       "      <td>24</td>\n",
       "      <td>23</td>\n",
       "    </tr>\n",
       "  </tbody>\n",
       "</table>\n",
       "</div>"
      ],
      "text/plain": [
       "   DataMining  AI  Graphics  ImageProcessing  Cryptography\n",
       "0          22  21        18               20            21\n",
       "1          21  20        17               22            24\n",
       "2          14  19        15               24            23"
      ]
     },
     "execution_count": 58,
     "metadata": {},
     "output_type": "execute_result"
    }
   ],
   "source": [
    "SuciMarks"
   ]
  },
  {
   "cell_type": "code",
   "execution_count": 60,
   "id": "ed3370e6-9060-46ba-838e-46147e9be88f",
   "metadata": {},
   "outputs": [],
   "source": [
    "Suci=data[data['Name']=='Suci']\n",
    "SuciMarks =Suci.iloc[:,2:]"
   ]
  },
  {
   "cell_type": "code",
   "execution_count": 61,
   "id": "9d26b376-6d90-426d-808e-6ee708e57ae3",
   "metadata": {},
   "outputs": [
    {
     "data": {
      "text/html": [
       "<div>\n",
       "<style scoped>\n",
       "    .dataframe tbody tr th:only-of-type {\n",
       "        vertical-align: middle;\n",
       "    }\n",
       "\n",
       "    .dataframe tbody tr th {\n",
       "        vertical-align: top;\n",
       "    }\n",
       "\n",
       "    .dataframe thead th {\n",
       "        text-align: right;\n",
       "    }\n",
       "</style>\n",
       "<table border=\"1\" class=\"dataframe\">\n",
       "  <thead>\n",
       "    <tr style=\"text-align: right;\">\n",
       "      <th></th>\n",
       "      <th>DataMining</th>\n",
       "      <th>AI</th>\n",
       "      <th>Graphics</th>\n",
       "      <th>ImageProcessing</th>\n",
       "      <th>Cryptography</th>\n",
       "    </tr>\n",
       "  </thead>\n",
       "  <tbody>\n",
       "    <tr>\n",
       "      <th>0</th>\n",
       "      <td>22</td>\n",
       "      <td>21</td>\n",
       "      <td>18</td>\n",
       "      <td>20</td>\n",
       "      <td>21</td>\n",
       "    </tr>\n",
       "    <tr>\n",
       "      <th>1</th>\n",
       "      <td>21</td>\n",
       "      <td>20</td>\n",
       "      <td>17</td>\n",
       "      <td>22</td>\n",
       "      <td>24</td>\n",
       "    </tr>\n",
       "    <tr>\n",
       "      <th>2</th>\n",
       "      <td>14</td>\n",
       "      <td>19</td>\n",
       "      <td>15</td>\n",
       "      <td>24</td>\n",
       "      <td>23</td>\n",
       "    </tr>\n",
       "  </tbody>\n",
       "</table>\n",
       "</div>"
      ],
      "text/plain": [
       "   DataMining  AI  Graphics  ImageProcessing  Cryptography\n",
       "0          22  21        18               20            21\n",
       "1          21  20        17               22            24\n",
       "2          14  19        15               24            23"
      ]
     },
     "execution_count": 61,
     "metadata": {},
     "output_type": "execute_result"
    }
   ],
   "source": [
    "SuciMarks"
   ]
  },
  {
   "cell_type": "code",
   "execution_count": 62,
   "id": "93ced41a-c289-4eca-8072-6a0f84994818",
   "metadata": {},
   "outputs": [
    {
     "data": {
      "text/plain": [
       "UnitTest            2.0\n",
       "DataMining         20.5\n",
       "AI                 19.5\n",
       "Graphics           20.0\n",
       "ImageProcessing    22.5\n",
       "Cryptography       21.5\n",
       "dtype: float64"
      ]
     },
     "execution_count": 62,
     "metadata": {},
     "output_type": "execute_result"
    }
   ],
   "source": [
    "data.median(numeric_only=True)"
   ]
  },
  {
   "cell_type": "code",
   "execution_count": 64,
   "id": "44acad1c-8492-4d99-8bbd-bee879b30b74",
   "metadata": {},
   "outputs": [
    {
     "data": {
      "text/plain": [
       "UnitTest            2.0\n",
       "DataMining         20.5\n",
       "AI                 19.5\n",
       "Graphics           20.0\n",
       "ImageProcessing    22.5\n",
       "Cryptography       21.5\n",
       "Name: 0.5, dtype: float64"
      ]
     },
     "execution_count": 64,
     "metadata": {},
     "output_type": "execute_result"
    }
   ],
   "source": [
    "data.quantile(numeric_only=True)"
   ]
  },
  {
   "cell_type": "code",
   "execution_count": 66,
   "id": "5dcc4fbb-acfa-42fc-a76f-099158116086",
   "metadata": {},
   "outputs": [
    {
     "data": {
      "text/plain": [
       "UnitTest            2.0\n",
       "DataMining         20.5\n",
       "AI                 19.5\n",
       "Graphics           20.0\n",
       "ImageProcessing    22.5\n",
       "Cryptography       21.5\n",
       "Name: 0.5, dtype: float64"
      ]
     },
     "execution_count": 66,
     "metadata": {},
     "output_type": "execute_result"
    }
   ],
   "source": [
    "data.quantile(numeric_only=True,q=.50)"
   ]
  },
  {
   "cell_type": "code",
   "execution_count": 69,
   "id": "2ab82620-0720-4be4-80a2-5a9934ed19e9",
   "metadata": {},
   "outputs": [
    {
     "data": {
      "text/plain": [
       "UnitTest            1.00\n",
       "DataMining         16.50\n",
       "AI                 18.00\n",
       "Graphics           18.75\n",
       "ImageProcessing    20.75\n",
       "Cryptography       19.75\n",
       "Name: 0.25, dtype: float64"
      ]
     },
     "execution_count": 69,
     "metadata": {},
     "output_type": "execute_result"
    }
   ],
   "source": [
    "q1=data.quantile(numeric_only=True,q=0.25)\n",
    "q1\n"
   ]
  },
  {
   "cell_type": "code",
   "execution_count": 70,
   "id": "4a1d9827-5c7e-44a6-8d72-581b4a9e8799",
   "metadata": {},
   "outputs": [
    {
     "data": {
      "text/plain": [
       "UnitTest            3.00\n",
       "DataMining         22.25\n",
       "AI                 21.25\n",
       "Graphics           22.50\n",
       "ImageProcessing    24.00\n",
       "Cryptography       23.00\n",
       "Name: 0.75, dtype: float64"
      ]
     },
     "execution_count": 70,
     "metadata": {},
     "output_type": "execute_result"
    }
   ],
   "source": [
    "q3=data.quantile(numeric_only=True,q=0.75)\n",
    "q3"
   ]
  },
  {
   "cell_type": "code",
   "execution_count": 71,
   "id": "e52696a1-3340-4149-9a0b-c8b6d4b98c6c",
   "metadata": {},
   "outputs": [],
   "source": [
    "IQR = q3-q1"
   ]
  },
  {
   "cell_type": "code",
   "execution_count": 72,
   "id": "daf8facf-8500-436c-bd65-11ad87a7d9e4",
   "metadata": {},
   "outputs": [
    {
     "data": {
      "text/plain": [
       "UnitTest           2.00\n",
       "DataMining         5.75\n",
       "AI                 3.25\n",
       "Graphics           3.75\n",
       "ImageProcessing    3.25\n",
       "Cryptography       3.25\n",
       "dtype: float64"
      ]
     },
     "execution_count": 72,
     "metadata": {},
     "output_type": "execute_result"
    }
   ],
   "source": [
    "IQR"
   ]
  },
  {
   "cell_type": "code",
   "execution_count": 74,
   "id": "91ff843b-f80d-49cd-be91-610f16e02133",
   "metadata": {},
   "outputs": [],
   "source": [
    "Subjects=data.iloc[:,2:]"
   ]
  },
  {
   "cell_type": "code",
   "execution_count": 75,
   "id": "e6ab13ac-f699-400c-9a30-8b83dd795507",
   "metadata": {},
   "outputs": [
    {
     "data": {
      "text/html": [
       "<div>\n",
       "<style scoped>\n",
       "    .dataframe tbody tr th:only-of-type {\n",
       "        vertical-align: middle;\n",
       "    }\n",
       "\n",
       "    .dataframe tbody tr th {\n",
       "        vertical-align: top;\n",
       "    }\n",
       "\n",
       "    .dataframe thead th {\n",
       "        text-align: right;\n",
       "    }\n",
       "</style>\n",
       "<table border=\"1\" class=\"dataframe\">\n",
       "  <thead>\n",
       "    <tr style=\"text-align: right;\">\n",
       "      <th></th>\n",
       "      <th>DataMining</th>\n",
       "      <th>AI</th>\n",
       "      <th>Graphics</th>\n",
       "      <th>ImageProcessing</th>\n",
       "      <th>Cryptography</th>\n",
       "    </tr>\n",
       "  </thead>\n",
       "  <tbody>\n",
       "    <tr>\n",
       "      <th>0</th>\n",
       "      <td>22</td>\n",
       "      <td>21</td>\n",
       "      <td>18</td>\n",
       "      <td>20</td>\n",
       "      <td>21</td>\n",
       "    </tr>\n",
       "    <tr>\n",
       "      <th>1</th>\n",
       "      <td>21</td>\n",
       "      <td>20</td>\n",
       "      <td>17</td>\n",
       "      <td>22</td>\n",
       "      <td>24</td>\n",
       "    </tr>\n",
       "    <tr>\n",
       "      <th>2</th>\n",
       "      <td>14</td>\n",
       "      <td>19</td>\n",
       "      <td>15</td>\n",
       "      <td>24</td>\n",
       "      <td>23</td>\n",
       "    </tr>\n",
       "    <tr>\n",
       "      <th>3</th>\n",
       "      <td>20</td>\n",
       "      <td>17</td>\n",
       "      <td>22</td>\n",
       "      <td>24</td>\n",
       "      <td>19</td>\n",
       "    </tr>\n",
       "    <tr>\n",
       "      <th>4</th>\n",
       "      <td>23</td>\n",
       "      <td>15</td>\n",
       "      <td>21</td>\n",
       "      <td>25</td>\n",
       "      <td>15</td>\n",
       "    </tr>\n",
       "    <tr>\n",
       "      <th>5</th>\n",
       "      <td>22</td>\n",
       "      <td>18</td>\n",
       "      <td>19</td>\n",
       "      <td>23</td>\n",
       "      <td>13</td>\n",
       "    </tr>\n",
       "    <tr>\n",
       "      <th>6</th>\n",
       "      <td>23</td>\n",
       "      <td>19</td>\n",
       "      <td>20</td>\n",
       "      <td>15</td>\n",
       "      <td>22</td>\n",
       "    </tr>\n",
       "    <tr>\n",
       "      <th>7</th>\n",
       "      <td>24</td>\n",
       "      <td>22</td>\n",
       "      <td>24</td>\n",
       "      <td>17</td>\n",
       "      <td>21</td>\n",
       "    </tr>\n",
       "    <tr>\n",
       "      <th>8</th>\n",
       "      <td>12</td>\n",
       "      <td>25</td>\n",
       "      <td>19</td>\n",
       "      <td>21</td>\n",
       "      <td>23</td>\n",
       "    </tr>\n",
       "    <tr>\n",
       "      <th>9</th>\n",
       "      <td>15</td>\n",
       "      <td>22</td>\n",
       "      <td>25</td>\n",
       "      <td>22</td>\n",
       "      <td>22</td>\n",
       "    </tr>\n",
       "    <tr>\n",
       "      <th>10</th>\n",
       "      <td>18</td>\n",
       "      <td>21</td>\n",
       "      <td>25</td>\n",
       "      <td>24</td>\n",
       "      <td>23</td>\n",
       "    </tr>\n",
       "    <tr>\n",
       "      <th>11</th>\n",
       "      <td>17</td>\n",
       "      <td>18</td>\n",
       "      <td>20</td>\n",
       "      <td>25</td>\n",
       "      <td>20</td>\n",
       "    </tr>\n",
       "  </tbody>\n",
       "</table>\n",
       "</div>"
      ],
      "text/plain": [
       "    DataMining  AI  Graphics  ImageProcessing  Cryptography\n",
       "0           22  21        18               20            21\n",
       "1           21  20        17               22            24\n",
       "2           14  19        15               24            23\n",
       "3           20  17        22               24            19\n",
       "4           23  15        21               25            15\n",
       "5           22  18        19               23            13\n",
       "6           23  19        20               15            22\n",
       "7           24  22        24               17            21\n",
       "8           12  25        19               21            23\n",
       "9           15  22        25               22            22\n",
       "10          18  21        25               24            23\n",
       "11          17  18        20               25            20"
      ]
     },
     "execution_count": 75,
     "metadata": {},
     "output_type": "execute_result"
    }
   ],
   "source": [
    "Subjects"
   ]
  },
  {
   "cell_type": "code",
   "execution_count": 78,
   "id": "ff7edf8c-bdff-44cb-afd7-27e32d7c99d3",
   "metadata": {},
   "outputs": [
    {
     "data": {
      "text/html": [
       "<div>\n",
       "<style scoped>\n",
       "    .dataframe tbody tr th:only-of-type {\n",
       "        vertical-align: middle;\n",
       "    }\n",
       "\n",
       "    .dataframe tbody tr th {\n",
       "        vertical-align: top;\n",
       "    }\n",
       "\n",
       "    .dataframe thead th {\n",
       "        text-align: right;\n",
       "    }\n",
       "</style>\n",
       "<table border=\"1\" class=\"dataframe\">\n",
       "  <thead>\n",
       "    <tr style=\"text-align: right;\">\n",
       "      <th></th>\n",
       "      <th>DataMining</th>\n",
       "      <th>AI</th>\n",
       "      <th>Graphics</th>\n",
       "      <th>ImageProcessing</th>\n",
       "      <th>Cryptography</th>\n",
       "    </tr>\n",
       "  </thead>\n",
       "  <tbody>\n",
       "    <tr>\n",
       "      <th>0.25</th>\n",
       "      <td>16.50</td>\n",
       "      <td>18.00</td>\n",
       "      <td>18.75</td>\n",
       "      <td>20.75</td>\n",
       "      <td>19.75</td>\n",
       "    </tr>\n",
       "    <tr>\n",
       "      <th>0.75</th>\n",
       "      <td>22.25</td>\n",
       "      <td>21.25</td>\n",
       "      <td>22.50</td>\n",
       "      <td>24.00</td>\n",
       "      <td>23.00</td>\n",
       "    </tr>\n",
       "  </tbody>\n",
       "</table>\n",
       "</div>"
      ],
      "text/plain": [
       "      DataMining     AI  Graphics  ImageProcessing  Cryptography\n",
       "0.25       16.50  18.00     18.75            20.75         19.75\n",
       "0.75       22.25  21.25     22.50            24.00         23.00"
      ]
     },
     "execution_count": 78,
     "metadata": {},
     "output_type": "execute_result"
    }
   ],
   "source": [
    "Subjects.quantile([0.25, 0.75])"
   ]
  },
  {
   "cell_type": "code",
   "execution_count": 79,
   "id": "84a0b318-5876-4a19-b919-8937740267aa",
   "metadata": {},
   "outputs": [
    {
     "data": {
      "text/plain": [
       "DataMining         15.840909\n",
       "AI                  7.113636\n",
       "Graphics            9.901515\n",
       "ImageProcessing     9.969697\n",
       "Cryptography       11.363636\n",
       "dtype: float64"
      ]
     },
     "execution_count": 79,
     "metadata": {},
     "output_type": "execute_result"
    }
   ],
   "source": [
    "Subjects.var()"
   ]
  },
  {
   "cell_type": "code",
   "execution_count": 80,
   "id": "1acf329f-9c3e-47f9-b999-bd0ef9fd7953",
   "metadata": {},
   "outputs": [
    {
     "data": {
      "text/plain": [
       "DataMining         3.980064\n",
       "AI                 2.667140\n",
       "Graphics           3.146667\n",
       "ImageProcessing    3.157483\n",
       "Cryptography       3.370999\n",
       "dtype: float64"
      ]
     },
     "execution_count": 80,
     "metadata": {},
     "output_type": "execute_result"
    }
   ],
   "source": [
    "Subjects.std()"
   ]
  },
  {
   "cell_type": "code",
   "execution_count": 81,
   "id": "0b4f2b7b-d05e-4086-b820-285aa77ca068",
   "metadata": {},
   "outputs": [
    {
     "data": {
      "text/html": [
       "<div>\n",
       "<style scoped>\n",
       "    .dataframe tbody tr th:only-of-type {\n",
       "        vertical-align: middle;\n",
       "    }\n",
       "\n",
       "    .dataframe tbody tr th {\n",
       "        vertical-align: top;\n",
       "    }\n",
       "\n",
       "    .dataframe thead th {\n",
       "        text-align: right;\n",
       "    }\n",
       "</style>\n",
       "<table border=\"1\" class=\"dataframe\">\n",
       "  <thead>\n",
       "    <tr style=\"text-align: right;\">\n",
       "      <th></th>\n",
       "      <th>UnitTest</th>\n",
       "      <th>DataMining</th>\n",
       "      <th>AI</th>\n",
       "      <th>Graphics</th>\n",
       "      <th>ImageProcessing</th>\n",
       "      <th>Cryptography</th>\n",
       "    </tr>\n",
       "  </thead>\n",
       "  <tbody>\n",
       "    <tr>\n",
       "      <th>count</th>\n",
       "      <td>12.000000</td>\n",
       "      <td>12.000000</td>\n",
       "      <td>12.00000</td>\n",
       "      <td>12.000000</td>\n",
       "      <td>12.000000</td>\n",
       "      <td>12.000000</td>\n",
       "    </tr>\n",
       "    <tr>\n",
       "      <th>mean</th>\n",
       "      <td>2.000000</td>\n",
       "      <td>19.250000</td>\n",
       "      <td>19.75000</td>\n",
       "      <td>20.416667</td>\n",
       "      <td>21.833333</td>\n",
       "      <td>20.500000</td>\n",
       "    </tr>\n",
       "    <tr>\n",
       "      <th>std</th>\n",
       "      <td>0.852803</td>\n",
       "      <td>3.980064</td>\n",
       "      <td>2.66714</td>\n",
       "      <td>3.146667</td>\n",
       "      <td>3.157483</td>\n",
       "      <td>3.370999</td>\n",
       "    </tr>\n",
       "    <tr>\n",
       "      <th>min</th>\n",
       "      <td>1.000000</td>\n",
       "      <td>12.000000</td>\n",
       "      <td>15.00000</td>\n",
       "      <td>15.000000</td>\n",
       "      <td>15.000000</td>\n",
       "      <td>13.000000</td>\n",
       "    </tr>\n",
       "    <tr>\n",
       "      <th>25%</th>\n",
       "      <td>1.000000</td>\n",
       "      <td>16.500000</td>\n",
       "      <td>18.00000</td>\n",
       "      <td>18.750000</td>\n",
       "      <td>20.750000</td>\n",
       "      <td>19.750000</td>\n",
       "    </tr>\n",
       "    <tr>\n",
       "      <th>50%</th>\n",
       "      <td>2.000000</td>\n",
       "      <td>20.500000</td>\n",
       "      <td>19.50000</td>\n",
       "      <td>20.000000</td>\n",
       "      <td>22.500000</td>\n",
       "      <td>21.500000</td>\n",
       "    </tr>\n",
       "    <tr>\n",
       "      <th>75%</th>\n",
       "      <td>3.000000</td>\n",
       "      <td>22.250000</td>\n",
       "      <td>21.25000</td>\n",
       "      <td>22.500000</td>\n",
       "      <td>24.000000</td>\n",
       "      <td>23.000000</td>\n",
       "    </tr>\n",
       "    <tr>\n",
       "      <th>max</th>\n",
       "      <td>3.000000</td>\n",
       "      <td>24.000000</td>\n",
       "      <td>25.00000</td>\n",
       "      <td>25.000000</td>\n",
       "      <td>25.000000</td>\n",
       "      <td>24.000000</td>\n",
       "    </tr>\n",
       "  </tbody>\n",
       "</table>\n",
       "</div>"
      ],
      "text/plain": [
       "        UnitTest  DataMining        AI   Graphics  ImageProcessing  \\\n",
       "count  12.000000   12.000000  12.00000  12.000000        12.000000   \n",
       "mean    2.000000   19.250000  19.75000  20.416667        21.833333   \n",
       "std     0.852803    3.980064   2.66714   3.146667         3.157483   \n",
       "min     1.000000   12.000000  15.00000  15.000000        15.000000   \n",
       "25%     1.000000   16.500000  18.00000  18.750000        20.750000   \n",
       "50%     2.000000   20.500000  19.50000  20.000000        22.500000   \n",
       "75%     3.000000   22.250000  21.25000  22.500000        24.000000   \n",
       "max     3.000000   24.000000  25.00000  25.000000        25.000000   \n",
       "\n",
       "       Cryptography  \n",
       "count     12.000000  \n",
       "mean      20.500000  \n",
       "std        3.370999  \n",
       "min       13.000000  \n",
       "25%       19.750000  \n",
       "50%       21.500000  \n",
       "75%       23.000000  \n",
       "max       24.000000  "
      ]
     },
     "execution_count": 81,
     "metadata": {},
     "output_type": "execute_result"
    }
   ],
   "source": [
    "data.describe()"
   ]
  },
  {
   "cell_type": "code",
   "execution_count": 82,
   "id": "6a3df56e-92d4-4e61-911a-f7a4ed4d4841",
   "metadata": {},
   "outputs": [
    {
     "data": {
      "text/html": [
       "<div>\n",
       "<style scoped>\n",
       "    .dataframe tbody tr th:only-of-type {\n",
       "        vertical-align: middle;\n",
       "    }\n",
       "\n",
       "    .dataframe tbody tr th {\n",
       "        vertical-align: top;\n",
       "    }\n",
       "\n",
       "    .dataframe thead th {\n",
       "        text-align: right;\n",
       "    }\n",
       "</style>\n",
       "<table border=\"1\" class=\"dataframe\">\n",
       "  <thead>\n",
       "    <tr style=\"text-align: right;\">\n",
       "      <th></th>\n",
       "      <th>count</th>\n",
       "      <th>mean</th>\n",
       "      <th>std</th>\n",
       "      <th>min</th>\n",
       "      <th>25%</th>\n",
       "      <th>50%</th>\n",
       "      <th>75%</th>\n",
       "      <th>max</th>\n",
       "    </tr>\n",
       "  </thead>\n",
       "  <tbody>\n",
       "    <tr>\n",
       "      <th>UnitTest</th>\n",
       "      <td>12.0</td>\n",
       "      <td>2.000000</td>\n",
       "      <td>0.852803</td>\n",
       "      <td>1.0</td>\n",
       "      <td>1.00</td>\n",
       "      <td>2.0</td>\n",
       "      <td>3.00</td>\n",
       "      <td>3.0</td>\n",
       "    </tr>\n",
       "    <tr>\n",
       "      <th>DataMining</th>\n",
       "      <td>12.0</td>\n",
       "      <td>19.250000</td>\n",
       "      <td>3.980064</td>\n",
       "      <td>12.0</td>\n",
       "      <td>16.50</td>\n",
       "      <td>20.5</td>\n",
       "      <td>22.25</td>\n",
       "      <td>24.0</td>\n",
       "    </tr>\n",
       "    <tr>\n",
       "      <th>AI</th>\n",
       "      <td>12.0</td>\n",
       "      <td>19.750000</td>\n",
       "      <td>2.667140</td>\n",
       "      <td>15.0</td>\n",
       "      <td>18.00</td>\n",
       "      <td>19.5</td>\n",
       "      <td>21.25</td>\n",
       "      <td>25.0</td>\n",
       "    </tr>\n",
       "    <tr>\n",
       "      <th>Graphics</th>\n",
       "      <td>12.0</td>\n",
       "      <td>20.416667</td>\n",
       "      <td>3.146667</td>\n",
       "      <td>15.0</td>\n",
       "      <td>18.75</td>\n",
       "      <td>20.0</td>\n",
       "      <td>22.50</td>\n",
       "      <td>25.0</td>\n",
       "    </tr>\n",
       "    <tr>\n",
       "      <th>ImageProcessing</th>\n",
       "      <td>12.0</td>\n",
       "      <td>21.833333</td>\n",
       "      <td>3.157483</td>\n",
       "      <td>15.0</td>\n",
       "      <td>20.75</td>\n",
       "      <td>22.5</td>\n",
       "      <td>24.00</td>\n",
       "      <td>25.0</td>\n",
       "    </tr>\n",
       "    <tr>\n",
       "      <th>Cryptography</th>\n",
       "      <td>12.0</td>\n",
       "      <td>20.500000</td>\n",
       "      <td>3.370999</td>\n",
       "      <td>13.0</td>\n",
       "      <td>19.75</td>\n",
       "      <td>21.5</td>\n",
       "      <td>23.00</td>\n",
       "      <td>24.0</td>\n",
       "    </tr>\n",
       "  </tbody>\n",
       "</table>\n",
       "</div>"
      ],
      "text/plain": [
       "                 count       mean       std   min    25%   50%    75%   max\n",
       "UnitTest          12.0   2.000000  0.852803   1.0   1.00   2.0   3.00   3.0\n",
       "DataMining        12.0  19.250000  3.980064  12.0  16.50  20.5  22.25  24.0\n",
       "AI                12.0  19.750000  2.667140  15.0  18.00  19.5  21.25  25.0\n",
       "Graphics          12.0  20.416667  3.146667  15.0  18.75  20.0  22.50  25.0\n",
       "ImageProcessing   12.0  21.833333  3.157483  15.0  20.75  22.5  24.00  25.0\n",
       "Cryptography      12.0  20.500000  3.370999  13.0  19.75  21.5  23.00  24.0"
      ]
     },
     "execution_count": 82,
     "metadata": {},
     "output_type": "execute_result"
    }
   ],
   "source": [
    "data.describe().T"
   ]
  },
  {
   "cell_type": "markdown",
   "id": "b1db6d18-f38d-4fca-8b67-017d077016b9",
   "metadata": {},
   "source": [
    "# Aggregate method"
   ]
  },
  {
   "cell_type": "markdown",
   "id": "cc332a53-8f44-4fa1-bbf9-e38bcffb5234",
   "metadata": {},
   "source": [
    "**The aggregate() method allows us to apply a function or list of functions names to be executed along one of the axis of dataframe ,default 0**"
   ]
  },
  {
   "cell_type": "code",
   "execution_count": 87,
   "id": "7733367d-8013-4218-a889-e3a825ea82c1",
   "metadata": {},
   "outputs": [
    {
     "data": {
      "text/plain": [
       "min    15\n",
       "max    25\n",
       "Name: Graphics, dtype: int64"
      ]
     },
     "execution_count": 87,
     "metadata": {},
     "output_type": "execute_result"
    }
   ],
   "source": [
    "data.Graphics.aggregate(['min','max'],numeric_only=True)"
   ]
  },
  {
   "cell_type": "code",
   "execution_count": 88,
   "id": "dc9728f7-3159-4b9b-b9d5-c124f4a2ab9a",
   "metadata": {},
   "outputs": [
    {
     "data": {
      "text/html": [
       "<div>\n",
       "<style scoped>\n",
       "    .dataframe tbody tr th:only-of-type {\n",
       "        vertical-align: middle;\n",
       "    }\n",
       "\n",
       "    .dataframe tbody tr th {\n",
       "        vertical-align: top;\n",
       "    }\n",
       "\n",
       "    .dataframe thead th {\n",
       "        text-align: right;\n",
       "    }\n",
       "</style>\n",
       "<table border=\"1\" class=\"dataframe\">\n",
       "  <thead>\n",
       "    <tr style=\"text-align: right;\">\n",
       "      <th></th>\n",
       "      <th>DataMining</th>\n",
       "      <th>Graphics</th>\n",
       "    </tr>\n",
       "  </thead>\n",
       "  <tbody>\n",
       "    <tr>\n",
       "      <th>min</th>\n",
       "      <td>12</td>\n",
       "      <td>15</td>\n",
       "    </tr>\n",
       "    <tr>\n",
       "      <th>max</th>\n",
       "      <td>24</td>\n",
       "      <td>25</td>\n",
       "    </tr>\n",
       "  </tbody>\n",
       "</table>\n",
       "</div>"
      ],
      "text/plain": [
       "     DataMining  Graphics\n",
       "min          12        15\n",
       "max          24        25"
      ]
     },
     "execution_count": 88,
     "metadata": {},
     "output_type": "execute_result"
    }
   ],
   "source": [
    "data[['DataMining','Graphics']].aggregate(['min','max'])"
   ]
  },
  {
   "cell_type": "code",
   "execution_count": 89,
   "id": "84ee4872-5df5-4dd7-9af0-157e03cb05d0",
   "metadata": {},
   "outputs": [
    {
     "data": {
      "text/html": [
       "<div>\n",
       "<style scoped>\n",
       "    .dataframe tbody tr th:only-of-type {\n",
       "        vertical-align: middle;\n",
       "    }\n",
       "\n",
       "    .dataframe tbody tr th {\n",
       "        vertical-align: top;\n",
       "    }\n",
       "\n",
       "    .dataframe thead th {\n",
       "        text-align: right;\n",
       "    }\n",
       "</style>\n",
       "<table border=\"1\" class=\"dataframe\">\n",
       "  <thead>\n",
       "    <tr style=\"text-align: right;\">\n",
       "      <th></th>\n",
       "      <th>Name</th>\n",
       "      <th>UnitTest</th>\n",
       "      <th>DataMining</th>\n",
       "      <th>AI</th>\n",
       "      <th>Graphics</th>\n",
       "      <th>ImageProcessing</th>\n",
       "      <th>Cryptography</th>\n",
       "    </tr>\n",
       "  </thead>\n",
       "  <tbody>\n",
       "    <tr>\n",
       "      <th>8</th>\n",
       "      <td>Ashravy</td>\n",
       "      <td>3</td>\n",
       "      <td>12</td>\n",
       "      <td>25</td>\n",
       "      <td>19</td>\n",
       "      <td>21</td>\n",
       "      <td>23</td>\n",
       "    </tr>\n",
       "    <tr>\n",
       "      <th>2</th>\n",
       "      <td>Suci</td>\n",
       "      <td>3</td>\n",
       "      <td>14</td>\n",
       "      <td>19</td>\n",
       "      <td>15</td>\n",
       "      <td>24</td>\n",
       "      <td>23</td>\n",
       "    </tr>\n",
       "    <tr>\n",
       "      <th>9</th>\n",
       "      <td>Mishti</td>\n",
       "      <td>1</td>\n",
       "      <td>15</td>\n",
       "      <td>22</td>\n",
       "      <td>25</td>\n",
       "      <td>22</td>\n",
       "      <td>22</td>\n",
       "    </tr>\n",
       "    <tr>\n",
       "      <th>11</th>\n",
       "      <td>Mishti</td>\n",
       "      <td>3</td>\n",
       "      <td>17</td>\n",
       "      <td>18</td>\n",
       "      <td>20</td>\n",
       "      <td>25</td>\n",
       "      <td>20</td>\n",
       "    </tr>\n",
       "    <tr>\n",
       "      <th>10</th>\n",
       "      <td>Mishti</td>\n",
       "      <td>2</td>\n",
       "      <td>18</td>\n",
       "      <td>21</td>\n",
       "      <td>25</td>\n",
       "      <td>24</td>\n",
       "      <td>23</td>\n",
       "    </tr>\n",
       "    <tr>\n",
       "      <th>3</th>\n",
       "      <td>Srabanti</td>\n",
       "      <td>1</td>\n",
       "      <td>20</td>\n",
       "      <td>17</td>\n",
       "      <td>22</td>\n",
       "      <td>24</td>\n",
       "      <td>19</td>\n",
       "    </tr>\n",
       "    <tr>\n",
       "      <th>1</th>\n",
       "      <td>Suci</td>\n",
       "      <td>2</td>\n",
       "      <td>21</td>\n",
       "      <td>20</td>\n",
       "      <td>17</td>\n",
       "      <td>22</td>\n",
       "      <td>24</td>\n",
       "    </tr>\n",
       "    <tr>\n",
       "      <th>0</th>\n",
       "      <td>Suci</td>\n",
       "      <td>1</td>\n",
       "      <td>22</td>\n",
       "      <td>21</td>\n",
       "      <td>18</td>\n",
       "      <td>20</td>\n",
       "      <td>21</td>\n",
       "    </tr>\n",
       "    <tr>\n",
       "      <th>5</th>\n",
       "      <td>Srabanti</td>\n",
       "      <td>3</td>\n",
       "      <td>22</td>\n",
       "      <td>18</td>\n",
       "      <td>19</td>\n",
       "      <td>23</td>\n",
       "      <td>13</td>\n",
       "    </tr>\n",
       "    <tr>\n",
       "      <th>4</th>\n",
       "      <td>Srabanti</td>\n",
       "      <td>2</td>\n",
       "      <td>23</td>\n",
       "      <td>15</td>\n",
       "      <td>21</td>\n",
       "      <td>25</td>\n",
       "      <td>15</td>\n",
       "    </tr>\n",
       "    <tr>\n",
       "      <th>6</th>\n",
       "      <td>Ashravy</td>\n",
       "      <td>1</td>\n",
       "      <td>23</td>\n",
       "      <td>19</td>\n",
       "      <td>20</td>\n",
       "      <td>15</td>\n",
       "      <td>22</td>\n",
       "    </tr>\n",
       "    <tr>\n",
       "      <th>7</th>\n",
       "      <td>Ashravy</td>\n",
       "      <td>2</td>\n",
       "      <td>24</td>\n",
       "      <td>22</td>\n",
       "      <td>24</td>\n",
       "      <td>17</td>\n",
       "      <td>21</td>\n",
       "    </tr>\n",
       "  </tbody>\n",
       "</table>\n",
       "</div>"
      ],
      "text/plain": [
       "        Name  UnitTest  DataMining  AI  Graphics  ImageProcessing  \\\n",
       "8    Ashravy         3          12  25        19               21   \n",
       "2       Suci         3          14  19        15               24   \n",
       "9     Mishti         1          15  22        25               22   \n",
       "11    Mishti         3          17  18        20               25   \n",
       "10    Mishti         2          18  21        25               24   \n",
       "3   Srabanti         1          20  17        22               24   \n",
       "1       Suci         2          21  20        17               22   \n",
       "0       Suci         1          22  21        18               20   \n",
       "5   Srabanti         3          22  18        19               23   \n",
       "4   Srabanti         2          23  15        21               25   \n",
       "6    Ashravy         1          23  19        20               15   \n",
       "7    Ashravy         2          24  22        24               17   \n",
       "\n",
       "    Cryptography  \n",
       "8             23  \n",
       "2             23  \n",
       "9             22  \n",
       "11            20  \n",
       "10            23  \n",
       "3             19  \n",
       "1             24  \n",
       "0             21  \n",
       "5             13  \n",
       "4             15  \n",
       "6             22  \n",
       "7             21  "
      ]
     },
     "execution_count": 89,
     "metadata": {},
     "output_type": "execute_result"
    }
   ],
   "source": [
    "data.sort_values(by='DataMining')"
   ]
  },
  {
   "cell_type": "code",
   "execution_count": 90,
   "id": "750ad7c4-654c-446c-9a0a-8a3b6b3f441b",
   "metadata": {},
   "outputs": [
    {
     "data": {
      "text/html": [
       "<div>\n",
       "<style scoped>\n",
       "    .dataframe tbody tr th:only-of-type {\n",
       "        vertical-align: middle;\n",
       "    }\n",
       "\n",
       "    .dataframe tbody tr th {\n",
       "        vertical-align: top;\n",
       "    }\n",
       "\n",
       "    .dataframe thead th {\n",
       "        text-align: right;\n",
       "    }\n",
       "</style>\n",
       "<table border=\"1\" class=\"dataframe\">\n",
       "  <thead>\n",
       "    <tr style=\"text-align: right;\">\n",
       "      <th></th>\n",
       "      <th>Name</th>\n",
       "      <th>UnitTest</th>\n",
       "      <th>DataMining</th>\n",
       "      <th>AI</th>\n",
       "      <th>Graphics</th>\n",
       "      <th>ImageProcessing</th>\n",
       "      <th>Cryptography</th>\n",
       "    </tr>\n",
       "  </thead>\n",
       "  <tbody>\n",
       "    <tr>\n",
       "      <th>7</th>\n",
       "      <td>Ashravy</td>\n",
       "      <td>2</td>\n",
       "      <td>24</td>\n",
       "      <td>22</td>\n",
       "      <td>24</td>\n",
       "      <td>17</td>\n",
       "      <td>21</td>\n",
       "    </tr>\n",
       "    <tr>\n",
       "      <th>4</th>\n",
       "      <td>Srabanti</td>\n",
       "      <td>2</td>\n",
       "      <td>23</td>\n",
       "      <td>15</td>\n",
       "      <td>21</td>\n",
       "      <td>25</td>\n",
       "      <td>15</td>\n",
       "    </tr>\n",
       "    <tr>\n",
       "      <th>6</th>\n",
       "      <td>Ashravy</td>\n",
       "      <td>1</td>\n",
       "      <td>23</td>\n",
       "      <td>19</td>\n",
       "      <td>20</td>\n",
       "      <td>15</td>\n",
       "      <td>22</td>\n",
       "    </tr>\n",
       "    <tr>\n",
       "      <th>0</th>\n",
       "      <td>Suci</td>\n",
       "      <td>1</td>\n",
       "      <td>22</td>\n",
       "      <td>21</td>\n",
       "      <td>18</td>\n",
       "      <td>20</td>\n",
       "      <td>21</td>\n",
       "    </tr>\n",
       "    <tr>\n",
       "      <th>5</th>\n",
       "      <td>Srabanti</td>\n",
       "      <td>3</td>\n",
       "      <td>22</td>\n",
       "      <td>18</td>\n",
       "      <td>19</td>\n",
       "      <td>23</td>\n",
       "      <td>13</td>\n",
       "    </tr>\n",
       "    <tr>\n",
       "      <th>1</th>\n",
       "      <td>Suci</td>\n",
       "      <td>2</td>\n",
       "      <td>21</td>\n",
       "      <td>20</td>\n",
       "      <td>17</td>\n",
       "      <td>22</td>\n",
       "      <td>24</td>\n",
       "    </tr>\n",
       "    <tr>\n",
       "      <th>3</th>\n",
       "      <td>Srabanti</td>\n",
       "      <td>1</td>\n",
       "      <td>20</td>\n",
       "      <td>17</td>\n",
       "      <td>22</td>\n",
       "      <td>24</td>\n",
       "      <td>19</td>\n",
       "    </tr>\n",
       "    <tr>\n",
       "      <th>10</th>\n",
       "      <td>Mishti</td>\n",
       "      <td>2</td>\n",
       "      <td>18</td>\n",
       "      <td>21</td>\n",
       "      <td>25</td>\n",
       "      <td>24</td>\n",
       "      <td>23</td>\n",
       "    </tr>\n",
       "    <tr>\n",
       "      <th>11</th>\n",
       "      <td>Mishti</td>\n",
       "      <td>3</td>\n",
       "      <td>17</td>\n",
       "      <td>18</td>\n",
       "      <td>20</td>\n",
       "      <td>25</td>\n",
       "      <td>20</td>\n",
       "    </tr>\n",
       "    <tr>\n",
       "      <th>9</th>\n",
       "      <td>Mishti</td>\n",
       "      <td>1</td>\n",
       "      <td>15</td>\n",
       "      <td>22</td>\n",
       "      <td>25</td>\n",
       "      <td>22</td>\n",
       "      <td>22</td>\n",
       "    </tr>\n",
       "    <tr>\n",
       "      <th>2</th>\n",
       "      <td>Suci</td>\n",
       "      <td>3</td>\n",
       "      <td>14</td>\n",
       "      <td>19</td>\n",
       "      <td>15</td>\n",
       "      <td>24</td>\n",
       "      <td>23</td>\n",
       "    </tr>\n",
       "    <tr>\n",
       "      <th>8</th>\n",
       "      <td>Ashravy</td>\n",
       "      <td>3</td>\n",
       "      <td>12</td>\n",
       "      <td>25</td>\n",
       "      <td>19</td>\n",
       "      <td>21</td>\n",
       "      <td>23</td>\n",
       "    </tr>\n",
       "  </tbody>\n",
       "</table>\n",
       "</div>"
      ],
      "text/plain": [
       "        Name  UnitTest  DataMining  AI  Graphics  ImageProcessing  \\\n",
       "7    Ashravy         2          24  22        24               17   \n",
       "4   Srabanti         2          23  15        21               25   \n",
       "6    Ashravy         1          23  19        20               15   \n",
       "0       Suci         1          22  21        18               20   \n",
       "5   Srabanti         3          22  18        19               23   \n",
       "1       Suci         2          21  20        17               22   \n",
       "3   Srabanti         1          20  17        22               24   \n",
       "10    Mishti         2          18  21        25               24   \n",
       "11    Mishti         3          17  18        20               25   \n",
       "9     Mishti         1          15  22        25               22   \n",
       "2       Suci         3          14  19        15               24   \n",
       "8    Ashravy         3          12  25        19               21   \n",
       "\n",
       "    Cryptography  \n",
       "7             21  \n",
       "4             15  \n",
       "6             22  \n",
       "0             21  \n",
       "5             13  \n",
       "1             24  \n",
       "3             19  \n",
       "10            23  \n",
       "11            20  \n",
       "9             22  \n",
       "2             23  \n",
       "8             23  "
      ]
     },
     "execution_count": 90,
     "metadata": {},
     "output_type": "execute_result"
    }
   ],
   "source": [
    "data.sort_values(by='DataMining',ascending=False)"
   ]
  },
  {
   "cell_type": "code",
   "execution_count": 91,
   "id": "c8014f78-214c-46d3-9ea5-89b35601497f",
   "metadata": {},
   "outputs": [
    {
     "data": {
      "text/html": [
       "<div>\n",
       "<style scoped>\n",
       "    .dataframe tbody tr th:only-of-type {\n",
       "        vertical-align: middle;\n",
       "    }\n",
       "\n",
       "    .dataframe tbody tr th {\n",
       "        vertical-align: top;\n",
       "    }\n",
       "\n",
       "    .dataframe thead th {\n",
       "        text-align: right;\n",
       "    }\n",
       "</style>\n",
       "<table border=\"1\" class=\"dataframe\">\n",
       "  <thead>\n",
       "    <tr style=\"text-align: right;\">\n",
       "      <th></th>\n",
       "      <th>Name</th>\n",
       "      <th>UnitTest</th>\n",
       "      <th>DataMining</th>\n",
       "      <th>AI</th>\n",
       "      <th>Graphics</th>\n",
       "      <th>ImageProcessing</th>\n",
       "      <th>Cryptography</th>\n",
       "    </tr>\n",
       "  </thead>\n",
       "  <tbody>\n",
       "    <tr>\n",
       "      <th>4</th>\n",
       "      <td>Srabanti</td>\n",
       "      <td>2</td>\n",
       "      <td>23</td>\n",
       "      <td>15</td>\n",
       "      <td>21</td>\n",
       "      <td>25</td>\n",
       "      <td>15</td>\n",
       "    </tr>\n",
       "    <tr>\n",
       "      <th>3</th>\n",
       "      <td>Srabanti</td>\n",
       "      <td>1</td>\n",
       "      <td>20</td>\n",
       "      <td>17</td>\n",
       "      <td>22</td>\n",
       "      <td>24</td>\n",
       "      <td>19</td>\n",
       "    </tr>\n",
       "    <tr>\n",
       "      <th>5</th>\n",
       "      <td>Srabanti</td>\n",
       "      <td>3</td>\n",
       "      <td>22</td>\n",
       "      <td>18</td>\n",
       "      <td>19</td>\n",
       "      <td>23</td>\n",
       "      <td>13</td>\n",
       "    </tr>\n",
       "    <tr>\n",
       "      <th>11</th>\n",
       "      <td>Mishti</td>\n",
       "      <td>3</td>\n",
       "      <td>17</td>\n",
       "      <td>18</td>\n",
       "      <td>20</td>\n",
       "      <td>25</td>\n",
       "      <td>20</td>\n",
       "    </tr>\n",
       "    <tr>\n",
       "      <th>6</th>\n",
       "      <td>Ashravy</td>\n",
       "      <td>1</td>\n",
       "      <td>23</td>\n",
       "      <td>19</td>\n",
       "      <td>20</td>\n",
       "      <td>15</td>\n",
       "      <td>22</td>\n",
       "    </tr>\n",
       "    <tr>\n",
       "      <th>2</th>\n",
       "      <td>Suci</td>\n",
       "      <td>3</td>\n",
       "      <td>14</td>\n",
       "      <td>19</td>\n",
       "      <td>15</td>\n",
       "      <td>24</td>\n",
       "      <td>23</td>\n",
       "    </tr>\n",
       "    <tr>\n",
       "      <th>1</th>\n",
       "      <td>Suci</td>\n",
       "      <td>2</td>\n",
       "      <td>21</td>\n",
       "      <td>20</td>\n",
       "      <td>17</td>\n",
       "      <td>22</td>\n",
       "      <td>24</td>\n",
       "    </tr>\n",
       "    <tr>\n",
       "      <th>0</th>\n",
       "      <td>Suci</td>\n",
       "      <td>1</td>\n",
       "      <td>22</td>\n",
       "      <td>21</td>\n",
       "      <td>18</td>\n",
       "      <td>20</td>\n",
       "      <td>21</td>\n",
       "    </tr>\n",
       "    <tr>\n",
       "      <th>10</th>\n",
       "      <td>Mishti</td>\n",
       "      <td>2</td>\n",
       "      <td>18</td>\n",
       "      <td>21</td>\n",
       "      <td>25</td>\n",
       "      <td>24</td>\n",
       "      <td>23</td>\n",
       "    </tr>\n",
       "    <tr>\n",
       "      <th>7</th>\n",
       "      <td>Ashravy</td>\n",
       "      <td>2</td>\n",
       "      <td>24</td>\n",
       "      <td>22</td>\n",
       "      <td>24</td>\n",
       "      <td>17</td>\n",
       "      <td>21</td>\n",
       "    </tr>\n",
       "    <tr>\n",
       "      <th>9</th>\n",
       "      <td>Mishti</td>\n",
       "      <td>1</td>\n",
       "      <td>15</td>\n",
       "      <td>22</td>\n",
       "      <td>25</td>\n",
       "      <td>22</td>\n",
       "      <td>22</td>\n",
       "    </tr>\n",
       "    <tr>\n",
       "      <th>8</th>\n",
       "      <td>Ashravy</td>\n",
       "      <td>3</td>\n",
       "      <td>12</td>\n",
       "      <td>25</td>\n",
       "      <td>19</td>\n",
       "      <td>21</td>\n",
       "      <td>23</td>\n",
       "    </tr>\n",
       "  </tbody>\n",
       "</table>\n",
       "</div>"
      ],
      "text/plain": [
       "        Name  UnitTest  DataMining  AI  Graphics  ImageProcessing  \\\n",
       "4   Srabanti         2          23  15        21               25   \n",
       "3   Srabanti         1          20  17        22               24   \n",
       "5   Srabanti         3          22  18        19               23   \n",
       "11    Mishti         3          17  18        20               25   \n",
       "6    Ashravy         1          23  19        20               15   \n",
       "2       Suci         3          14  19        15               24   \n",
       "1       Suci         2          21  20        17               22   \n",
       "0       Suci         1          22  21        18               20   \n",
       "10    Mishti         2          18  21        25               24   \n",
       "7    Ashravy         2          24  22        24               17   \n",
       "9     Mishti         1          15  22        25               22   \n",
       "8    Ashravy         3          12  25        19               21   \n",
       "\n",
       "    Cryptography  \n",
       "4             15  \n",
       "3             19  \n",
       "5             13  \n",
       "11            20  \n",
       "6             22  \n",
       "2             23  \n",
       "1             24  \n",
       "0             21  \n",
       "10            23  \n",
       "7             21  \n",
       "9             22  \n",
       "8             23  "
      ]
     },
     "execution_count": 91,
     "metadata": {},
     "output_type": "execute_result"
    }
   ],
   "source": [
    "data.sort_values(by=['AI','ImageProcessing'])"
   ]
  },
  {
   "cell_type": "code",
   "execution_count": 106,
   "id": "83617731-d881-4e0d-a4f7-4c3c28bc3a71",
   "metadata": {},
   "outputs": [
    {
     "data": {
      "text/plain": [
       "<pandas.core.groupby.generic.DataFrameGroupBy object at 0x0000023ABB510470>"
      ]
     },
     "execution_count": 106,
     "metadata": {},
     "output_type": "execute_result"
    }
   ],
   "source": [
    "group=data.groupby(['Name'])\n",
    "group"
   ]
  },
  {
   "cell_type": "markdown",
   "id": "598ba332-e0e0-458a-9667-1894eb28b280",
   "metadata": {},
   "source": [
    "# Group By"
   ]
  },
  {
   "cell_type": "code",
   "execution_count": 107,
   "id": "95a8b81c-e16c-4b8d-ae94-2ee0a4f1aca2",
   "metadata": {},
   "outputs": [
    {
     "data": {
      "text/html": [
       "<div>\n",
       "<style scoped>\n",
       "    .dataframe tbody tr th:only-of-type {\n",
       "        vertical-align: middle;\n",
       "    }\n",
       "\n",
       "    .dataframe tbody tr th {\n",
       "        vertical-align: top;\n",
       "    }\n",
       "\n",
       "    .dataframe thead th {\n",
       "        text-align: right;\n",
       "    }\n",
       "</style>\n",
       "<table border=\"1\" class=\"dataframe\">\n",
       "  <thead>\n",
       "    <tr style=\"text-align: right;\">\n",
       "      <th></th>\n",
       "      <th>UnitTest</th>\n",
       "      <th>DataMining</th>\n",
       "      <th>AI</th>\n",
       "      <th>Graphics</th>\n",
       "      <th>ImageProcessing</th>\n",
       "      <th>Cryptography</th>\n",
       "    </tr>\n",
       "    <tr>\n",
       "      <th>Name</th>\n",
       "      <th></th>\n",
       "      <th></th>\n",
       "      <th></th>\n",
       "      <th></th>\n",
       "      <th></th>\n",
       "      <th></th>\n",
       "    </tr>\n",
       "  </thead>\n",
       "  <tbody>\n",
       "    <tr>\n",
       "      <th>Ashravy</th>\n",
       "      <td>1</td>\n",
       "      <td>23</td>\n",
       "      <td>19</td>\n",
       "      <td>20</td>\n",
       "      <td>15</td>\n",
       "      <td>22</td>\n",
       "    </tr>\n",
       "    <tr>\n",
       "      <th>Mishti</th>\n",
       "      <td>1</td>\n",
       "      <td>15</td>\n",
       "      <td>22</td>\n",
       "      <td>25</td>\n",
       "      <td>22</td>\n",
       "      <td>22</td>\n",
       "    </tr>\n",
       "    <tr>\n",
       "      <th>Srabanti</th>\n",
       "      <td>1</td>\n",
       "      <td>20</td>\n",
       "      <td>17</td>\n",
       "      <td>22</td>\n",
       "      <td>24</td>\n",
       "      <td>19</td>\n",
       "    </tr>\n",
       "    <tr>\n",
       "      <th>Suci</th>\n",
       "      <td>1</td>\n",
       "      <td>22</td>\n",
       "      <td>21</td>\n",
       "      <td>18</td>\n",
       "      <td>20</td>\n",
       "      <td>21</td>\n",
       "    </tr>\n",
       "  </tbody>\n",
       "</table>\n",
       "</div>"
      ],
      "text/plain": [
       "          UnitTest  DataMining  AI  Graphics  ImageProcessing  Cryptography\n",
       "Name                                                                       \n",
       "Ashravy          1          23  19        20               15            22\n",
       "Mishti           1          15  22        25               22            22\n",
       "Srabanti         1          20  17        22               24            19\n",
       "Suci             1          22  21        18               20            21"
      ]
     },
     "execution_count": 107,
     "metadata": {},
     "output_type": "execute_result"
    }
   ],
   "source": [
    "group.first()"
   ]
  },
  {
   "cell_type": "code",
   "execution_count": 108,
   "id": "42ae80a7-4c19-43c9-bd6d-e41f1b4737de",
   "metadata": {},
   "outputs": [
    {
     "name": "stderr",
     "output_type": "stream",
     "text": [
      "C:\\Users\\ASUS\\AppData\\Local\\Temp\\ipykernel_1568\\310802690.py:1: FutureWarning: When grouping with a length-1 list-like, you will need to pass a length-1 tuple to get_group in a future version of pandas. Pass `(name,)` instead of `name` to silence this warning.\n",
      "  group.get_group('Suci')\n"
     ]
    },
    {
     "data": {
      "text/html": [
       "<div>\n",
       "<style scoped>\n",
       "    .dataframe tbody tr th:only-of-type {\n",
       "        vertical-align: middle;\n",
       "    }\n",
       "\n",
       "    .dataframe tbody tr th {\n",
       "        vertical-align: top;\n",
       "    }\n",
       "\n",
       "    .dataframe thead th {\n",
       "        text-align: right;\n",
       "    }\n",
       "</style>\n",
       "<table border=\"1\" class=\"dataframe\">\n",
       "  <thead>\n",
       "    <tr style=\"text-align: right;\">\n",
       "      <th></th>\n",
       "      <th>Name</th>\n",
       "      <th>UnitTest</th>\n",
       "      <th>DataMining</th>\n",
       "      <th>AI</th>\n",
       "      <th>Graphics</th>\n",
       "      <th>ImageProcessing</th>\n",
       "      <th>Cryptography</th>\n",
       "    </tr>\n",
       "  </thead>\n",
       "  <tbody>\n",
       "    <tr>\n",
       "      <th>0</th>\n",
       "      <td>Suci</td>\n",
       "      <td>1</td>\n",
       "      <td>22</td>\n",
       "      <td>21</td>\n",
       "      <td>18</td>\n",
       "      <td>20</td>\n",
       "      <td>21</td>\n",
       "    </tr>\n",
       "    <tr>\n",
       "      <th>1</th>\n",
       "      <td>Suci</td>\n",
       "      <td>2</td>\n",
       "      <td>21</td>\n",
       "      <td>20</td>\n",
       "      <td>17</td>\n",
       "      <td>22</td>\n",
       "      <td>24</td>\n",
       "    </tr>\n",
       "    <tr>\n",
       "      <th>2</th>\n",
       "      <td>Suci</td>\n",
       "      <td>3</td>\n",
       "      <td>14</td>\n",
       "      <td>19</td>\n",
       "      <td>15</td>\n",
       "      <td>24</td>\n",
       "      <td>23</td>\n",
       "    </tr>\n",
       "  </tbody>\n",
       "</table>\n",
       "</div>"
      ],
      "text/plain": [
       "   Name  UnitTest  DataMining  AI  Graphics  ImageProcessing  Cryptography\n",
       "0  Suci         1          22  21        18               20            21\n",
       "1  Suci         2          21  20        17               22            24\n",
       "2  Suci         3          14  19        15               24            23"
      ]
     },
     "execution_count": 108,
     "metadata": {},
     "output_type": "execute_result"
    }
   ],
   "source": [
    "group.get_group('Suci')"
   ]
  },
  {
   "cell_type": "code",
   "execution_count": 109,
   "id": "8c3dd458-23e7-400c-ab9b-7a9d23d13382",
   "metadata": {},
   "outputs": [
    {
     "name": "stderr",
     "output_type": "stream",
     "text": [
      "C:\\Users\\ASUS\\AppData\\Local\\Temp\\ipykernel_1568\\310802690.py:1: FutureWarning: When grouping with a length-1 list-like, you will need to pass a length-1 tuple to get_group in a future version of pandas. Pass `(name,)` instead of `name` to silence this warning.\n",
      "  group.get_group('Suci')\n"
     ]
    },
    {
     "data": {
      "text/html": [
       "<div>\n",
       "<style scoped>\n",
       "    .dataframe tbody tr th:only-of-type {\n",
       "        vertical-align: middle;\n",
       "    }\n",
       "\n",
       "    .dataframe tbody tr th {\n",
       "        vertical-align: top;\n",
       "    }\n",
       "\n",
       "    .dataframe thead th {\n",
       "        text-align: right;\n",
       "    }\n",
       "</style>\n",
       "<table border=\"1\" class=\"dataframe\">\n",
       "  <thead>\n",
       "    <tr style=\"text-align: right;\">\n",
       "      <th></th>\n",
       "      <th>Name</th>\n",
       "      <th>UnitTest</th>\n",
       "      <th>DataMining</th>\n",
       "      <th>AI</th>\n",
       "      <th>Graphics</th>\n",
       "      <th>ImageProcessing</th>\n",
       "      <th>Cryptography</th>\n",
       "    </tr>\n",
       "  </thead>\n",
       "  <tbody>\n",
       "    <tr>\n",
       "      <th>0</th>\n",
       "      <td>Suci</td>\n",
       "      <td>1</td>\n",
       "      <td>22</td>\n",
       "      <td>21</td>\n",
       "      <td>18</td>\n",
       "      <td>20</td>\n",
       "      <td>21</td>\n",
       "    </tr>\n",
       "    <tr>\n",
       "      <th>1</th>\n",
       "      <td>Suci</td>\n",
       "      <td>2</td>\n",
       "      <td>21</td>\n",
       "      <td>20</td>\n",
       "      <td>17</td>\n",
       "      <td>22</td>\n",
       "      <td>24</td>\n",
       "    </tr>\n",
       "    <tr>\n",
       "      <th>2</th>\n",
       "      <td>Suci</td>\n",
       "      <td>3</td>\n",
       "      <td>14</td>\n",
       "      <td>19</td>\n",
       "      <td>15</td>\n",
       "      <td>24</td>\n",
       "      <td>23</td>\n",
       "    </tr>\n",
       "  </tbody>\n",
       "</table>\n",
       "</div>"
      ],
      "text/plain": [
       "   Name  UnitTest  DataMining  AI  Graphics  ImageProcessing  Cryptography\n",
       "0  Suci         1          22  21        18               20            21\n",
       "1  Suci         2          21  20        17               22            24\n",
       "2  Suci         3          14  19        15               24            23"
      ]
     },
     "execution_count": 109,
     "metadata": {},
     "output_type": "execute_result"
    }
   ],
   "source": [
    "group.get_group('Suci')"
   ]
  },
  {
   "cell_type": "code",
   "execution_count": null,
   "id": "2805af15-b470-4a23-b3db-1c62971d33c5",
   "metadata": {},
   "outputs": [],
   "source": []
  }
 ],
 "metadata": {
  "kernelspec": {
   "display_name": "Python 3 (ipykernel)",
   "language": "python",
   "name": "python3"
  },
  "language_info": {
   "codemirror_mode": {
    "name": "ipython",
    "version": 3
   },
   "file_extension": ".py",
   "mimetype": "text/x-python",
   "name": "python",
   "nbconvert_exporter": "python",
   "pygments_lexer": "ipython3",
   "version": "3.12.3"
  }
 },
 "nbformat": 4,
 "nbformat_minor": 5
}
